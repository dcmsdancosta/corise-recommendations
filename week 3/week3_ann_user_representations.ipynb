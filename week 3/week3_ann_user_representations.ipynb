{
  "cells": [
    {
      "cell_type": "code",
      "execution_count": null,
      "metadata": {
        "colab": {
          "base_uri": "https://localhost:8080/"
        },
        "id": "a424b415-b8ef-47b3-84ee-7c40332e01ef",
        "outputId": "16b92b30-df4d-4f0e-8476-04ee710119e7"
      },
      "outputs": [
        {
          "name": "stdout",
          "output_type": "stream",
          "text": [
            "Looking in indexes: https://pypi.org/simple, https://us-python.pkg.dev/colab-wheels/public/simple/\n",
            "Collecting faiss-cpu\n",
            "  Downloading faiss_cpu-1.7.2-cp37-cp37m-manylinux_2_17_x86_64.manylinux2014_x86_64.whl (8.6 MB)\n",
            "\u001b[K     |████████████████████████████████| 8.6 MB 15.5 MB/s \n",
            "\u001b[?25hInstalling collected packages: faiss-cpu\n",
            "Successfully installed faiss-cpu-1.7.2\n"
          ]
        }
      ],
      "source": [
        "!pip install faiss-cpu --no-cache"
      ],
      "id": "a424b415-b8ef-47b3-84ee-7c40332e01ef"
    },
    {
      "cell_type": "code",
      "execution_count": null,
      "metadata": {
        "id": "837dcaa9-cc0b-4345-bbee-3a09683decf9"
      },
      "outputs": [],
      "source": [
        "import pickle\n",
        "import faiss\n",
        "import numpy as np"
      ],
      "id": "837dcaa9-cc0b-4345-bbee-3a09683decf9"
    },
    {
      "cell_type": "markdown",
      "metadata": {
        "id": "41f1f7cb-9441-4fe1-962e-9e4cb3e3c192"
      },
      "source": [
        "# **Welcome to week 3 project!**\n",
        "\n",
        "Congratulations on making it to week 3! 👏 In the first week of this course, we covered the basics of how to design personalized recommendation systems. We then provided some system design examples for large scale recommenders from corporations like Spotify and YouTube, as well as techniques for candidate generation, specifically the two-tower model being used at Twitter and Pinterest.\n",
        "\n",
        "Last week, we covered details of ML approaches for recommendations: including multi-task recommenders and contextual bandits.\n",
        "\n",
        "In week 3, we covered various techniques for learning user representations.\n",
        "\n",
        "In this week's project, we will touch upon two key aspects related to representations:\n",
        "1. How do we query large amount of vectors in efficient time.\n",
        "2. How can we infer various user representations and see what their impact is on downstream task.\n",
        "\n",
        "Lets begin with Part A, which tells us how we could handle a large number of candidate items or user representations in an efficient manner. \n"
      ],
      "id": "41f1f7cb-9441-4fe1-962e-9e4cb3e3c192"
    },
    {
      "cell_type": "markdown",
      "metadata": {
        "id": "d0e01328-6834-4b11-85c1-03867e1d4860"
      },
      "source": [
        "# Part A: Approximate nearest neighbor search\n",
        "\n",
        "Often we are interested in finding nearest neighbors in a large space of vectors. To store embeddings for 400 million users and over 100 million items and querying them in real time is a challenging task. This is where approximate nearest neighbor approaches step in to help. Annoy, Faiss, ScaNN are typical libraries that are used for efficient vector similarity search at scale. They implement algorithms that search in sets of vectors of any size, up to ones that possibly do not fit in RAM.\n",
        "\n",
        "In the first part of this week's project, we will simulate embeddings of 1 million items and try to find k-nearest neighbours for an item of interest. We will implement a vanilla search function to fetch the top-k nearest neighbors and estimate the time it takes for us to do so. We will then compare this with FAISS -- Facebook's nearest neighbour search library, and compare the time it takes for us to get nearest neighbours from FAISS versus our own implementation."
      ],
      "id": "d0e01328-6834-4b11-85c1-03867e1d4860"
    },
    {
      "cell_type": "markdown",
      "metadata": {
        "id": "3fa2b438-be53-4f39-b990-859046a4a560"
      },
      "source": [
        "Lets first generate a simulated dataset of embeddings of 1 million items."
      ],
      "id": "3fa2b438-be53-4f39-b990-859046a4a560"
    },
    {
      "cell_type": "code",
      "execution_count": null,
      "metadata": {
        "id": "8c36fc8b-a032-4b48-bbeb-3bff46624615"
      },
      "outputs": [],
      "source": [
        "d = 64                           # dimension\n",
        "nb = 1000000                     # database size\n",
        "nq = 10000                       # nb of queries\n",
        "np.random.seed(1234)             # make reproducible\n",
        "xb = np.random.random((nb, d)).astype('float32')\n",
        "xq = np.random.random((nq, d)).astype('float32')"
      ],
      "id": "8c36fc8b-a032-4b48-bbeb-3bff46624615"
    },
    {
      "cell_type": "markdown",
      "metadata": {
        "id": "142c00a5-f36b-4a5f-9e27-4a3e38b467d7"
      },
      "source": [
        "Now that we have these items, lets take up the goal of finding the top-5 items closest to this specific item. Your goal is to implement your function to estimate the top-5 items and print the average distance of these top 5 items to the query item."
      ],
      "id": "142c00a5-f36b-4a5f-9e27-4a3e38b467d7"
    },
    {
      "cell_type": "code",
      "execution_count": null,
      "metadata": {
        "id": "b2dd70b9-8d2c-4134-b866-ab09af43a47d"
      },
      "outputs": [],
      "source": [
        "k=20\n",
        "query_vector = xb[2:3]"
      ],
      "id": "b2dd70b9-8d2c-4134-b866-ab09af43a47d"
    },
    {
      "cell_type": "code",
      "execution_count": null,
      "metadata": {
        "colab": {
          "base_uri": "https://localhost:8080/"
        },
        "id": "52XDI2xVESw6",
        "outputId": "da37f78c-a4a7-4e89-d260-33d4b87e4d80"
      },
      "outputs": [
        {
          "data": {
            "text/plain": [
              "array([[0.07334255, 0.0550064 , 0.3231948 , 0.5904818 , 0.8538986 ,\n",
              "        0.28706244, 0.17306723, 0.13402121, 0.9946538 , 0.17949787,\n",
              "        0.3175468 , 0.5682914 , 0.00934857, 0.9006486 , 0.97724146,\n",
              "        0.55689466, 0.08477385, 0.33300248, 0.72842866, 0.14243537,\n",
              "        0.55246896, 0.27304325, 0.9744951 , 0.6677869 , 0.2556533 ,\n",
              "        0.1083115 , 0.77618074, 0.782478  , 0.7616039 , 0.91440314,\n",
              "        0.6586228 , 0.5683676 , 0.20175569, 0.69829637, 0.9521954 ,\n",
              "        0.88996327, 0.99356735, 0.81870353, 0.54512215, 0.45125407,\n",
              "        0.89055717, 0.9732648 , 0.5934113 , 0.3660745 , 0.3230947 ,\n",
              "        0.87142324, 0.21563406, 0.7349452 , 0.3656191 , 0.8016026 ,\n",
              "        0.7827356 , 0.7013554 , 0.62277657, 0.49368265, 0.8405377 ,\n",
              "        0.712097  , 0.443909  , 0.03103486, 0.36323977, 0.7307218 ,\n",
              "        0.47556657, 0.34441698, 0.6408804 , 0.12620533]], dtype=float32)"
            ]
          },
          "execution_count": 8,
          "metadata": {},
          "output_type": "execute_result"
        }
      ],
      "source": [
        "query_vector"
      ],
      "id": "52XDI2xVESw6"
    },
    {
      "cell_type": "code",
      "execution_count": null,
      "metadata": {
        "id": "84a94ee2-3131-44c5-ba95-ec67aa675048"
      },
      "outputs": [],
      "source": [
        "from sklearn.metrics.pairwise import cosine_similarity\n",
        "def find_top_k_nn(query_vector,k):\n",
        "    \"\"\"\n",
        "    in this function, implement your definition of top-k nearest neighbours, and return the distances\n",
        "    and indices of the these top-k items.\n",
        "    \"\"\"\n",
        "    \n",
        "    dist = cosine_similarity(xb, query_vector).flatten()\n",
        "    dist_idx = dist.argsort()[:k]\n",
        "\n",
        "    return [dist[dist_idx], xb[dist_idx]]"
      ],
      "id": "84a94ee2-3131-44c5-ba95-ec67aa675048"
    },
    {
      "cell_type": "markdown",
      "metadata": {
        "id": "b8a895ce-4f0b-41a5-8243-90f18bff8d7b"
      },
      "source": [
        "With your top-k NN function implemented, call this function to get the top-k nearest neighbor items for the query_vector and print the average distance. Also, print the time it takes to run this function:"
      ],
      "id": "b8a895ce-4f0b-41a5-8243-90f18bff8d7b"
    },
    {
      "cell_type": "code",
      "execution_count": null,
      "metadata": {
        "colab": {
          "base_uri": "https://localhost:8080/"
        },
        "id": "0df9e9f8-a854-4896-9ebd-fd74bad21690",
        "outputId": "73d8f4c7-d487-4a40-f387-f5edc75ed696"
      },
      "outputs": [
        {
          "name": "stdout",
          "output_type": "stream",
          "text": [
            "distances from the k nearest neighbor fetched: [0.5788993  0.5829983  0.5856313  0.58873427 0.5916072  0.5920211\n",
            " 0.5932026  0.593537   0.5952569  0.5959099  0.59671545 0.59873235\n",
            " 0.5993372  0.6004037  0.6028122  0.60315406 0.60413516 0.6049577\n",
            " 0.60522884 0.60563225]\n",
            "indices from the k nearest neighbor fetched: [[6.8416011e-01 1.1631268e-01 9.9323446e-01 ... 2.1264829e-01\n",
            "  2.0181893e-01 6.7132503e-01]\n",
            " [9.9943626e-01 8.5109629e-02 8.8712454e-01 ... 2.1814747e-01\n",
            "  2.7580577e-01 2.9295197e-01]\n",
            " [4.1052648e-01 6.1596704e-01 3.8287145e-01 ... 7.6318130e-02\n",
            "  1.4044066e-01 8.7532490e-01]\n",
            " ...\n",
            " [3.8113996e-01 8.7203938e-01 5.0405097e-01 ... 4.8121300e-01\n",
            "  1.8070355e-01 4.9279950e-04]\n",
            " [4.6847111e-01 8.1939882e-01 9.5439112e-01 ... 7.0468587e-01\n",
            "  6.4025337e-01 8.7186593e-01]\n",
            " [8.1654483e-01 9.7935522e-01 1.6285169e-01 ... 1.5837362e-01\n",
            "  3.2589549e-01 4.8337922e-01]]\n",
            "average distance of the k- nearest neighbors fetched:  0.5959453\n",
            "CPU times: user 482 ms, sys: 259 ms, total: 740 ms\n",
            "Wall time: 428 ms\n"
          ]
        }
      ],
      "source": [
        "%%time\n",
        "D, I = find_top_k_nn(query_vector, k)\n",
        "print(\"distances from the k nearest neighbor fetched:\",D)\n",
        "print(\"indices from the k nearest neighbor fetched:\",I)\n",
        "print(\"average distance of the k- nearest neighbors fetched: \",D.mean())"
      ],
      "id": "0df9e9f8-a854-4896-9ebd-fd74bad21690"
    },
    {
      "cell_type": "markdown",
      "metadata": {
        "id": "bd4452f5-ce17-43df-95f2-e9b58e8cad5e"
      },
      "source": [
        "Now lets switch to using Faiss https://github.com/facebookresearch/faiss\n",
        "\n",
        "Faiss is a library for efficient similarity search and clustering of dense vectors. It contains algorithms that search in sets of vectors of any size, up to ones that possibly do not fit in RAM. "
      ],
      "id": "bd4452f5-ce17-43df-95f2-e9b58e8cad5e"
    },
    {
      "cell_type": "markdown",
      "metadata": {
        "id": "b6427be9-53b2-446c-851b-b2f6b7db9fa6"
      },
      "source": [
        "### Similarity search in Faiss\n",
        "\n",
        "Given a set of vectors x_i in dimension d, Faiss builds a data structure in RAM. After the structure is constructed, when given a new vector x in dimension d it performs efficiently the operation:\n",
        "\n",
        "$i = argmin_i ||x - x_i||$\n",
        "\n",
        "where ||.|| is the Euclidean distance (L2).\n",
        "\n",
        "In Faiss terms, the data structure is an index, an object that has an add method to add x_i vectors. Note that the x_i's are assumed to be fixed. Computing the argmin is the search operation on the index.\n",
        "\n",
        "### Indexes used by Faiss\n",
        "\n",
        "1. The inverted file from “Video google: A text retrieval approach to object matching in videos.”, Sivic & Zisserman, ICCV 2003. This is the key to non-exhaustive search in large datasets. Otherwise all searches would need to scan all elements in the index, which is prohibitive even if the operation to apply for each element is fast\n",
        "\n",
        "\n",
        "2. The product quantization (PQ) method from “Product quantization for nearest neighbor search”, Jégou & al., PAMI 2011. This can be seen as a lossy compression technique for high-dimensional vectors, that allows relatively accurate reconstructions and distance computations in the compressed domain.\n",
        "\n",
        "\n",
        "3. The three-level quantization (IVFADC-R aka IndexIVFPQR) method from \"Searching in one billion vectors: re-rank with source coding\", Tavenard & al., ICASSP'11."
      ],
      "id": "b6427be9-53b2-446c-851b-b2f6b7db9fa6"
    },
    {
      "cell_type": "markdown",
      "metadata": {
        "id": "3e63810d-fd22-49ca-b4bd-423ebf348c5f"
      },
      "source": [
        "We will implement these three indexes from faiss and use each of these three to search the index, and get the top-k nearest neighbour vectors, and estimate the average distance.\n",
        "\n",
        "Lets first construct the three indexes: index1, index2, index3 based on Flat index, Inverted index and product quantization techniques:"
      ],
      "id": "3e63810d-fd22-49ca-b4bd-423ebf348c5f"
    },
    {
      "cell_type": "code",
      "execution_count": null,
      "metadata": {
        "colab": {
          "base_uri": "https://localhost:8080/"
        },
        "id": "76487ec4-a020-4ccd-aa33-f6ef25869048",
        "outputId": "637d8d29-909b-42f2-e50a-10c6763ab152"
      },
      "outputs": [
        {
          "name": "stdout",
          "output_type": "stream",
          "text": [
            "total number of vectors indexed =  1000000\n",
            "CPU times: user 89.8 ms, sys: 0 ns, total: 89.8 ms\n",
            "Wall time: 88.3 ms\n"
          ]
        }
      ],
      "source": [
        "%%time\n",
        "index1 = faiss.IndexFlatL2(d)   # build the index\n",
        "index1.add(xb)                  # add vectors to the index\n",
        "print(\"total number of vectors indexed = \",index1.ntotal)"
      ],
      "id": "76487ec4-a020-4ccd-aa33-f6ef25869048"
    },
    {
      "cell_type": "code",
      "execution_count": null,
      "metadata": {
        "colab": {
          "base_uri": "https://localhost:8080/"
        },
        "id": "55447035-57e2-4938-837b-9bf20bf66ff6",
        "outputId": "e45495fc-e538-445f-8f70-1bc7ec401b52"
      },
      "outputs": [
        {
          "name": "stdout",
          "output_type": "stream",
          "text": [
            "total number of vectors indexed =  1000000\n",
            "CPU times: user 3.31 s, sys: 205 ms, total: 3.51 s\n",
            "Wall time: 1.01 s\n"
          ]
        }
      ],
      "source": [
        "%%time\n",
        "nlist = 100\n",
        "quantizer = faiss.IndexFlatL2(d)  # the other index\n",
        "index2 = faiss.IndexIVFFlat(quantizer, d, nlist, faiss.METRIC_L2)\n",
        "index2.train(xb)\n",
        "index2.add(xb)\n",
        "print(\"total number of vectors indexed = \",index2.ntotal)"
      ],
      "id": "55447035-57e2-4938-837b-9bf20bf66ff6"
    },
    {
      "cell_type": "code",
      "execution_count": null,
      "metadata": {
        "colab": {
          "base_uri": "https://localhost:8080/"
        },
        "id": "f04ebe3c-705d-49b2-aa7b-3602c111c754",
        "outputId": "22179560-d7f0-40f0-d205-27447c9a8f46"
      },
      "outputs": [
        {
          "name": "stdout",
          "output_type": "stream",
          "text": [
            "total number of vectors indexed =  1000000\n",
            "CPU times: user 57 s, sys: 723 µs, total: 57 s\n",
            "Wall time: 15 s\n"
          ]
        }
      ],
      "source": [
        "%%time\n",
        "nlist = 100\n",
        "m = 8\n",
        "k = 4\n",
        "quantizer = faiss.IndexFlatL2(d)  # this remains the same\n",
        "index3 = faiss.IndexIVFPQ(quantizer, d, nlist, m, 8)\n",
        "                                  # 8 specifies that each sub-vector is encoded as 8 bits\n",
        "index3.train(xb)\n",
        "index3.add(xb)\n",
        "print(\"total number of vectors indexed = \",index3.ntotal)"
      ],
      "id": "f04ebe3c-705d-49b2-aa7b-3602c111c754"
    },
    {
      "cell_type": "markdown",
      "metadata": {
        "id": "047a6682-f771-4672-8998-307f4cfad5f5"
      },
      "source": [
        "Now that we have these three indexes, let us query these to fetch the top-k nearest neghbour for our query_vector and compute the average distance we obtain for each.\n",
        "\n",
        "We will also time these commands, to find out the trade-off between accuracy and latency."
      ],
      "id": "047a6682-f771-4672-8998-307f4cfad5f5"
    },
    {
      "cell_type": "code",
      "execution_count": null,
      "metadata": {
        "colab": {
          "base_uri": "https://localhost:8080/"
        },
        "id": "2e54dc7d-5d15-47b2-85e4-c583f92d52a8",
        "outputId": "92f66dfe-22fa-4049-bfa6-ea61320e59c5"
      },
      "outputs": [
        {
          "name": "stdout",
          "output_type": "stream",
          "text": [
            "distances from the k nearest neighbor fetched: [[0.        4.2204943 4.3854527 4.6933837]]\n",
            "indices from the k nearest neighbor fetched: [[     2 379284 539651 400245]]\n",
            "average distance of the k- nearest neighbors fetched:  3.324833\n",
            "CPU times: user 70.4 ms, sys: 0 ns, total: 70.4 ms\n",
            "Wall time: 66.3 ms\n"
          ]
        }
      ],
      "source": [
        "%%time\n",
        "D, I = index1.search(query_vector, k)\n",
        "print(\"distances from the k nearest neighbor fetched:\", D)\n",
        "print(\"indices from the k nearest neighbor fetched:\", I)\n",
        "print(\"average distance of the k- nearest neighbors fetched: \", D.mean())"
      ],
      "id": "2e54dc7d-5d15-47b2-85e4-c583f92d52a8"
    },
    {
      "cell_type": "code",
      "execution_count": null,
      "metadata": {
        "colab": {
          "base_uri": "https://localhost:8080/"
        },
        "id": "be8f1b17-6108-41fd-814c-caa996fb731d",
        "outputId": "37dc3ba2-20dc-458b-9508-3cfead5a9810"
      },
      "outputs": [
        {
          "name": "stdout",
          "output_type": "stream",
          "text": [
            "distances from the k nearest neighbor fetched: [[0.        5.0635023 5.4133463 5.642405 ]]\n",
            "indices from the k nearest neighbor fetched: [[     2 859123 177280  74082]]\n",
            "average distance of the k- nearest neighbors fetched:  4.0298133\n",
            "CPU times: user 2.39 ms, sys: 0 ns, total: 2.39 ms\n",
            "Wall time: 1.68 ms\n"
          ]
        }
      ],
      "source": [
        "%%time\n",
        "D, I = index2.search(query_vector, k)\n",
        "print(\"distances from the k nearest neighbor fetched:\", D)\n",
        "print(\"indices from the k nearest neighbor fetched:\", I)\n",
        "print(\"average distance of the k- nearest neighbors fetched: \", D.mean())"
      ],
      "id": "be8f1b17-6108-41fd-814c-caa996fb731d"
    },
    {
      "cell_type": "code",
      "execution_count": null,
      "metadata": {
        "colab": {
          "base_uri": "https://localhost:8080/"
        },
        "id": "2b230291-517c-49c5-a634-f9d4d331e241",
        "outputId": "dec2bcb8-b0a6-47c2-95a8-967cfd182e48"
      },
      "outputs": [
        {
          "name": "stdout",
          "output_type": "stream",
          "text": [
            "distances from the k nearest neighbor fetched: [[1.1111705 5.027693  5.1296997 5.1854224]]\n",
            "indices from the k nearest neighbor fetched: [[     2 351653 703885 841943]]\n",
            "average distance of the k- nearest neighbors fetched:  4.1134963\n",
            "CPU times: user 1.35 ms, sys: 0 ns, total: 1.35 ms\n",
            "Wall time: 1.01 ms\n"
          ]
        }
      ],
      "source": [
        "%%time\n",
        "D, I = index3.search(query_vector, k)\n",
        "print(\"distances from the k nearest neighbor fetched:\", D)\n",
        "print(\"indices from the k nearest neighbor fetched:\", I)\n",
        "print(\"average distance of the k- nearest neighbors fetched: \", D.mean())"
      ],
      "id": "2b230291-517c-49c5-a634-f9d4d331e241"
    },
    {
      "cell_type": "markdown",
      "metadata": {
        "id": "c2c902e3-c9bf-408e-9052-11af5a3b069f"
      },
      "source": [
        "Running all these, we observe that the product quantization based index is an order of magnitude faster than the inverted index. In terms of accuracy, if we assume that the lower the distance the more accurate the result, FlatIndex gives us the least distance."
      ],
      "id": "c2c902e3-c9bf-408e-9052-11af5a3b069f"
    },
    {
      "cell_type": "markdown",
      "metadata": {
        "id": "044a818f-19ab-4c26-8532-922c9aa1d673"
      },
      "source": [
        "### Goal 1 for this week: Implement your k-NN function and time it\n",
        "\n",
        "The main goal for this part of the project is to implement your vanilla nearest neighbor function and fetch the closest k nearest neighbours to the query vector. Important to note that your implementation will give an exact result, i.e., your implementation will find the exact closest k vectors that will give the minimum distance to the query_vector.\n",
        "\n",
        "Please compile the results in a table, and compare the average distance obtained and the time it took to query the 1 million vectors. A nice 2D plot would also give you a good idea of the speed-accuracy trade-off involved."
      ],
      "id": "044a818f-19ab-4c26-8532-922c9aa1d673"
    },
    {
      "cell_type": "code",
      "execution_count": null,
      "metadata": {
        "colab": {
          "base_uri": "https://localhost:8080/"
        },
        "id": "2e69dd09-6a21-49a8-8ca8-4d5164a7e674",
        "outputId": "c56afa86-3387-40cf-b476-993a61d0d7df"
      },
      "outputs": [
        {
          "name": "stderr",
          "output_type": "stream",
          "text": [
            "/usr/local/lib/python3.7/dist-packages/numpy/core/_methods.py:179: RuntimeWarning: overflow encountered in reduce\n",
            "  ret = umr_sum(arr, axis, dtype, out, keepdims, where=where)\n",
            "/usr/local/lib/python3.7/dist-packages/numpy/core/_methods.py:179: RuntimeWarning: overflow encountered in reduce\n",
            "  ret = umr_sum(arr, axis, dtype, out, keepdims, where=where)\n"
          ]
        }
      ],
      "source": [
        "from datetime import datetime, timedelta\n",
        "\n",
        "k = [10, 100, 1000, 10000, 100000]\n",
        "\n",
        "def summarize_nn(query_vector, k):\n",
        "  statistics = []\n",
        "\n",
        "  start_time = datetime.now()\n",
        "  D, I = index1.search(query_vector, k)\n",
        "  delta_time = datetime.now() - start_time\n",
        "  statistics.append([\"index1\", D.mean(), k, delta_time.total_seconds()])\n",
        "\n",
        "  start_time = datetime.now()\n",
        "  D, I = index2.search(query_vector, k)\n",
        "  delta_time = datetime.now() - start_time\n",
        "  statistics.append([\"index2\", D.mean(), k, delta_time.total_seconds()])\n",
        "\n",
        "  start_time = datetime.now()\n",
        "  D, I = index3.search(query_vector, k)\n",
        "  delta_time = datetime.now() - start_time\n",
        "  statistics.append([\"index3\", D.mean(), k, delta_time.total_seconds()])\n",
        "\n",
        "\n",
        "  start_time = datetime.now()\n",
        "  D, I = find_top_k_nn(query_vector, k)\n",
        "  delta_time = datetime.now() - start_time\n",
        "  statistics.append([\"vanilla\", D.mean(), k, delta_time.total_seconds()])\n",
        "\n",
        "\n",
        "  return statistics\n",
        "\n",
        "timers = [summarize_nn(query_vector, k1) for k1 in k]"
      ],
      "id": "2e69dd09-6a21-49a8-8ca8-4d5164a7e674"
    },
    {
      "cell_type": "code",
      "execution_count": null,
      "metadata": {
        "id": "NledR_UdaYQ_"
      },
      "outputs": [],
      "source": [
        "import pandas as pd\n",
        "df_timers = pd.DataFrame.from_records([num for sublist in timers for num in sublist], columns = ['strategy', 'mean', 'no_k', 'time'])"
      ],
      "id": "NledR_UdaYQ_"
    },
    {
      "cell_type": "code",
      "execution_count": null,
      "metadata": {
        "colab": {
          "base_uri": "https://localhost:8080/",
          "height": 676
        },
        "id": "xxISXnkWdV96",
        "outputId": "98962f75-de03-4851-8dfd-77fa967a4b7e"
      },
      "outputs": [
        {
          "data": {
            "text/html": [
              "\n",
              "  <div id=\"df-4512e6dc-6d64-4d3b-bd4c-c09799034d74\">\n",
              "    <div class=\"colab-df-container\">\n",
              "      <div>\n",
              "<style scoped>\n",
              "    .dataframe tbody tr th:only-of-type {\n",
              "        vertical-align: middle;\n",
              "    }\n",
              "\n",
              "    .dataframe tbody tr th {\n",
              "        vertical-align: top;\n",
              "    }\n",
              "\n",
              "    .dataframe thead th {\n",
              "        text-align: right;\n",
              "    }\n",
              "</style>\n",
              "<table border=\"1\" class=\"dataframe\">\n",
              "  <thead>\n",
              "    <tr style=\"text-align: right;\">\n",
              "      <th></th>\n",
              "      <th>strategy</th>\n",
              "      <th>mean</th>\n",
              "      <th>no_k</th>\n",
              "      <th>time</th>\n",
              "    </tr>\n",
              "  </thead>\n",
              "  <tbody>\n",
              "    <tr>\n",
              "      <th>0</th>\n",
              "      <td>index1</td>\n",
              "      <td>4.379226</td>\n",
              "      <td>10</td>\n",
              "      <td>0.067353</td>\n",
              "    </tr>\n",
              "    <tr>\n",
              "      <th>1</th>\n",
              "      <td>index2</td>\n",
              "      <td>5.107181</td>\n",
              "      <td>10</td>\n",
              "      <td>0.000764</td>\n",
              "    </tr>\n",
              "    <tr>\n",
              "      <th>2</th>\n",
              "      <td>index3</td>\n",
              "      <td>4.856586</td>\n",
              "      <td>10</td>\n",
              "      <td>0.000149</td>\n",
              "    </tr>\n",
              "    <tr>\n",
              "      <th>3</th>\n",
              "      <td>vanilla</td>\n",
              "      <td>0.589780</td>\n",
              "      <td>10</td>\n",
              "      <td>0.451517</td>\n",
              "    </tr>\n",
              "    <tr>\n",
              "      <th>4</th>\n",
              "      <td>index1</td>\n",
              "      <td>5.491751</td>\n",
              "      <td>100</td>\n",
              "      <td>0.064116</td>\n",
              "    </tr>\n",
              "    <tr>\n",
              "      <th>5</th>\n",
              "      <td>index2</td>\n",
              "      <td>6.407772</td>\n",
              "      <td>100</td>\n",
              "      <td>0.000729</td>\n",
              "    </tr>\n",
              "    <tr>\n",
              "      <th>6</th>\n",
              "      <td>index3</td>\n",
              "      <td>5.796538</td>\n",
              "      <td>100</td>\n",
              "      <td>0.000164</td>\n",
              "    </tr>\n",
              "    <tr>\n",
              "      <th>7</th>\n",
              "      <td>vanilla</td>\n",
              "      <td>0.611289</td>\n",
              "      <td>100</td>\n",
              "      <td>0.455226</td>\n",
              "    </tr>\n",
              "    <tr>\n",
              "      <th>8</th>\n",
              "      <td>index1</td>\n",
              "      <td>6.261971</td>\n",
              "      <td>1000</td>\n",
              "      <td>0.068733</td>\n",
              "    </tr>\n",
              "    <tr>\n",
              "      <th>9</th>\n",
              "      <td>index2</td>\n",
              "      <td>7.614015</td>\n",
              "      <td>1000</td>\n",
              "      <td>0.001028</td>\n",
              "    </tr>\n",
              "    <tr>\n",
              "      <th>10</th>\n",
              "      <td>index3</td>\n",
              "      <td>6.780700</td>\n",
              "      <td>1000</td>\n",
              "      <td>0.000443</td>\n",
              "    </tr>\n",
              "    <tr>\n",
              "      <th>11</th>\n",
              "      <td>vanilla</td>\n",
              "      <td>0.635431</td>\n",
              "      <td>1000</td>\n",
              "      <td>0.460657</td>\n",
              "    </tr>\n",
              "    <tr>\n",
              "      <th>12</th>\n",
              "      <td>index1</td>\n",
              "      <td>7.175891</td>\n",
              "      <td>10000</td>\n",
              "      <td>0.074377</td>\n",
              "    </tr>\n",
              "    <tr>\n",
              "      <th>13</th>\n",
              "      <td>index2</td>\n",
              "      <td>inf</td>\n",
              "      <td>10000</td>\n",
              "      <td>0.002231</td>\n",
              "    </tr>\n",
              "    <tr>\n",
              "      <th>14</th>\n",
              "      <td>index3</td>\n",
              "      <td>inf</td>\n",
              "      <td>10000</td>\n",
              "      <td>0.001538</td>\n",
              "    </tr>\n",
              "    <tr>\n",
              "      <th>15</th>\n",
              "      <td>vanilla</td>\n",
              "      <td>0.663577</td>\n",
              "      <td>10000</td>\n",
              "      <td>0.442668</td>\n",
              "    </tr>\n",
              "    <tr>\n",
              "      <th>16</th>\n",
              "      <td>index1</td>\n",
              "      <td>8.393929</td>\n",
              "      <td>100000</td>\n",
              "      <td>0.111639</td>\n",
              "    </tr>\n",
              "    <tr>\n",
              "      <th>17</th>\n",
              "      <td>index2</td>\n",
              "      <td>inf</td>\n",
              "      <td>100000</td>\n",
              "      <td>0.009343</td>\n",
              "    </tr>\n",
              "    <tr>\n",
              "      <th>18</th>\n",
              "      <td>index3</td>\n",
              "      <td>inf</td>\n",
              "      <td>100000</td>\n",
              "      <td>0.006493</td>\n",
              "    </tr>\n",
              "    <tr>\n",
              "      <th>19</th>\n",
              "      <td>vanilla</td>\n",
              "      <td>0.698747</td>\n",
              "      <td>100000</td>\n",
              "      <td>0.519777</td>\n",
              "    </tr>\n",
              "  </tbody>\n",
              "</table>\n",
              "</div>\n",
              "      <button class=\"colab-df-convert\" onclick=\"convertToInteractive('df-4512e6dc-6d64-4d3b-bd4c-c09799034d74')\"\n",
              "              title=\"Convert this dataframe to an interactive table.\"\n",
              "              style=\"display:none;\">\n",
              "        \n",
              "  <svg xmlns=\"http://www.w3.org/2000/svg\" height=\"24px\"viewBox=\"0 0 24 24\"\n",
              "       width=\"24px\">\n",
              "    <path d=\"M0 0h24v24H0V0z\" fill=\"none\"/>\n",
              "    <path d=\"M18.56 5.44l.94 2.06.94-2.06 2.06-.94-2.06-.94-.94-2.06-.94 2.06-2.06.94zm-11 1L8.5 8.5l.94-2.06 2.06-.94-2.06-.94L8.5 2.5l-.94 2.06-2.06.94zm10 10l.94 2.06.94-2.06 2.06-.94-2.06-.94-.94-2.06-.94 2.06-2.06.94z\"/><path d=\"M17.41 7.96l-1.37-1.37c-.4-.4-.92-.59-1.43-.59-.52 0-1.04.2-1.43.59L10.3 9.45l-7.72 7.72c-.78.78-.78 2.05 0 2.83L4 21.41c.39.39.9.59 1.41.59.51 0 1.02-.2 1.41-.59l7.78-7.78 2.81-2.81c.8-.78.8-2.07 0-2.86zM5.41 20L4 18.59l7.72-7.72 1.47 1.35L5.41 20z\"/>\n",
              "  </svg>\n",
              "      </button>\n",
              "      \n",
              "  <style>\n",
              "    .colab-df-container {\n",
              "      display:flex;\n",
              "      flex-wrap:wrap;\n",
              "      gap: 12px;\n",
              "    }\n",
              "\n",
              "    .colab-df-convert {\n",
              "      background-color: #E8F0FE;\n",
              "      border: none;\n",
              "      border-radius: 50%;\n",
              "      cursor: pointer;\n",
              "      display: none;\n",
              "      fill: #1967D2;\n",
              "      height: 32px;\n",
              "      padding: 0 0 0 0;\n",
              "      width: 32px;\n",
              "    }\n",
              "\n",
              "    .colab-df-convert:hover {\n",
              "      background-color: #E2EBFA;\n",
              "      box-shadow: 0px 1px 2px rgba(60, 64, 67, 0.3), 0px 1px 3px 1px rgba(60, 64, 67, 0.15);\n",
              "      fill: #174EA6;\n",
              "    }\n",
              "\n",
              "    [theme=dark] .colab-df-convert {\n",
              "      background-color: #3B4455;\n",
              "      fill: #D2E3FC;\n",
              "    }\n",
              "\n",
              "    [theme=dark] .colab-df-convert:hover {\n",
              "      background-color: #434B5C;\n",
              "      box-shadow: 0px 1px 3px 1px rgba(0, 0, 0, 0.15);\n",
              "      filter: drop-shadow(0px 1px 2px rgba(0, 0, 0, 0.3));\n",
              "      fill: #FFFFFF;\n",
              "    }\n",
              "  </style>\n",
              "\n",
              "      <script>\n",
              "        const buttonEl =\n",
              "          document.querySelector('#df-4512e6dc-6d64-4d3b-bd4c-c09799034d74 button.colab-df-convert');\n",
              "        buttonEl.style.display =\n",
              "          google.colab.kernel.accessAllowed ? 'block' : 'none';\n",
              "\n",
              "        async function convertToInteractive(key) {\n",
              "          const element = document.querySelector('#df-4512e6dc-6d64-4d3b-bd4c-c09799034d74');\n",
              "          const dataTable =\n",
              "            await google.colab.kernel.invokeFunction('convertToInteractive',\n",
              "                                                     [key], {});\n",
              "          if (!dataTable) return;\n",
              "\n",
              "          const docLinkHtml = 'Like what you see? Visit the ' +\n",
              "            '<a target=\"_blank\" href=https://colab.research.google.com/notebooks/data_table.ipynb>data table notebook</a>'\n",
              "            + ' to learn more about interactive tables.';\n",
              "          element.innerHTML = '';\n",
              "          dataTable['output_type'] = 'display_data';\n",
              "          await google.colab.output.renderOutput(dataTable, element);\n",
              "          const docLink = document.createElement('div');\n",
              "          docLink.innerHTML = docLinkHtml;\n",
              "          element.appendChild(docLink);\n",
              "        }\n",
              "      </script>\n",
              "    </div>\n",
              "  </div>\n",
              "  "
            ],
            "text/plain": [
              "   strategy      mean    no_k      time\n",
              "0    index1  4.379226      10  0.067353\n",
              "1    index2  5.107181      10  0.000764\n",
              "2    index3  4.856586      10  0.000149\n",
              "3   vanilla  0.589780      10  0.451517\n",
              "4    index1  5.491751     100  0.064116\n",
              "5    index2  6.407772     100  0.000729\n",
              "6    index3  5.796538     100  0.000164\n",
              "7   vanilla  0.611289     100  0.455226\n",
              "8    index1  6.261971    1000  0.068733\n",
              "9    index2  7.614015    1000  0.001028\n",
              "10   index3  6.780700    1000  0.000443\n",
              "11  vanilla  0.635431    1000  0.460657\n",
              "12   index1  7.175891   10000  0.074377\n",
              "13   index2       inf   10000  0.002231\n",
              "14   index3       inf   10000  0.001538\n",
              "15  vanilla  0.663577   10000  0.442668\n",
              "16   index1  8.393929  100000  0.111639\n",
              "17   index2       inf  100000  0.009343\n",
              "18   index3       inf  100000  0.006493\n",
              "19  vanilla  0.698747  100000  0.519777"
            ]
          },
          "execution_count": 97,
          "metadata": {},
          "output_type": "execute_result"
        }
      ],
      "source": [
        "df_timers"
      ],
      "id": "xxISXnkWdV96"
    },
    {
      "cell_type": "code",
      "execution_count": null,
      "metadata": {
        "colab": {
          "base_uri": "https://localhost:8080/",
          "height": 298
        },
        "id": "uf0yQBWKf6ex",
        "outputId": "49377b68-490d-4e1f-c9ac-0804b5493824"
      },
      "outputs": [
        {
          "data": {
            "text/plain": [
              "<matplotlib.axes._subplots.AxesSubplot at 0x7fb6e9aac390>"
            ]
          },
          "execution_count": 103,
          "metadata": {},
          "output_type": "execute_result"
        },
        {
          "data": {
            "image/png": "[encoded data removed]",
            "text/plain": [
              "<Figure size 432x288 with 1 Axes>"
            ]
          },
          "metadata": {},
          "output_type": "display_data"
        }
      ],
      "source": [
        "import seaborn as sns\n",
        "import matplotlib.pyplot as plt\n",
        "\n",
        "sns.lineplot(data = df_timers, x = 'no_k', y = 'time', hue = 'strategy')"
      ],
      "id": "uf0yQBWKf6ex"
    },
    {
      "cell_type": "code",
      "execution_count": null,
      "metadata": {
        "colab": {
          "base_uri": "https://localhost:8080/",
          "height": 298
        },
        "id": "ke0yWwcOhayo",
        "outputId": "259cfba2-b0a3-4f6f-e4ef-7d188ac191c9"
      },
      "outputs": [
        {
          "data": {
            "text/plain": [
              "<matplotlib.axes._subplots.AxesSubplot at 0x7fb6e9b17790>"
            ]
          },
          "execution_count": 104,
          "metadata": {},
          "output_type": "execute_result"
        },
        {
          "data": {
            "image/png": "[encoded data removed]",
            "text/plain": [
              "<Figure size 432x288 with 1 Axes>"
            ]
          },
          "metadata": {},
          "output_type": "display_data"
        }
      ],
      "source": [
        "sns.lineplot(data = df_timers, x = 'no_k', y = 'mean', hue = 'strategy')"
      ],
      "id": "ke0yWwcOhayo"
    },
    {
      "cell_type": "markdown",
      "metadata": {
        "id": "e127987e-44f9-43b3-9219-1036edd0d14c"
      },
      "source": [
        "# Part B: User representations"
      ],
      "id": "e127987e-44f9-43b3-9219-1036edd0d14c"
    },
    {
      "cell_type": "markdown",
      "metadata": {
        "id": "13c18e33-3a62-4afe-95af-9d33ef87917c"
      },
      "source": [
        "In the second part of this week's project, we wish to understand few ways of estimating user representations, and how it impacts the performance of downstream tasks.\n",
        "\n",
        "To this end, we will work on top of our H&M dataset, and develop a few different ways of representing users.\n",
        "\n",
        "The broader framework here will be -- we fix the article representations, and fix the downstream task, and then vary the user representations and see how the performance of the downstream task changes based on different user representation techniques.\n"
      ],
      "id": "13c18e33-3a62-4afe-95af-9d33ef87917c"
    },
    {
      "cell_type": "code",
      "execution_count": 1,
      "metadata": {
        "colab": {
          "base_uri": "https://localhost:8080/"
        },
        "id": "dd824205-1569-4b54-8c48-fda93a59053d",
        "outputId": "8f2a9213-9233-471b-8533-3b5e280000fe",
        "scrolled": true
      },
      "outputs": [
        {
          "output_type": "stream",
          "name": "stdout",
          "text": [
            "Looking in indexes: https://pypi.org/simple, https://us-python.pkg.dev/colab-wheels/public/simple/\n",
            "Requirement already satisfied: lightgbm in /usr/local/lib/python3.7/dist-packages (2.2.3)\n",
            "Requirement already satisfied: numpy in /usr/local/lib/python3.7/dist-packages (from lightgbm) (1.21.6)\n",
            "Requirement already satisfied: scikit-learn in /usr/local/lib/python3.7/dist-packages (from lightgbm) (1.0.2)\n",
            "Requirement already satisfied: scipy in /usr/local/lib/python3.7/dist-packages (from lightgbm) (1.7.3)\n",
            "Requirement already satisfied: threadpoolctl>=2.0.0 in /usr/local/lib/python3.7/dist-packages (from scikit-learn->lightgbm) (3.1.0)\n",
            "Requirement already satisfied: joblib>=0.11 in /usr/local/lib/python3.7/dist-packages (from scikit-learn->lightgbm) (1.1.0)\n"
          ]
        }
      ],
      "source": [
        "!pip install lightgbm"
      ],
      "id": "dd824205-1569-4b54-8c48-fda93a59053d"
    },
    {
      "cell_type": "code",
      "execution_count": 1,
      "metadata": {
        "id": "251abdd1-1cd4-41f9-af70-23d22a1aa455"
      },
      "outputs": [],
      "source": [
        "import numpy as np # linear algebra\n",
        "import pandas as pd # data processing, CSV file I/O (e.g. pd.read_csv)\n",
        "import random\n",
        "import gc\n",
        "from sklearn.model_selection import train_test_split\n",
        "from sklearn.model_selection import StratifiedKFold\n",
        "from sklearn.model_selection import GroupShuffleSplit\n",
        "from sklearn.model_selection import GroupKFold\n",
        "from sklearn.preprocessing import LabelEncoder\n",
        "\n",
        "from sklearn.feature_extraction.text import TfidfVectorizer\n",
        "from sklearn.decomposition import TruncatedSVD\n",
        "import lightgbm as lgb\n",
        "import datetime\n",
        "import itertools\n",
        "import os\n",
        "from contextlib import redirect_stdout\n",
        "from tqdm.notebook import tqdm"
      ],
      "id": "251abdd1-1cd4-41f9-af70-23d22a1aa455"
    },
    {
      "cell_type": "markdown",
      "metadata": {
        "id": "219f3784-220e-4889-ae88-09c80f556479"
      },
      "source": [
        "While we have used neural models so far, lets try a tree based model for this task. We use LightGBM library to train the main model. Lets set up few parameters for the lightgbm model, and specify some additional parameters:"
      ],
      "id": "219f3784-220e-4889-ae88-09c80f556479"
    },
    {
      "cell_type": "code",
      "execution_count": 3,
      "metadata": {
        "id": "21e76b18-8d9e-4a1b-bf84-a929c8f16c6f"
      },
      "outputs": [],
      "source": [
        "rand = 64\n",
        "lgb_params = {\n",
        "    \"objective\": \"binary\",\n",
        "    \"boosting\": \"gbdt\",\n",
        "    \"max_depth\": -1,\n",
        "    \"num_leaves\": 40,\n",
        "    \"subsample\": 0.8,\n",
        "    \"subsample_freq\": 1,\n",
        "    \"bagging_seed\": rand,\n",
        "    \"learning_rate\": 0.05,\n",
        "    \"feature_fraction\": 0.6,\n",
        "    \"min_data_in_leaf\": 100,\n",
        "    \"lambda_l1\": 0,\n",
        "    \"lambda_l2\": 0,\n",
        "    \"random_state\": rand,\n",
        "    \"metric\": \"auc\",#\"binary_logloss\",\n",
        "    \"verbose\": -1\n",
        "}\n",
        "\n",
        "tran_dtypes = {\"t_dat\":\"str\",\n",
        "               \"customer_id\":\"str\",\n",
        "               \"article_id\":\"int\",\n",
        "               \"product_code\":\"int\",\n",
        "               \"price\":\"float\",\n",
        "               \"sales_channel_id\":\"int\"}\n",
        "art_dtypes = {\"article_id\":\"int\",\n",
        "              \"product_code\":\"int\",\n",
        "              \"product_type_no\":\"int\",\n",
        "              \"graphical_appearance_no\":\"int\",\n",
        "              \"colour_group_code\":\"int\",\n",
        "              \"department_no\":\"int\",\n",
        "              \"index_code\":\"str\",\n",
        "              \"index_group_no\":\"int\",\n",
        "              \"section_no\":\"int\",\n",
        "              \"garment_group_no\":\"int\"}\n",
        "cust_dtypes = {\"customer_id\":\"str\"}\n",
        "\n",
        "obj = \"class\" # \"class\" or \"rank\"\n",
        "N = 15000\n",
        "n_iter = 2 # num of iteration\n",
        "idx_file = \"exp1\"\n",
        "n_round = 2000\n",
        "n_splits = 1\n",
        "nobuy = 20 # num of negative samples"
      ],
      "id": "21e76b18-8d9e-4a1b-bf84-a929c8f16c6f"
    },
    {
      "cell_type": "code",
      "execution_count": 4,
      "metadata": {
        "colab": {
          "base_uri": "https://localhost:8080/"
        },
        "id": "WfwK78Msif_i",
        "outputId": "95773f20-17fb-49fa-ac3e-b95814070fef"
      },
      "outputs": [
        {
          "output_type": "stream",
          "name": "stdout",
          "text": [
            "Drive already mounted at /content/drive; to attempt to forcibly remount, call drive.mount(\"/content/drive\", force_remount=True).\n"
          ]
        }
      ],
      "source": [
        "from google.colab import drive\n",
        "drive.mount('/content/drive')\n",
        "path = 'drive/My Drive/Corise/Recommendation/'"
      ],
      "id": "WfwK78Msif_i"
    },
    {
      "cell_type": "markdown",
      "metadata": {
        "id": "3df9c2e0-af9e-406d-a9c6-c38a87347728"
      },
      "source": [
        "While we vary the user represnetations, we will keep the article representation fixed. The code below reads the article.csv file and extracts a number of features to represent articles."
      ],
      "id": "3df9c2e0-af9e-406d-a9c6-c38a87347728"
    },
    {
      "cell_type": "code",
      "execution_count": 5,
      "metadata": {
        "colab": {
          "base_uri": "https://localhost:8080/"
        },
        "id": "fb93a7cd-a637-4960-9577-08449a57b55d",
        "outputId": "42e6c2cc-b373-4ab9-ebd3-e9ee3f3300c9"
      },
      "outputs": [
        {
          "output_type": "stream",
          "name": "stderr",
          "text": [
            "/usr/local/lib/python3.7/dist-packages/sklearn/utils/validation.py:598: FutureWarning: np.matrix usage is deprecated in 1.0 and will raise a TypeError in 1.2. Please convert to a numpy array with np.asarray. For more information see: https://numpy.org/doc/stable/reference/generated/numpy.matrix.html\n",
            "  FutureWarning,\n",
            "/usr/local/lib/python3.7/dist-packages/sklearn/utils/validation.py:598: FutureWarning: np.matrix usage is deprecated in 1.0 and will raise a TypeError in 1.2. Please convert to a numpy array with np.asarray. For more information see: https://numpy.org/doc/stable/reference/generated/numpy.matrix.html\n",
            "  FutureWarning,\n"
          ]
        }
      ],
      "source": [
        "\n",
        "df = pd.read_csv(path+\"hmdata/articles.csv.zip\")\n",
        "\n",
        "## Find categorical columns\n",
        "ohe_columns = []\n",
        "total = 0\n",
        "\n",
        "for col in df.columns:\n",
        "    if df[col].dtype == \"int64\" and len(df[col].unique()) <= 500:\n",
        "        ohe_columns.append(col)\n",
        "        total += len(df[col].unique())\n",
        "        \n",
        "## Do one hot encoding of the above categorical variables\n",
        "V = pd.get_dummies(df[ohe_columns], columns=ohe_columns).values\n",
        "\n",
        "\n",
        "## Get article features\n",
        "tfidf = TfidfVectorizer(min_df=3)\n",
        "V_desc = tfidf.fit_transform(df[\"detail_desc\"].fillna(\"nodesc\"))\n",
        "\n",
        "## Represent articles as vector of size 512 - Changed to 64 d\n",
        "EMB_SIZE = 64\n",
        "V = np.hstack([V.astype(\"float32\"), V_desc.todense()])\n",
        "svd = TruncatedSVD(n_components=EMB_SIZE, random_state=0)\n",
        "svd.fit(V)\n",
        "V = svd.transform(V)\n",
        "\n",
        "np.save(\"articles.npy\", V)"
      ],
      "id": "fb93a7cd-a637-4960-9577-08449a57b55d"
    },
    {
      "cell_type": "code",
      "execution_count": 6,
      "metadata": {
        "id": "64a3715e-de70-49d4-b057-e0b674ca65ff"
      },
      "outputs": [],
      "source": [
        "def item_representation_1():\n",
        "    df_art = pd.read_csv(path+\"hmdata/articles.csv.zip\",dtype=art_dtypes)\n",
        "    le = LabelEncoder()\n",
        "    le.fit(df_art[\"index_code\"].unique())\n",
        "    df_art[\"index_code\"] = le.transform(df_art[\"index_code\"])\n",
        "    \n",
        "    dict_vec = {}\n",
        "    vec_art = np.load(\"articles.npy\")\n",
        "    df_vec = pd.concat([df_art[\"article_id\"],pd.DataFrame(vec_art)],axis=1)\n",
        "    for i in range(len(vec_art)):\n",
        "        dict_vec[df_art[\"article_id\"][i]] = vec_art[i]\n",
        "    del vec_art,df_vec\n",
        "    \n",
        "    return df_art, dict_vec\n",
        "    "
      ],
      "id": "64a3715e-de70-49d4-b057-e0b674ca65ff"
    },
    {
      "cell_type": "markdown",
      "metadata": {
        "id": "7cbe5f64-354c-451e-a9e0-eb114440f8f0"
      },
      "source": [
        "Taken together, the two cells above give us all the features we want to represent articles."
      ],
      "id": "7cbe5f64-354c-451e-a9e0-eb114440f8f0"
    },
    {
      "cell_type": "markdown",
      "metadata": {
        "id": "f0c3082e-1da7-466f-8b9f-c777c8ef63cd"
      },
      "source": [
        "Now lets define some functions to extract user representations. The different functions will contain different ways of representing users.\n",
        "\n",
        "We bootstrap by providing a simple set of features to represent users in user_representation_1(). This function returns the dataframe of user features."
      ],
      "id": "f0c3082e-1da7-466f-8b9f-c777c8ef63cd"
    },
    {
      "cell_type": "code",
      "execution_count": 7,
      "metadata": {
        "id": "5de63a95-ef6c-4796-8e59-0cb33b9b948e"
      },
      "outputs": [],
      "source": [
        "def user_representation_1():\n",
        "    df_cust = pd.read_csv(path+\"hmdata/customers.csv.zip\",dtype=cust_dtypes)\n",
        "    df_cust[\"age\"] = df_cust[\"age\"].fillna(df_cust[\"age\"].mean())\n",
        "    df_cust[[\"FN\",\"Active\"]] = df_cust[[\"FN\",\"Active\"]].fillna(0)\n",
        "    df_cust[\"club_member_status\"] = df_cust[\"club_member_status\"].apply(lambda x:1 if x == \"ACTIVE\" else 0)\n",
        "    df_cust[\"fashion_news_frequency\"] = df_cust[\"fashion_news_frequency\"].apply(lambda x:0 if x == \"NONE\" else 1)\n",
        "    df_cust = df_cust.drop([\"postal_code\"], axis=1)\n",
        "    return df_cust"
      ],
      "id": "5de63a95-ef6c-4796-8e59-0cb33b9b948e"
    },
    {
      "cell_type": "code",
      "source": [
        "import pandas as pd\n",
        "# transactions = pd.read_csv(path+'hmdata/transactions_train.csv.zip')\n"
      ],
      "metadata": {
        "id": "qP6_HU8SE3By"
      },
      "id": "qP6_HU8SE3By",
      "execution_count": 8,
      "outputs": []
    },
    {
      "cell_type": "code",
      "source": [
        "emb = pd.DataFrame(item_representation_1()[1]).transpose().reset_index().rename(columns = {'index':'article_id'})"
      ],
      "metadata": {
        "id": "bezOC2nqHVEK"
      },
      "id": "bezOC2nqHVEK",
      "execution_count": 9,
      "outputs": []
    },
    {
      "cell_type": "code",
      "source": [
        "emb"
      ],
      "metadata": {
        "colab": {
          "base_uri": "https://localhost:8080/",
          "height": 488
        },
        "id": "eELc9PNERE4b",
        "outputId": "8d8de403-db5d-4ad1-8ba0-26098da4b707"
      },
      "id": "eELc9PNERE4b",
      "execution_count": 10,
      "outputs": [
        {
          "output_type": "execute_result",
          "data": {
            "text/plain": [
              "        article_id         0         1         2         3         4  \\\n",
              "0        108775015  1.921372 -1.047886  0.189753  0.157402 -0.112829   \n",
              "1        108775044  1.210538  0.488891  1.299369  0.616601 -0.158789   \n",
              "2        108775051  0.775525  0.552348  0.870722  0.217334  0.516258   \n",
              "3        110065001  1.915290 -1.140521  0.328249  0.063993  0.011418   \n",
              "4        110065002  1.204457  0.396257  1.437865  0.523192 -0.034541   \n",
              "...            ...       ...       ...       ...       ...       ...   \n",
              "105537   953450001  1.168027 -0.932424 -0.822395  0.436844  0.049234   \n",
              "105538   953763001  2.022728 -0.952425  0.110500  0.436358  0.168511   \n",
              "105539   956217002  2.127927 -0.916463  0.164858  0.471223  0.326073   \n",
              "105540   957375001  1.618603 -1.066710 -0.300527  0.297311 -0.872726   \n",
              "105541   959461001  1.410707  0.607374  1.173719  0.325833  0.310558   \n",
              "\n",
              "               5         6         7         8  ...        54        55  \\\n",
              "0      -0.087108 -0.361128 -0.002180  0.103226  ...  0.512723 -0.424762   \n",
              "1       1.065608 -0.110556 -0.027192  0.309253  ...  0.472141 -0.384969   \n",
              "2      -0.289698  0.072334 -0.030506  0.373383  ...  0.404659 -0.428761   \n",
              "3      -0.118324 -0.574911 -0.146141  0.208998  ...  0.201481 -0.046741   \n",
              "4       1.034391 -0.324339 -0.171154  0.415025  ...  0.160898 -0.006948   \n",
              "...          ...       ...       ...       ...  ...       ...       ...   \n",
              "105537 -0.058668 -0.015248  0.162329  0.476555  ... -0.124516  0.126273   \n",
              "105538 -0.144534 -0.334911  0.618025 -0.140377  ...  0.330607 -0.057622   \n",
              "105539 -0.202532 -0.198243  0.364990 -0.376889  ... -0.212176 -0.173569   \n",
              "105540 -0.095709  0.327219 -0.371933 -0.240520  ... -0.049432  0.153507   \n",
              "105541 -0.331387  0.189396  0.444095 -0.216683  ... -0.243872 -0.182231   \n",
              "\n",
              "              56        57        58        59        60        61        62  \\\n",
              "0      -0.305908  0.052682  0.380822 -0.086538  0.312632  0.107375  0.007177   \n",
              "1      -0.255365  0.026276  0.397652 -0.085710  0.288603  0.133274  0.016227   \n",
              "2      -0.491567  0.267758  0.235903  0.003135  0.462457 -0.091297  0.098740   \n",
              "3      -0.017231  0.071506  0.019536  0.138039 -0.152496  0.034724  0.215396   \n",
              "4       0.033312  0.045100  0.036367  0.138868 -0.176526  0.060623  0.224447   \n",
              "...          ...       ...       ...       ...       ...       ...       ...   \n",
              "105537 -0.097366 -0.229293  0.179504 -0.324867  0.215485  0.020636  0.152045   \n",
              "105538  0.025850 -0.178079  0.244299  0.297519  0.822574  0.172525  0.320206   \n",
              "105539 -0.034367 -0.184579 -0.530262 -0.207035 -0.276259 -0.101701  0.006515   \n",
              "105540  0.009013 -0.013428 -0.086552 -0.000884 -0.084478 -0.015656  0.013852   \n",
              "105541 -0.242998 -0.095759 -0.580844 -0.156858 -0.143830 -0.240226  0.005572   \n",
              "\n",
              "              63  \n",
              "0      -0.318963  \n",
              "1      -0.323450  \n",
              "2      -0.298265  \n",
              "3       0.205494  \n",
              "4       0.201007  \n",
              "...          ...  \n",
              "105537 -0.307474  \n",
              "105538  0.018113  \n",
              "105539  0.182503  \n",
              "105540  0.185014  \n",
              "105541  0.196704  \n",
              "\n",
              "[105542 rows x 65 columns]"
            ],
            "text/html": [
              "\n",
              "  <div id=\"df-a1fbcadd-056a-4888-9c3a-a77c9348a3de\">\n",
              "    <div class=\"colab-df-container\">\n",
              "      <div>\n",
              "<style scoped>\n",
              "    .dataframe tbody tr th:only-of-type {\n",
              "        vertical-align: middle;\n",
              "    }\n",
              "\n",
              "    .dataframe tbody tr th {\n",
              "        vertical-align: top;\n",
              "    }\n",
              "\n",
              "    .dataframe thead th {\n",
              "        text-align: right;\n",
              "    }\n",
              "</style>\n",
              "<table border=\"1\" class=\"dataframe\">\n",
              "  <thead>\n",
              "    <tr style=\"text-align: right;\">\n",
              "      <th></th>\n",
              "      <th>article_id</th>\n",
              "      <th>0</th>\n",
              "      <th>1</th>\n",
              "      <th>2</th>\n",
              "      <th>3</th>\n",
              "      <th>4</th>\n",
              "      <th>5</th>\n",
              "      <th>6</th>\n",
              "      <th>7</th>\n",
              "      <th>8</th>\n",
              "      <th>...</th>\n",
              "      <th>54</th>\n",
              "      <th>55</th>\n",
              "      <th>56</th>\n",
              "      <th>57</th>\n",
              "      <th>58</th>\n",
              "      <th>59</th>\n",
              "      <th>60</th>\n",
              "      <th>61</th>\n",
              "      <th>62</th>\n",
              "      <th>63</th>\n",
              "    </tr>\n",
              "  </thead>\n",
              "  <tbody>\n",
              "    <tr>\n",
              "      <th>0</th>\n",
              "      <td>108775015</td>\n",
              "      <td>1.921372</td>\n",
              "      <td>-1.047886</td>\n",
              "      <td>0.189753</td>\n",
              "      <td>0.157402</td>\n",
              "      <td>-0.112829</td>\n",
              "      <td>-0.087108</td>\n",
              "      <td>-0.361128</td>\n",
              "      <td>-0.002180</td>\n",
              "      <td>0.103226</td>\n",
              "      <td>...</td>\n",
              "      <td>0.512723</td>\n",
              "      <td>-0.424762</td>\n",
              "      <td>-0.305908</td>\n",
              "      <td>0.052682</td>\n",
              "      <td>0.380822</td>\n",
              "      <td>-0.086538</td>\n",
              "      <td>0.312632</td>\n",
              "      <td>0.107375</td>\n",
              "      <td>0.007177</td>\n",
              "      <td>-0.318963</td>\n",
              "    </tr>\n",
              "    <tr>\n",
              "      <th>1</th>\n",
              "      <td>108775044</td>\n",
              "      <td>1.210538</td>\n",
              "      <td>0.488891</td>\n",
              "      <td>1.299369</td>\n",
              "      <td>0.616601</td>\n",
              "      <td>-0.158789</td>\n",
              "      <td>1.065608</td>\n",
              "      <td>-0.110556</td>\n",
              "      <td>-0.027192</td>\n",
              "      <td>0.309253</td>\n",
              "      <td>...</td>\n",
              "      <td>0.472141</td>\n",
              "      <td>-0.384969</td>\n",
              "      <td>-0.255365</td>\n",
              "      <td>0.026276</td>\n",
              "      <td>0.397652</td>\n",
              "      <td>-0.085710</td>\n",
              "      <td>0.288603</td>\n",
              "      <td>0.133274</td>\n",
              "      <td>0.016227</td>\n",
              "      <td>-0.323450</td>\n",
              "    </tr>\n",
              "    <tr>\n",
              "      <th>2</th>\n",
              "      <td>108775051</td>\n",
              "      <td>0.775525</td>\n",
              "      <td>0.552348</td>\n",
              "      <td>0.870722</td>\n",
              "      <td>0.217334</td>\n",
              "      <td>0.516258</td>\n",
              "      <td>-0.289698</td>\n",
              "      <td>0.072334</td>\n",
              "      <td>-0.030506</td>\n",
              "      <td>0.373383</td>\n",
              "      <td>...</td>\n",
              "      <td>0.404659</td>\n",
              "      <td>-0.428761</td>\n",
              "      <td>-0.491567</td>\n",
              "      <td>0.267758</td>\n",
              "      <td>0.235903</td>\n",
              "      <td>0.003135</td>\n",
              "      <td>0.462457</td>\n",
              "      <td>-0.091297</td>\n",
              "      <td>0.098740</td>\n",
              "      <td>-0.298265</td>\n",
              "    </tr>\n",
              "    <tr>\n",
              "      <th>3</th>\n",
              "      <td>110065001</td>\n",
              "      <td>1.915290</td>\n",
              "      <td>-1.140521</td>\n",
              "      <td>0.328249</td>\n",
              "      <td>0.063993</td>\n",
              "      <td>0.011418</td>\n",
              "      <td>-0.118324</td>\n",
              "      <td>-0.574911</td>\n",
              "      <td>-0.146141</td>\n",
              "      <td>0.208998</td>\n",
              "      <td>...</td>\n",
              "      <td>0.201481</td>\n",
              "      <td>-0.046741</td>\n",
              "      <td>-0.017231</td>\n",
              "      <td>0.071506</td>\n",
              "      <td>0.019536</td>\n",
              "      <td>0.138039</td>\n",
              "      <td>-0.152496</td>\n",
              "      <td>0.034724</td>\n",
              "      <td>0.215396</td>\n",
              "      <td>0.205494</td>\n",
              "    </tr>\n",
              "    <tr>\n",
              "      <th>4</th>\n",
              "      <td>110065002</td>\n",
              "      <td>1.204457</td>\n",
              "      <td>0.396257</td>\n",
              "      <td>1.437865</td>\n",
              "      <td>0.523192</td>\n",
              "      <td>-0.034541</td>\n",
              "      <td>1.034391</td>\n",
              "      <td>-0.324339</td>\n",
              "      <td>-0.171154</td>\n",
              "      <td>0.415025</td>\n",
              "      <td>...</td>\n",
              "      <td>0.160898</td>\n",
              "      <td>-0.006948</td>\n",
              "      <td>0.033312</td>\n",
              "      <td>0.045100</td>\n",
              "      <td>0.036367</td>\n",
              "      <td>0.138868</td>\n",
              "      <td>-0.176526</td>\n",
              "      <td>0.060623</td>\n",
              "      <td>0.224447</td>\n",
              "      <td>0.201007</td>\n",
              "    </tr>\n",
              "    <tr>\n",
              "      <th>...</th>\n",
              "      <td>...</td>\n",
              "      <td>...</td>\n",
              "      <td>...</td>\n",
              "      <td>...</td>\n",
              "      <td>...</td>\n",
              "      <td>...</td>\n",
              "      <td>...</td>\n",
              "      <td>...</td>\n",
              "      <td>...</td>\n",
              "      <td>...</td>\n",
              "      <td>...</td>\n",
              "      <td>...</td>\n",
              "      <td>...</td>\n",
              "      <td>...</td>\n",
              "      <td>...</td>\n",
              "      <td>...</td>\n",
              "      <td>...</td>\n",
              "      <td>...</td>\n",
              "      <td>...</td>\n",
              "      <td>...</td>\n",
              "      <td>...</td>\n",
              "    </tr>\n",
              "    <tr>\n",
              "      <th>105537</th>\n",
              "      <td>953450001</td>\n",
              "      <td>1.168027</td>\n",
              "      <td>-0.932424</td>\n",
              "      <td>-0.822395</td>\n",
              "      <td>0.436844</td>\n",
              "      <td>0.049234</td>\n",
              "      <td>-0.058668</td>\n",
              "      <td>-0.015248</td>\n",
              "      <td>0.162329</td>\n",
              "      <td>0.476555</td>\n",
              "      <td>...</td>\n",
              "      <td>-0.124516</td>\n",
              "      <td>0.126273</td>\n",
              "      <td>-0.097366</td>\n",
              "      <td>-0.229293</td>\n",
              "      <td>0.179504</td>\n",
              "      <td>-0.324867</td>\n",
              "      <td>0.215485</td>\n",
              "      <td>0.020636</td>\n",
              "      <td>0.152045</td>\n",
              "      <td>-0.307474</td>\n",
              "    </tr>\n",
              "    <tr>\n",
              "      <th>105538</th>\n",
              "      <td>953763001</td>\n",
              "      <td>2.022728</td>\n",
              "      <td>-0.952425</td>\n",
              "      <td>0.110500</td>\n",
              "      <td>0.436358</td>\n",
              "      <td>0.168511</td>\n",
              "      <td>-0.144534</td>\n",
              "      <td>-0.334911</td>\n",
              "      <td>0.618025</td>\n",
              "      <td>-0.140377</td>\n",
              "      <td>...</td>\n",
              "      <td>0.330607</td>\n",
              "      <td>-0.057622</td>\n",
              "      <td>0.025850</td>\n",
              "      <td>-0.178079</td>\n",
              "      <td>0.244299</td>\n",
              "      <td>0.297519</td>\n",
              "      <td>0.822574</td>\n",
              "      <td>0.172525</td>\n",
              "      <td>0.320206</td>\n",
              "      <td>0.018113</td>\n",
              "    </tr>\n",
              "    <tr>\n",
              "      <th>105539</th>\n",
              "      <td>956217002</td>\n",
              "      <td>2.127927</td>\n",
              "      <td>-0.916463</td>\n",
              "      <td>0.164858</td>\n",
              "      <td>0.471223</td>\n",
              "      <td>0.326073</td>\n",
              "      <td>-0.202532</td>\n",
              "      <td>-0.198243</td>\n",
              "      <td>0.364990</td>\n",
              "      <td>-0.376889</td>\n",
              "      <td>...</td>\n",
              "      <td>-0.212176</td>\n",
              "      <td>-0.173569</td>\n",
              "      <td>-0.034367</td>\n",
              "      <td>-0.184579</td>\n",
              "      <td>-0.530262</td>\n",
              "      <td>-0.207035</td>\n",
              "      <td>-0.276259</td>\n",
              "      <td>-0.101701</td>\n",
              "      <td>0.006515</td>\n",
              "      <td>0.182503</td>\n",
              "    </tr>\n",
              "    <tr>\n",
              "      <th>105540</th>\n",
              "      <td>957375001</td>\n",
              "      <td>1.618603</td>\n",
              "      <td>-1.066710</td>\n",
              "      <td>-0.300527</td>\n",
              "      <td>0.297311</td>\n",
              "      <td>-0.872726</td>\n",
              "      <td>-0.095709</td>\n",
              "      <td>0.327219</td>\n",
              "      <td>-0.371933</td>\n",
              "      <td>-0.240520</td>\n",
              "      <td>...</td>\n",
              "      <td>-0.049432</td>\n",
              "      <td>0.153507</td>\n",
              "      <td>0.009013</td>\n",
              "      <td>-0.013428</td>\n",
              "      <td>-0.086552</td>\n",
              "      <td>-0.000884</td>\n",
              "      <td>-0.084478</td>\n",
              "      <td>-0.015656</td>\n",
              "      <td>0.013852</td>\n",
              "      <td>0.185014</td>\n",
              "    </tr>\n",
              "    <tr>\n",
              "      <th>105541</th>\n",
              "      <td>959461001</td>\n",
              "      <td>1.410707</td>\n",
              "      <td>0.607374</td>\n",
              "      <td>1.173719</td>\n",
              "      <td>0.325833</td>\n",
              "      <td>0.310558</td>\n",
              "      <td>-0.331387</td>\n",
              "      <td>0.189396</td>\n",
              "      <td>0.444095</td>\n",
              "      <td>-0.216683</td>\n",
              "      <td>...</td>\n",
              "      <td>-0.243872</td>\n",
              "      <td>-0.182231</td>\n",
              "      <td>-0.242998</td>\n",
              "      <td>-0.095759</td>\n",
              "      <td>-0.580844</td>\n",
              "      <td>-0.156858</td>\n",
              "      <td>-0.143830</td>\n",
              "      <td>-0.240226</td>\n",
              "      <td>0.005572</td>\n",
              "      <td>0.196704</td>\n",
              "    </tr>\n",
              "  </tbody>\n",
              "</table>\n",
              "<p>105542 rows × 65 columns</p>\n",
              "</div>\n",
              "      <button class=\"colab-df-convert\" onclick=\"convertToInteractive('df-a1fbcadd-056a-4888-9c3a-a77c9348a3de')\"\n",
              "              title=\"Convert this dataframe to an interactive table.\"\n",
              "              style=\"display:none;\">\n",
              "        \n",
              "  <svg xmlns=\"http://www.w3.org/2000/svg\" height=\"24px\"viewBox=\"0 0 24 24\"\n",
              "       width=\"24px\">\n",
              "    <path d=\"M0 0h24v24H0V0z\" fill=\"none\"/>\n",
              "    <path d=\"M18.56 5.44l.94 2.06.94-2.06 2.06-.94-2.06-.94-.94-2.06-.94 2.06-2.06.94zm-11 1L8.5 8.5l.94-2.06 2.06-.94-2.06-.94L8.5 2.5l-.94 2.06-2.06.94zm10 10l.94 2.06.94-2.06 2.06-.94-2.06-.94-.94-2.06-.94 2.06-2.06.94z\"/><path d=\"M17.41 7.96l-1.37-1.37c-.4-.4-.92-.59-1.43-.59-.52 0-1.04.2-1.43.59L10.3 9.45l-7.72 7.72c-.78.78-.78 2.05 0 2.83L4 21.41c.39.39.9.59 1.41.59.51 0 1.02-.2 1.41-.59l7.78-7.78 2.81-2.81c.8-.78.8-2.07 0-2.86zM5.41 20L4 18.59l7.72-7.72 1.47 1.35L5.41 20z\"/>\n",
              "  </svg>\n",
              "      </button>\n",
              "      \n",
              "  <style>\n",
              "    .colab-df-container {\n",
              "      display:flex;\n",
              "      flex-wrap:wrap;\n",
              "      gap: 12px;\n",
              "    }\n",
              "\n",
              "    .colab-df-convert {\n",
              "      background-color: #E8F0FE;\n",
              "      border: none;\n",
              "      border-radius: 50%;\n",
              "      cursor: pointer;\n",
              "      display: none;\n",
              "      fill: #1967D2;\n",
              "      height: 32px;\n",
              "      padding: 0 0 0 0;\n",
              "      width: 32px;\n",
              "    }\n",
              "\n",
              "    .colab-df-convert:hover {\n",
              "      background-color: #E2EBFA;\n",
              "      box-shadow: 0px 1px 2px rgba(60, 64, 67, 0.3), 0px 1px 3px 1px rgba(60, 64, 67, 0.15);\n",
              "      fill: #174EA6;\n",
              "    }\n",
              "\n",
              "    [theme=dark] .colab-df-convert {\n",
              "      background-color: #3B4455;\n",
              "      fill: #D2E3FC;\n",
              "    }\n",
              "\n",
              "    [theme=dark] .colab-df-convert:hover {\n",
              "      background-color: #434B5C;\n",
              "      box-shadow: 0px 1px 3px 1px rgba(0, 0, 0, 0.15);\n",
              "      filter: drop-shadow(0px 1px 2px rgba(0, 0, 0, 0.3));\n",
              "      fill: #FFFFFF;\n",
              "    }\n",
              "  </style>\n",
              "\n",
              "      <script>\n",
              "        const buttonEl =\n",
              "          document.querySelector('#df-a1fbcadd-056a-4888-9c3a-a77c9348a3de button.colab-df-convert');\n",
              "        buttonEl.style.display =\n",
              "          google.colab.kernel.accessAllowed ? 'block' : 'none';\n",
              "\n",
              "        async function convertToInteractive(key) {\n",
              "          const element = document.querySelector('#df-a1fbcadd-056a-4888-9c3a-a77c9348a3de');\n",
              "          const dataTable =\n",
              "            await google.colab.kernel.invokeFunction('convertToInteractive',\n",
              "                                                     [key], {});\n",
              "          if (!dataTable) return;\n",
              "\n",
              "          const docLinkHtml = 'Like what you see? Visit the ' +\n",
              "            '<a target=\"_blank\" href=https://colab.research.google.com/notebooks/data_table.ipynb>data table notebook</a>'\n",
              "            + ' to learn more about interactive tables.';\n",
              "          element.innerHTML = '';\n",
              "          dataTable['output_type'] = 'display_data';\n",
              "          await google.colab.output.renderOutput(dataTable, element);\n",
              "          const docLink = document.createElement('div');\n",
              "          docLink.innerHTML = docLinkHtml;\n",
              "          element.appendChild(docLink);\n",
              "        }\n",
              "      </script>\n",
              "    </div>\n",
              "  </div>\n",
              "  "
            ]
          },
          "metadata": {},
          "execution_count": 10
        }
      ]
    },
    {
      "cell_type": "code",
      "execution_count": 22,
      "metadata": {
        "id": "65dbcef5-701a-4999-b696-3d871ccb485d"
      },
      "outputs": [],
      "source": [
        "import pandas as pd\n",
        "\n",
        "def user_representation_2(transactions):\n",
        "    \"\"\"\n",
        "    TODO -- compute user representations as the average\n",
        "    of the embeddings of the recently purchased articles\n",
        "    return user representation\n",
        "\n",
        "    Hint: You may find pd.DataFrame(item_representation_1()[1]).transpose() useful\n",
        "    \"\"\"\n",
        "\n",
        "    # Get recent purchased (last 3) itens for each user from transaction db\n",
        "\n",
        "    t = transactions.sort_values('t_dat').groupby('customer_id').tail(3)#.groupby('customer_id').agg({'article_id':lambda x: list(x)}).reset_index()\n",
        "    \n",
        "    emb_df = t.merge(emb, on='article_id')\n",
        "    emb_df.drop(columns=['article_id'])\n",
        "\n",
        "    emb_mean_df =  emb_df.groupby(['customer_id']).mean().reset_index().rename(columns = {'index':'customer_id'}).drop(columns=['article_id',\t'price',\t'sales_channel_id', \\\n",
        "                                                                                      'product_code', 'product_type_no',\t'graphical_appearance_no', \\\n",
        "                                                                                      'colour_group_code', 'department_no',\t'index_code','index_group_no' \\\n",
        "                                                                                      ])\n",
        "\n",
        "    df_cust = pd.read_csv(path+\"hmdata/customers.csv.zip\",dtype=cust_dtypes)\n",
        "    df_cust = df_cust.merge(emb_mean_df, on='customer_id').drop(columns=['FN','Active',\t'club_member_status',\t'fashion_news_frequency',\t'age',\t\\\n",
        "                                                                                      'postal_code',\t'section_no',\t'garment_group_no'])\n",
        "\n",
        "\n",
        "    return df_cust\n",
        "\n",
        "def user_representation_3():\n",
        "    \"\"\"\n",
        "    OPTIONAL -- compute user representations as the output\n",
        "    of the doc2vec model.\n",
        "    https://cs.stanford.edu/~quocle/paragraph_vector.pdf\n",
        "    Doc2vec model is an embedding learning method\n",
        "    that enables us to learn representations of a document.\n",
        "    We treat each user as a document, and the set of articles\n",
        "    the user has purchased as the set of words in the document.\n",
        "    \"\"\"\n",
        "    return None"
      ],
      "id": "65dbcef5-701a-4999-b696-3d871ccb485d"
    },
    {
      "cell_type": "code",
      "source": [
        "df_trans, _, _ = read_data(day_oldest = datetime.datetime(2018,3,23))"
      ],
      "metadata": {
        "id": "nNj7DWpdTbJS"
      },
      "id": "nNj7DWpdTbJS",
      "execution_count": null,
      "outputs": []
    },
    {
      "cell_type": "code",
      "source": [
        "user_representation_2(df_trans)"
      ],
      "metadata": {
        "colab": {
          "base_uri": "https://localhost:8080/",
          "height": 488
        },
        "id": "RcYu7OA7dB37",
        "outputId": "a2f4102f-25fa-4920-a31b-862697f087c9"
      },
      "id": "RcYu7OA7dB37",
      "execution_count": 23,
      "outputs": [
        {
          "output_type": "execute_result",
          "data": {
            "text/plain": [
              "                                               customer_id         0  \\\n",
              "0        00000dbacae5abe5e23885899a1fa44253a17956c6d1c3...  0.923923   \n",
              "1        0000423b00ade91418cceaf3b26c6af3dd342b51fd051e...  0.744368   \n",
              "2        000058a12d5b43e67d225668fa1f8d618c13dc232df0ca...  0.897650   \n",
              "3        00005ca1c9ed5f5146b52ac8639a40ca9d57aeff4d1bd2...  1.711610   \n",
              "4        00006413d8573cd20ed7128e53b7b13819fe5cfc2d801f...  1.310810   \n",
              "...                                                    ...       ...   \n",
              "1362276  ffffbbf78b6eaac697a8a5dfbfd2bfa8113ee5b403e474...  1.118876   \n",
              "1362277  ffffcd5046a6143d29a04fb8c424ce494a76e5cdf4fab5...  0.917542   \n",
              "1362278  ffffcf35913a0bee60e8741cb2b4e78b8a98ee5ff2e6a1...  1.242959   \n",
              "1362279  ffffd7744cebcf3aca44ae7049d2a94b87074c3d4ffe38...  0.837880   \n",
              "1362280  ffffd9ac14e89946416d80e791d064701994755c3ab686...  1.894567   \n",
              "\n",
              "                1         2         3         4         5         6         7  \\\n",
              "0        0.272776  0.613433  0.154141  0.775989 -0.384671  0.004532  0.480647   \n",
              "1        0.164035  0.537577 -0.035667  0.147976  0.130987  0.321667  0.191119   \n",
              "2       -0.000230  0.344270 -0.187274 -0.150854 -0.034199  0.411181 -0.179636   \n",
              "3       -0.894588 -0.450807  0.606224 -0.314727 -0.126163 -0.172181  0.674302   \n",
              "4       -0.395492 -0.283635  0.552219  0.376999 -0.255502 -0.004484  0.564459   \n",
              "...           ...       ...       ...       ...       ...       ...       ...   \n",
              "1362276 -0.360456 -0.260533  0.500338  0.349260 -0.525755 -0.148996  0.219566   \n",
              "1362277  0.151968  0.595728 -0.160629 -0.598936  0.263740  0.483688 -0.027377   \n",
              "1362278 -0.138726  0.464289  0.081865  0.061202 -0.224219  0.373161 -0.021002   \n",
              "1362279  0.452458  0.387183  0.212591  0.086869  0.220583  0.892065 -0.140352   \n",
              "1362280 -1.157549  0.213958  0.065870 -0.169882 -0.067752 -0.506241 -0.098272   \n",
              "\n",
              "                8  ...        54        55        56        57        58  \\\n",
              "0       -0.007913  ...  0.015836 -0.015683 -0.040464  0.018691 -0.110157   \n",
              "1       -0.099263  ... -0.046392 -0.041672 -0.107742 -0.044389 -0.006863   \n",
              "2       -0.288372  ... -0.091962 -0.027950 -0.071683  0.065115 -0.009114   \n",
              "3       -0.171148  ...  0.110671 -0.033609  0.087039 -0.033717  0.088397   \n",
              "4       -0.177729  ... -0.130027 -0.014684  0.019399 -0.139122 -0.162096   \n",
              "...           ...  ...       ...       ...       ...       ...       ...   \n",
              "1362276 -0.119706  ... -0.033285  0.008188  0.078124 -0.099302 -0.013101   \n",
              "1362277 -0.207930  ... -0.116888  0.027098 -0.043827 -0.084893 -0.093434   \n",
              "1362278 -0.301174  ... -0.047143 -0.004971 -0.213430  0.073059 -0.124968   \n",
              "1362279 -0.133322  ... -0.073592  0.014749 -0.021243 -0.079793 -0.019826   \n",
              "1362280  0.150792  ... -0.133308  0.134952  0.204457 -0.044525  0.045285   \n",
              "\n",
              "               59        60        61        62        63  \n",
              "0       -0.053363 -0.012260 -0.034994 -0.159578  0.140504  \n",
              "1       -0.059735 -0.017174  0.084604 -0.164267 -0.031348  \n",
              "2        0.233267  0.089865 -0.115082  0.039023  0.000275  \n",
              "3        0.131321 -0.156442  0.063955  0.105088  0.101218  \n",
              "4       -0.068749 -0.127530  0.028963 -0.099529 -0.019314  \n",
              "...           ...       ...       ...       ...       ...  \n",
              "1362276 -0.036994 -0.097557  0.012645 -0.056504 -0.060324  \n",
              "1362277  0.008464  0.041910  0.012410 -0.102319  0.087766  \n",
              "1362278  0.179855  0.205633 -0.012184  0.042827  0.118737  \n",
              "1362279 -0.247954  0.029249 -0.034653 -0.134574 -0.022367  \n",
              "1362280 -0.053784 -0.175330 -0.261569  0.249494 -0.310184  \n",
              "\n",
              "[1362281 rows x 65 columns]"
            ],
            "text/html": [
              "\n",
              "  <div id=\"df-4cc8fd4a-69da-4940-a53b-5c862ed33392\">\n",
              "    <div class=\"colab-df-container\">\n",
              "      <div>\n",
              "<style scoped>\n",
              "    .dataframe tbody tr th:only-of-type {\n",
              "        vertical-align: middle;\n",
              "    }\n",
              "\n",
              "    .dataframe tbody tr th {\n",
              "        vertical-align: top;\n",
              "    }\n",
              "\n",
              "    .dataframe thead th {\n",
              "        text-align: right;\n",
              "    }\n",
              "</style>\n",
              "<table border=\"1\" class=\"dataframe\">\n",
              "  <thead>\n",
              "    <tr style=\"text-align: right;\">\n",
              "      <th></th>\n",
              "      <th>customer_id</th>\n",
              "      <th>0</th>\n",
              "      <th>1</th>\n",
              "      <th>2</th>\n",
              "      <th>3</th>\n",
              "      <th>4</th>\n",
              "      <th>5</th>\n",
              "      <th>6</th>\n",
              "      <th>7</th>\n",
              "      <th>8</th>\n",
              "      <th>...</th>\n",
              "      <th>54</th>\n",
              "      <th>55</th>\n",
              "      <th>56</th>\n",
              "      <th>57</th>\n",
              "      <th>58</th>\n",
              "      <th>59</th>\n",
              "      <th>60</th>\n",
              "      <th>61</th>\n",
              "      <th>62</th>\n",
              "      <th>63</th>\n",
              "    </tr>\n",
              "  </thead>\n",
              "  <tbody>\n",
              "    <tr>\n",
              "      <th>0</th>\n",
              "      <td>00000dbacae5abe5e23885899a1fa44253a17956c6d1c3...</td>\n",
              "      <td>0.923923</td>\n",
              "      <td>0.272776</td>\n",
              "      <td>0.613433</td>\n",
              "      <td>0.154141</td>\n",
              "      <td>0.775989</td>\n",
              "      <td>-0.384671</td>\n",
              "      <td>0.004532</td>\n",
              "      <td>0.480647</td>\n",
              "      <td>-0.007913</td>\n",
              "      <td>...</td>\n",
              "      <td>0.015836</td>\n",
              "      <td>-0.015683</td>\n",
              "      <td>-0.040464</td>\n",
              "      <td>0.018691</td>\n",
              "      <td>-0.110157</td>\n",
              "      <td>-0.053363</td>\n",
              "      <td>-0.012260</td>\n",
              "      <td>-0.034994</td>\n",
              "      <td>-0.159578</td>\n",
              "      <td>0.140504</td>\n",
              "    </tr>\n",
              "    <tr>\n",
              "      <th>1</th>\n",
              "      <td>0000423b00ade91418cceaf3b26c6af3dd342b51fd051e...</td>\n",
              "      <td>0.744368</td>\n",
              "      <td>0.164035</td>\n",
              "      <td>0.537577</td>\n",
              "      <td>-0.035667</td>\n",
              "      <td>0.147976</td>\n",
              "      <td>0.130987</td>\n",
              "      <td>0.321667</td>\n",
              "      <td>0.191119</td>\n",
              "      <td>-0.099263</td>\n",
              "      <td>...</td>\n",
              "      <td>-0.046392</td>\n",
              "      <td>-0.041672</td>\n",
              "      <td>-0.107742</td>\n",
              "      <td>-0.044389</td>\n",
              "      <td>-0.006863</td>\n",
              "      <td>-0.059735</td>\n",
              "      <td>-0.017174</td>\n",
              "      <td>0.084604</td>\n",
              "      <td>-0.164267</td>\n",
              "      <td>-0.031348</td>\n",
              "    </tr>\n",
              "    <tr>\n",
              "      <th>2</th>\n",
              "      <td>000058a12d5b43e67d225668fa1f8d618c13dc232df0ca...</td>\n",
              "      <td>0.897650</td>\n",
              "      <td>-0.000230</td>\n",
              "      <td>0.344270</td>\n",
              "      <td>-0.187274</td>\n",
              "      <td>-0.150854</td>\n",
              "      <td>-0.034199</td>\n",
              "      <td>0.411181</td>\n",
              "      <td>-0.179636</td>\n",
              "      <td>-0.288372</td>\n",
              "      <td>...</td>\n",
              "      <td>-0.091962</td>\n",
              "      <td>-0.027950</td>\n",
              "      <td>-0.071683</td>\n",
              "      <td>0.065115</td>\n",
              "      <td>-0.009114</td>\n",
              "      <td>0.233267</td>\n",
              "      <td>0.089865</td>\n",
              "      <td>-0.115082</td>\n",
              "      <td>0.039023</td>\n",
              "      <td>0.000275</td>\n",
              "    </tr>\n",
              "    <tr>\n",
              "      <th>3</th>\n",
              "      <td>00005ca1c9ed5f5146b52ac8639a40ca9d57aeff4d1bd2...</td>\n",
              "      <td>1.711610</td>\n",
              "      <td>-0.894588</td>\n",
              "      <td>-0.450807</td>\n",
              "      <td>0.606224</td>\n",
              "      <td>-0.314727</td>\n",
              "      <td>-0.126163</td>\n",
              "      <td>-0.172181</td>\n",
              "      <td>0.674302</td>\n",
              "      <td>-0.171148</td>\n",
              "      <td>...</td>\n",
              "      <td>0.110671</td>\n",
              "      <td>-0.033609</td>\n",
              "      <td>0.087039</td>\n",
              "      <td>-0.033717</td>\n",
              "      <td>0.088397</td>\n",
              "      <td>0.131321</td>\n",
              "      <td>-0.156442</td>\n",
              "      <td>0.063955</td>\n",
              "      <td>0.105088</td>\n",
              "      <td>0.101218</td>\n",
              "    </tr>\n",
              "    <tr>\n",
              "      <th>4</th>\n",
              "      <td>00006413d8573cd20ed7128e53b7b13819fe5cfc2d801f...</td>\n",
              "      <td>1.310810</td>\n",
              "      <td>-0.395492</td>\n",
              "      <td>-0.283635</td>\n",
              "      <td>0.552219</td>\n",
              "      <td>0.376999</td>\n",
              "      <td>-0.255502</td>\n",
              "      <td>-0.004484</td>\n",
              "      <td>0.564459</td>\n",
              "      <td>-0.177729</td>\n",
              "      <td>...</td>\n",
              "      <td>-0.130027</td>\n",
              "      <td>-0.014684</td>\n",
              "      <td>0.019399</td>\n",
              "      <td>-0.139122</td>\n",
              "      <td>-0.162096</td>\n",
              "      <td>-0.068749</td>\n",
              "      <td>-0.127530</td>\n",
              "      <td>0.028963</td>\n",
              "      <td>-0.099529</td>\n",
              "      <td>-0.019314</td>\n",
              "    </tr>\n",
              "    <tr>\n",
              "      <th>...</th>\n",
              "      <td>...</td>\n",
              "      <td>...</td>\n",
              "      <td>...</td>\n",
              "      <td>...</td>\n",
              "      <td>...</td>\n",
              "      <td>...</td>\n",
              "      <td>...</td>\n",
              "      <td>...</td>\n",
              "      <td>...</td>\n",
              "      <td>...</td>\n",
              "      <td>...</td>\n",
              "      <td>...</td>\n",
              "      <td>...</td>\n",
              "      <td>...</td>\n",
              "      <td>...</td>\n",
              "      <td>...</td>\n",
              "      <td>...</td>\n",
              "      <td>...</td>\n",
              "      <td>...</td>\n",
              "      <td>...</td>\n",
              "      <td>...</td>\n",
              "    </tr>\n",
              "    <tr>\n",
              "      <th>1362276</th>\n",
              "      <td>ffffbbf78b6eaac697a8a5dfbfd2bfa8113ee5b403e474...</td>\n",
              "      <td>1.118876</td>\n",
              "      <td>-0.360456</td>\n",
              "      <td>-0.260533</td>\n",
              "      <td>0.500338</td>\n",
              "      <td>0.349260</td>\n",
              "      <td>-0.525755</td>\n",
              "      <td>-0.148996</td>\n",
              "      <td>0.219566</td>\n",
              "      <td>-0.119706</td>\n",
              "      <td>...</td>\n",
              "      <td>-0.033285</td>\n",
              "      <td>0.008188</td>\n",
              "      <td>0.078124</td>\n",
              "      <td>-0.099302</td>\n",
              "      <td>-0.013101</td>\n",
              "      <td>-0.036994</td>\n",
              "      <td>-0.097557</td>\n",
              "      <td>0.012645</td>\n",
              "      <td>-0.056504</td>\n",
              "      <td>-0.060324</td>\n",
              "    </tr>\n",
              "    <tr>\n",
              "      <th>1362277</th>\n",
              "      <td>ffffcd5046a6143d29a04fb8c424ce494a76e5cdf4fab5...</td>\n",
              "      <td>0.917542</td>\n",
              "      <td>0.151968</td>\n",
              "      <td>0.595728</td>\n",
              "      <td>-0.160629</td>\n",
              "      <td>-0.598936</td>\n",
              "      <td>0.263740</td>\n",
              "      <td>0.483688</td>\n",
              "      <td>-0.027377</td>\n",
              "      <td>-0.207930</td>\n",
              "      <td>...</td>\n",
              "      <td>-0.116888</td>\n",
              "      <td>0.027098</td>\n",
              "      <td>-0.043827</td>\n",
              "      <td>-0.084893</td>\n",
              "      <td>-0.093434</td>\n",
              "      <td>0.008464</td>\n",
              "      <td>0.041910</td>\n",
              "      <td>0.012410</td>\n",
              "      <td>-0.102319</td>\n",
              "      <td>0.087766</td>\n",
              "    </tr>\n",
              "    <tr>\n",
              "      <th>1362278</th>\n",
              "      <td>ffffcf35913a0bee60e8741cb2b4e78b8a98ee5ff2e6a1...</td>\n",
              "      <td>1.242959</td>\n",
              "      <td>-0.138726</td>\n",
              "      <td>0.464289</td>\n",
              "      <td>0.081865</td>\n",
              "      <td>0.061202</td>\n",
              "      <td>-0.224219</td>\n",
              "      <td>0.373161</td>\n",
              "      <td>-0.021002</td>\n",
              "      <td>-0.301174</td>\n",
              "      <td>...</td>\n",
              "      <td>-0.047143</td>\n",
              "      <td>-0.004971</td>\n",
              "      <td>-0.213430</td>\n",
              "      <td>0.073059</td>\n",
              "      <td>-0.124968</td>\n",
              "      <td>0.179855</td>\n",
              "      <td>0.205633</td>\n",
              "      <td>-0.012184</td>\n",
              "      <td>0.042827</td>\n",
              "      <td>0.118737</td>\n",
              "    </tr>\n",
              "    <tr>\n",
              "      <th>1362279</th>\n",
              "      <td>ffffd7744cebcf3aca44ae7049d2a94b87074c3d4ffe38...</td>\n",
              "      <td>0.837880</td>\n",
              "      <td>0.452458</td>\n",
              "      <td>0.387183</td>\n",
              "      <td>0.212591</td>\n",
              "      <td>0.086869</td>\n",
              "      <td>0.220583</td>\n",
              "      <td>0.892065</td>\n",
              "      <td>-0.140352</td>\n",
              "      <td>-0.133322</td>\n",
              "      <td>...</td>\n",
              "      <td>-0.073592</td>\n",
              "      <td>0.014749</td>\n",
              "      <td>-0.021243</td>\n",
              "      <td>-0.079793</td>\n",
              "      <td>-0.019826</td>\n",
              "      <td>-0.247954</td>\n",
              "      <td>0.029249</td>\n",
              "      <td>-0.034653</td>\n",
              "      <td>-0.134574</td>\n",
              "      <td>-0.022367</td>\n",
              "    </tr>\n",
              "    <tr>\n",
              "      <th>1362280</th>\n",
              "      <td>ffffd9ac14e89946416d80e791d064701994755c3ab686...</td>\n",
              "      <td>1.894567</td>\n",
              "      <td>-1.157549</td>\n",
              "      <td>0.213958</td>\n",
              "      <td>0.065870</td>\n",
              "      <td>-0.169882</td>\n",
              "      <td>-0.067752</td>\n",
              "      <td>-0.506241</td>\n",
              "      <td>-0.098272</td>\n",
              "      <td>0.150792</td>\n",
              "      <td>...</td>\n",
              "      <td>-0.133308</td>\n",
              "      <td>0.134952</td>\n",
              "      <td>0.204457</td>\n",
              "      <td>-0.044525</td>\n",
              "      <td>0.045285</td>\n",
              "      <td>-0.053784</td>\n",
              "      <td>-0.175330</td>\n",
              "      <td>-0.261569</td>\n",
              "      <td>0.249494</td>\n",
              "      <td>-0.310184</td>\n",
              "    </tr>\n",
              "  </tbody>\n",
              "</table>\n",
              "<p>1362281 rows × 65 columns</p>\n",
              "</div>\n",
              "      <button class=\"colab-df-convert\" onclick=\"convertToInteractive('df-4cc8fd4a-69da-4940-a53b-5c862ed33392')\"\n",
              "              title=\"Convert this dataframe to an interactive table.\"\n",
              "              style=\"display:none;\">\n",
              "        \n",
              "  <svg xmlns=\"http://www.w3.org/2000/svg\" height=\"24px\"viewBox=\"0 0 24 24\"\n",
              "       width=\"24px\">\n",
              "    <path d=\"M0 0h24v24H0V0z\" fill=\"none\"/>\n",
              "    <path d=\"M18.56 5.44l.94 2.06.94-2.06 2.06-.94-2.06-.94-.94-2.06-.94 2.06-2.06.94zm-11 1L8.5 8.5l.94-2.06 2.06-.94-2.06-.94L8.5 2.5l-.94 2.06-2.06.94zm10 10l.94 2.06.94-2.06 2.06-.94-2.06-.94-.94-2.06-.94 2.06-2.06.94z\"/><path d=\"M17.41 7.96l-1.37-1.37c-.4-.4-.92-.59-1.43-.59-.52 0-1.04.2-1.43.59L10.3 9.45l-7.72 7.72c-.78.78-.78 2.05 0 2.83L4 21.41c.39.39.9.59 1.41.59.51 0 1.02-.2 1.41-.59l7.78-7.78 2.81-2.81c.8-.78.8-2.07 0-2.86zM5.41 20L4 18.59l7.72-7.72 1.47 1.35L5.41 20z\"/>\n",
              "  </svg>\n",
              "      </button>\n",
              "      \n",
              "  <style>\n",
              "    .colab-df-container {\n",
              "      display:flex;\n",
              "      flex-wrap:wrap;\n",
              "      gap: 12px;\n",
              "    }\n",
              "\n",
              "    .colab-df-convert {\n",
              "      background-color: #E8F0FE;\n",
              "      border: none;\n",
              "      border-radius: 50%;\n",
              "      cursor: pointer;\n",
              "      display: none;\n",
              "      fill: #1967D2;\n",
              "      height: 32px;\n",
              "      padding: 0 0 0 0;\n",
              "      width: 32px;\n",
              "    }\n",
              "\n",
              "    .colab-df-convert:hover {\n",
              "      background-color: #E2EBFA;\n",
              "      box-shadow: 0px 1px 2px rgba(60, 64, 67, 0.3), 0px 1px 3px 1px rgba(60, 64, 67, 0.15);\n",
              "      fill: #174EA6;\n",
              "    }\n",
              "\n",
              "    [theme=dark] .colab-df-convert {\n",
              "      background-color: #3B4455;\n",
              "      fill: #D2E3FC;\n",
              "    }\n",
              "\n",
              "    [theme=dark] .colab-df-convert:hover {\n",
              "      background-color: #434B5C;\n",
              "      box-shadow: 0px 1px 3px 1px rgba(0, 0, 0, 0.15);\n",
              "      filter: drop-shadow(0px 1px 2px rgba(0, 0, 0, 0.3));\n",
              "      fill: #FFFFFF;\n",
              "    }\n",
              "  </style>\n",
              "\n",
              "      <script>\n",
              "        const buttonEl =\n",
              "          document.querySelector('#df-4cc8fd4a-69da-4940-a53b-5c862ed33392 button.colab-df-convert');\n",
              "        buttonEl.style.display =\n",
              "          google.colab.kernel.accessAllowed ? 'block' : 'none';\n",
              "\n",
              "        async function convertToInteractive(key) {\n",
              "          const element = document.querySelector('#df-4cc8fd4a-69da-4940-a53b-5c862ed33392');\n",
              "          const dataTable =\n",
              "            await google.colab.kernel.invokeFunction('convertToInteractive',\n",
              "                                                     [key], {});\n",
              "          if (!dataTable) return;\n",
              "\n",
              "          const docLinkHtml = 'Like what you see? Visit the ' +\n",
              "            '<a target=\"_blank\" href=https://colab.research.google.com/notebooks/data_table.ipynb>data table notebook</a>'\n",
              "            + ' to learn more about interactive tables.';\n",
              "          element.innerHTML = '';\n",
              "          dataTable['output_type'] = 'display_data';\n",
              "          await google.colab.output.renderOutput(dataTable, element);\n",
              "          const docLink = document.createElement('div');\n",
              "          docLink.innerHTML = docLinkHtml;\n",
              "          element.appendChild(docLink);\n",
              "        }\n",
              "      </script>\n",
              "    </div>\n",
              "  </div>\n",
              "  "
            ]
          },
          "metadata": {},
          "execution_count": 23
        }
      ]
    },
    {
      "cell_type": "markdown",
      "metadata": {
        "id": "d39b7430-bf43-4f16-b7a8-a6edbd078e1d"
      },
      "source": [
        "As part of the goal for part B of this week's project, please use the above two functions to implement the two user representation techniques mentioned in the project jumpstart.\n",
        "\n",
        "You can run the rest of the notebook for now, and come back to these functions, implement them and re-run some of the code below and use user_representation_2() (and optionally user_representation_3()) to get the appropriate user features to use to train the model for the downstream task.\n",
        "\n",
        "Lets write a function that would read the transactions data and return the dataframes for the transactions within the dates we want to consider, along with the dataframes for articles features: df_art and dict_vec."
      ],
      "id": "d39b7430-bf43-4f16-b7a8-a6edbd078e1d"
    },
    {
      "cell_type": "code",
      "execution_count": 13,
      "metadata": {
        "id": "55c3e4dd-ce84-4199-9215-06490305db3c"
      },
      "outputs": [],
      "source": [
        "def read_data(day_oldest):\n",
        "    df_trans = pd.read_csv(path+\"hmdata/transactions_train.csv.zip\",dtype=tran_dtypes)\n",
        "    df_trans[\"t_dat\"] = pd.to_datetime(df_trans[\"t_dat\"],format=\"%Y-%m-%d\")\n",
        "\n",
        "    df_trans = df_trans.query(f\"t_dat >= '{day_oldest}'\").copy()\n",
        "    df_trans = df_trans.drop_duplicates([\"customer_id\",\"article_id\",\"t_dat\"])\n",
        "    df_art,dict_vec = item_representation_1()\n",
        "    df_trans = df_trans.merge(df_art[[\"article_id\",\"product_code\",\"product_type_no\",\"graphical_appearance_no\",\"colour_group_code\",\"department_no\",\"index_code\",\"index_group_no\",\"section_no\",\"garment_group_no\"]],how=\"left\",on=\"article_id\")\n",
        "\n",
        "    return df_trans, df_art, dict_vec"
      ],
      "id": "55c3e4dd-ce84-4199-9215-06490305db3c"
    },
    {
      "cell_type": "markdown",
      "metadata": {
        "id": "4128aa41-0a7c-405c-a2c2-02a3e19678f2"
      },
      "source": [
        "Now we have all the ingredients we need -- we have a basic version of user representations and we have the article representations, and transactions data on which we can train our downstream task.\n",
        "\n",
        "The downstream task we consider is the task of predicting whether or not a user will purchase an article. This is the same task that we have been dealing with in the past 2 weeks.\n",
        "\n",
        "Lets define a train() function that will consider the start and end dates and split data based on these, generate the training data, do random negative sampling and train the model."
      ],
      "id": "4128aa41-0a7c-405c-a2c2-02a3e19678f2"
    },
    {
      "cell_type": "code",
      "execution_count": 24,
      "metadata": {
        "id": "5e0c7a4f-8e4d-42f7-b379-1ebc870375d9"
      },
      "outputs": [],
      "source": [
        "def train():\n",
        "    #### Transaction start date say it is from 2019/9/23 and say we take 1 week data\n",
        "    day_start = datetime.datetime(2019,9,23) - datetime.timedelta(days=6)\n",
        "    #### Transaction end date\n",
        "    day_end = datetime.datetime(2019,9,23) - datetime.timedelta(days=0)\n",
        "    \n",
        "    ######## Splitting data based on date ###########################\n",
        "    ####### Train date ###########################################\n",
        "    ## Let's consider the training data for 1 year\n",
        "    day_start_hist = day_start - datetime.timedelta(days=366)\n",
        "    day_end_hist = day_start - datetime.timedelta(days=1)\n",
        "    \n",
        "    df_trans, df_art, dict_vec = read_data(day_oldest = datetime.datetime(2018,9,23))\n",
        "\n",
        "    df_cust = user_representation_1()\n",
        "\n",
        "    query_date = f\"((t_dat >= '{day_start}') and (t_dat <= '{day_end}'))\"\n",
        "    top_art_all = df_trans.query(query_date ).groupby(\"article_id\")[\"t_dat\"].count().sort_values(ascending = False).index[:N].tolist()\n",
        "\n",
        "    \n",
        "    \n",
        "    \n",
        "    ############### Create training data #################################################################################\n",
        "    \n",
        "    \n",
        "    list_df_buy = []\n",
        "    list_cust =[]\n",
        "    \n",
        "    # make positive samples\n",
        "    list_df_buy = df_trans.query(f\"(t_dat >= '{day_start}') and (t_dat <= '{day_end}') and (article_id in @top_art_all)\").drop_duplicates([\"customer_id\",\"article_id\"])[[\"customer_id\",\"article_id\"]].copy()\n",
        "    list_df_buy[\"target\"] = 1\n",
        "    list_cust = list_df_buy[\"customer_id\"].unique().tolist()\n",
        "        \n",
        "        \n",
        "    # make negative samples (random selection)\n",
        "    \n",
        "    list_df_nobuy = pd.concat([pd.DataFrame({\"customer_id\":x,\"article_id\":random.sample(top_art_all,nobuy)}) for x in list_cust])\n",
        "    list_df_nobuy[\"target\"] = 0\n",
        "    list_train = pd.concat([list_df_buy,list_df_nobuy]).drop_duplicates([\"customer_id\",\"article_id\"])\n",
        "    del list_df_nobuy\n",
        "\n",
        "    # add feature\n",
        "    df_train = pd.DataFrame()\n",
        "    \n",
        "    ########## Merging item features with the transactions data ###################################################\n",
        "    list_train = list_train.merge(df_art[[\"article_id\",\"product_code\",\"product_type_no\",\"graphical_appearance_no\",\"colour_group_code\",\"department_no\",\"index_code\",\"index_group_no\",\"section_no\",\"garment_group_no\"]],how=\"left\",on=\"article_id\")\n",
        "    \n",
        "    ######### Merging customer data with the above data ######################################\n",
        "    list_train = list_train.merge(df_cust, how=\"left\", on=\"customer_id\")\n",
        "    df_train = df_train.append(list_train)\n",
        "    del list_train\n",
        "    gc.collect()\n",
        "    \n",
        "    \n",
        "    # now that we have all the data in place, lets train the lgbm model\n",
        "\n",
        "    # train lgbm\n",
        "    X_train = df_train.drop([\"customer_id\",\"product_code\",\"product_type_no\",\"department_no\",\"target\"],axis=1)\n",
        "    y_train = df_train[\"target\"]\n",
        "    del df_train\n",
        "    \n",
        "    X_tr, X_va, y_tr, y_va = train_test_split(X_train,y_train,stratify = y_train)\n",
        "    d_tr = lgb.Dataset(X_tr, label=y_tr,  free_raw_data=False)\n",
        "    d_va = lgb.Dataset(X_va, label=y_va,  free_raw_data=False)\n",
        "    lgbm_model = lgb.train(lgb_params, train_set=d_tr, num_boost_round=n_round, valid_sets=[d_tr,d_va], verbose_eval=500, early_stopping_rounds=100)\n",
        "    \n",
        "    # save model\n",
        "    pd.to_pickle(lgbm_model,\"lgbm_model.pkl\")\n",
        "    del X_train, y_train, X_tr, X_va, y_tr, y_va, d_tr, d_va\n",
        "    gc.collect()\n",
        "    del df_trans, df_art, df_cust\n",
        "    gc.collect()\n",
        "    return 0"
      ],
      "id": "5e0c7a4f-8e4d-42f7-b379-1ebc870375d9"
    },
    {
      "cell_type": "code",
      "execution_count": 25,
      "metadata": {
        "colab": {
          "base_uri": "https://localhost:8080/"
        },
        "id": "afb1b72d-7f50-4dc8-a44c-95dcf9c537d2",
        "outputId": "fbb1f00e-ff24-4b4f-d3b8-e2476bed4817"
      },
      "outputs": [
        {
          "output_type": "stream",
          "name": "stdout",
          "text": [
            "Training until validation scores don't improve for 100 rounds.\n",
            "[500]\ttraining's auc: 0.809713\tvalid_1's auc: 0.805101\n",
            "[1000]\ttraining's auc: 0.82428\tvalid_1's auc: 0.815819\n",
            "[1500]\ttraining's auc: 0.833149\tvalid_1's auc: 0.821396\n",
            "[2000]\ttraining's auc: 0.839357\tvalid_1's auc: 0.824523\n",
            "Did not meet early stopping. Best iteration is:\n",
            "[2000]\ttraining's auc: 0.839357\tvalid_1's auc: 0.824523\n"
          ]
        },
        {
          "output_type": "execute_result",
          "data": {
            "text/plain": [
              "0"
            ]
          },
          "metadata": {},
          "execution_count": 25
        }
      ],
      "source": [
        "train()"
      ],
      "id": "afb1b72d-7f50-4dc8-a44c-95dcf9c537d2"
    },
    {
      "cell_type": "markdown",
      "metadata": {
        "id": "2a4b63a5-56ee-4bd2-b7b8-2aebb5299b31"
      },
      "source": [
        "We have now trained a light gbm model using user_representation_1() function as the user representation technique. The key goals for part B of this week's project are to implement user_representation_2(), where we represent the user as the average of embeddings of their recently purchased articles.\n"
      ],
      "id": "2a4b63a5-56ee-4bd2-b7b8-2aebb5299b31"
    },
    {
      "cell_type": "markdown",
      "metadata": {
        "id": "4940f48d-08e5-4130-be2c-d15622012620"
      },
      "source": [
        "Once you have implemented the function, please note to change the line:\n",
        "\n",
        "df_cust = user_representation_1()\n",
        "\n",
        "to the appropriate function name and run re-train the model. Please report the performance numbers with each of the two user representations.\n",
        "\n",
        "This should complete the week 3 project!"
      ],
      "id": "4940f48d-08e5-4130-be2c-d15622012620"
    },
    {
      "cell_type": "code",
      "source": [
        "def train():\n",
        "    #### Transaction start date say it is from 2019/9/23 and say we take 1 week data\n",
        "    day_start = datetime.datetime(2019,9,23) - datetime.timedelta(days=6)\n",
        "    #### Transaction end date\n",
        "    day_end = datetime.datetime(2019,9,23) - datetime.timedelta(days=0)\n",
        "    \n",
        "    ######## Splitting data based on date ###########################\n",
        "    ####### Train date ###########################################\n",
        "    ## Let's consider the training data for 1 year\n",
        "    day_start_hist = day_start - datetime.timedelta(days=366)\n",
        "    day_end_hist = day_start - datetime.timedelta(days=1)\n",
        "    \n",
        "    df_trans, df_art, dict_vec = read_data(day_oldest = datetime.datetime(2018,9,23))\n",
        "\n",
        "    df_cust = user_representation_2(df_trans)\n",
        "\n",
        "    query_date = f\"((t_dat >= '{day_start}') and (t_dat <= '{day_end}'))\"\n",
        "    top_art_all = df_trans.query(query_date ).groupby(\"article_id\")[\"t_dat\"].count().sort_values(ascending = False).index[:N].tolist()\n",
        "\n",
        "    \n",
        "    \n",
        "    \n",
        "    ############### Create training data #################################################################################\n",
        "    \n",
        "    \n",
        "    list_df_buy = []\n",
        "    list_cust =[]\n",
        "    \n",
        "    # make positive samples\n",
        "    list_df_buy = df_trans.query(f\"(t_dat >= '{day_start}') and (t_dat <= '{day_end}') and (article_id in @top_art_all)\").drop_duplicates([\"customer_id\",\"article_id\"])[[\"customer_id\",\"article_id\"]].copy()\n",
        "    list_df_buy[\"target\"] = 1\n",
        "    list_cust = list_df_buy[\"customer_id\"].unique().tolist()\n",
        "        \n",
        "        \n",
        "    # make negative samples (random selection)\n",
        "    \n",
        "    list_df_nobuy = pd.concat([pd.DataFrame({\"customer_id\":x,\"article_id\":random.sample(top_art_all,nobuy)}) for x in list_cust])\n",
        "    list_df_nobuy[\"target\"] = 0\n",
        "    list_train = pd.concat([list_df_buy,list_df_nobuy]).drop_duplicates([\"customer_id\",\"article_id\"])\n",
        "    del list_df_nobuy\n",
        "\n",
        "    # add feature\n",
        "    df_train = pd.DataFrame()\n",
        "    \n",
        "    ########## Merging item features with the transactions data ###################################################\n",
        "    list_train = list_train.merge(df_art[[\"article_id\",\"product_code\",\"product_type_no\",\"graphical_appearance_no\",\"colour_group_code\",\"department_no\",\"index_code\",\"index_group_no\",\"section_no\",\"garment_group_no\"]],how=\"left\",on=\"article_id\")\n",
        "    \n",
        "    ######### Merging customer data with the above data ######################################\n",
        "    list_train = list_train.merge(df_cust, how=\"left\", on=\"customer_id\")\n",
        "    df_train = df_train.append(list_train)\n",
        "    del list_train\n",
        "    gc.collect()\n",
        "    \n",
        "    \n",
        "    # now that we have all the data in place, lets train the lgbm model\n",
        "\n",
        "    # train lgbm\n",
        "    X_train = df_train.drop([\"customer_id\",\"product_code\",\"product_type_no\",\"department_no\",\"target\"],axis=1)\n",
        "    y_train = df_train[\"target\"]\n",
        "    del df_train\n",
        "    \n",
        "    X_tr, X_va, y_tr, y_va = train_test_split(X_train,y_train,stratify = y_train)\n",
        "    d_tr = lgb.Dataset(X_tr, label=y_tr,  free_raw_data=False)\n",
        "    d_va = lgb.Dataset(X_va, label=y_va,  free_raw_data=False)\n",
        "    lgbm_model = lgb.train(lgb_params, train_set=d_tr, num_boost_round=n_round, valid_sets=[d_tr,d_va], verbose_eval=500, early_stopping_rounds=100)\n",
        "    \n",
        "    # save model\n",
        "    pd.to_pickle(lgbm_model,\"lgbm_model.pkl\")\n",
        "    del X_train, y_train, X_tr, X_va, y_tr, y_va, d_tr, d_va\n",
        "    gc.collect()\n",
        "    del df_trans, df_art, df_cust\n",
        "    gc.collect()\n",
        "    return 0"
      ],
      "metadata": {
        "id": "aZME2N-2149B"
      },
      "id": "aZME2N-2149B",
      "execution_count": 26,
      "outputs": []
    },
    {
      "cell_type": "code",
      "source": [
        "train()"
      ],
      "metadata": {
        "id": "MMo952gl1_mM",
        "colab": {
          "base_uri": "https://localhost:8080/"
        },
        "outputId": "6024c254-e866-41a9-baa9-653788c6f180"
      },
      "id": "MMo952gl1_mM",
      "execution_count": 27,
      "outputs": [
        {
          "output_type": "stream",
          "name": "stdout",
          "text": [
            "Training until validation scores don't improve for 100 rounds.\n",
            "[500]\ttraining's auc: 0.824189\tvalid_1's auc: 0.810354\n",
            "[1000]\ttraining's auc: 0.850358\tvalid_1's auc: 0.824706\n",
            "[1500]\ttraining's auc: 0.868988\tvalid_1's auc: 0.833586\n",
            "[2000]\ttraining's auc: 0.883069\tvalid_1's auc: 0.839446\n",
            "Did not meet early stopping. Best iteration is:\n",
            "[2000]\ttraining's auc: 0.883069\tvalid_1's auc: 0.839446\n"
          ]
        },
        {
          "output_type": "execute_result",
          "data": {
            "text/plain": [
              "0"
            ]
          },
          "metadata": {},
          "execution_count": 27
        }
      ]
    },
    {
      "cell_type": "markdown",
      "metadata": {
        "id": "ydLW7dPiuw-E"
      },
      "source": [
        "### Optional task 1: training a Doc2Vec model\n",
        "\n",
        "If you want an extra challenge, you can try implementing Doc2vec representations in user_representation_3(). The Doc2vec model is an embedding learning method\n",
        "    that enables us to learn representations of a document.\n",
        "    We treat each user as a document, and the set of articles\n",
        "    the user has purchased as the set of words in the document."
      ],
      "id": "ydLW7dPiuw-E"
    },
    {
      "cell_type": "code",
      "source": [
        "#I'll do it later"
      ],
      "metadata": {
        "id": "NXf0doeUn4Ma"
      },
      "id": "NXf0doeUn4Ma",
      "execution_count": null,
      "outputs": []
    },
    {
      "cell_type": "markdown",
      "metadata": {
        "id": "ce141145-f5af-4f2d-9d94-f4bb50e6208f"
      },
      "source": [
        "### Optional task 2: training a sequential LSTM model\n",
        "\n",
        "Another optional task here would be to implement user_representation_4() where user representations are learnt by a sequential LSTM model. The LSTM model will need to be trained on a task -- the task itself could be the downstream task of predicting whether or not a user would purchase a given article given a sequence of previous articles. The final hidden layer of the lstm model can be used as the user representation."
      ],
      "id": "ce141145-f5af-4f2d-9d94-f4bb50e6208f"
    },
    {
      "cell_type": "code",
      "execution_count": null,
      "metadata": {
        "id": "88eb3b58-062c-4c96-b3f0-2db4407ce1b3"
      },
      "outputs": [],
      "source": [
        "#I'll do it later"
      ],
      "id": "88eb3b58-062c-4c96-b3f0-2db4407ce1b3"
    }
  ],
  "metadata": {
    "colab": {
      "collapsed_sections": [],
      "machine_shape": "hm",
      "name": "week3-ann-user-representations.ipynb",
      "provenance": []
    },
    "environment": {
      "kernel": "python3",
      "name": "tf2-gpu.2-6.m89",
      "type": "gcloud",
      "uri": "gcr.io/deeplearning-platform-release/tf2-gpu.2-6:m89"
    },
    "gpuClass": "standard",
    "kernelspec": {
      "display_name": "Python 3",
      "language": "python",
      "name": "python3"
    },
    "language_info": {
      "codemirror_mode": {
        "name": "ipython",
        "version": 3
      },
      "file_extension": ".py",
      "mimetype": "text/x-python",
      "name": "python",
      "nbconvert_exporter": "python",
      "pygments_lexer": "ipython3",
      "version": "3.7.12"
    }
  },
  "nbformat": 4,
  "nbformat_minor": 5
}