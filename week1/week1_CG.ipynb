{
  "cells": [
    {
      "cell_type": "code",
      "execution_count": 1,
      "metadata": {
        "colab": {
          "base_uri": "https://localhost:8080/"
        },
        "id": "fp344QRdOO5j",
        "outputId": "ee780c13-38c9-4020-975f-87e4be640178"
      },
      "outputs": [
        {
          "output_type": "stream",
          "name": "stdout",
          "text": [
            "\u001b[K     |████████████████████████████████| 88 kB 6.9 MB/s \n",
            "\u001b[K     |████████████████████████████████| 511.7 MB 5.4 kB/s \n",
            "\u001b[K     |████████████████████████████████| 1.6 MB 45.8 MB/s \n",
            "\u001b[K     |████████████████████████████████| 438 kB 58.0 MB/s \n",
            "\u001b[K     |████████████████████████████████| 5.8 MB 43.9 MB/s \n",
            "\u001b[K     |████████████████████████████████| 4.3 MB 29.9 MB/s \n",
            "\u001b[K     |████████████████████████████████| 11.2 MB 27.3 MB/s \n",
            "\u001b[?25h"
          ]
        }
      ],
      "source": [
        "!pip install -q tensorflow-recommenders\n",
        "!pip install -q --upgrade tensorflow-datasets\n",
        "!pip install -q scann"
      ]
    },
    {
      "cell_type": "code",
      "execution_count": 2,
      "metadata": {
        "id": "fxtlMDxqwnmE"
      },
      "outputs": [],
      "source": [
        "import pandas as pd\n",
        "import numpy as np\n",
        "import tensorflow as tf\n",
        "import tensorflow_recommenders as tfrs\n",
        "import numpy as np\n",
        "import pandas as pd\n",
        "import seaborn as sns\n",
        "from matplotlib import pyplot as plt\n",
        "from tqdm.notebook import tqdm\n",
        "from pathlib import Path\n",
        "from typing import Dict, Text\n",
        "import random\n",
        "from collections import Counter"
      ]
    },
    {
      "cell_type": "markdown",
      "metadata": {
        "id": "5mvsKS4A_x0f"
      },
      "source": [
        "Welcome to the week 1 project of the Personalized Recommendations at Scale course! In this week's project, we’ll look at one key component of multi-stage recommender system -- the candidate generator. As you can probably guess from the name, multi-stage recommender systems consist of multiple stages. To walk through how these systems work, let’s focus on a typical large scale recommendation system. The process starts with candidate generation, when the recommendation system takes a large corpus of content and cuts it down to a sample recommendation palette. The model for this stage optimizes for recall, because if there’s an option the user might like, we want it to be identified here. The goal of candidate generation is to cut down the number of content options from millions to hundreds.\n",
        "\n",
        "The candidates generated in this phase are then passed to the ranking phase. In the ranking phase, the recommendations are ranked based on how appropriate they are for the user. This stage often involves feeding additional information to the system, like user history and content features. It might also incorporate other candidates' sources, such as new content or time-specific recommendations. The best k-ranked are then returned and used to populate the recommendation list. A visualization of this process looks like is shown below:\n"
      ]
    },
    {
      "cell_type": "markdown",
      "metadata": {
        "id": "7Ikf7cid_x0g"
      },
      "source": [
        "![multi-stage system](https://miro.medium.com/max/1400/1*6LG9QN2XEtK6UCOZG4cavA.png)"
      ]
    },
    {
      "cell_type": "markdown",
      "metadata": {
        "id": "2njtK2-W_x0g"
      },
      "source": [
        "With this background, let's dive deep into the candidate generator topic!"
      ]
    },
    {
      "cell_type": "markdown",
      "metadata": {
        "id": "jMQvCZxc_x0h"
      },
      "source": [
        "# Candidate Generation\n",
        "\n",
        "When trying to recommend items to a user, we typically start with a huge catalog of options! As a result, our first step prior to ranking our recommendations is to generate a selection of candidates. In particular, we’ll use a mixture of various sources to pool a large catalog of millions of items to pick a smaller subset of options from. A heavy ranker cannot deal with and rank tens of millions of items due to latency requirements. A candidate generator comes in to help select a smaller pool of candidate items from a larger pool of millions of items which the ranker can then rank. As such, such candidate generators are often referred to as “light ranker”. An important property of the candidate generator is to fetch a sufficiently representative set of candidate items for the ranker to score – this means that the candidate generator is often evaluated on recall, and not precision. Precision of the selected candidates becomes ranker’s responsibility, and the candidate generator simply has to ensure it is selecting a representative set of candidate items the user might be interested in, and thus recall as an evaluation measure becomes an important metric for evaluating CGs.\n",
        "\n",
        "In this week's project, we work on H&M's fashion recommendation dataset, and implement a few candidate generators and evaluate their performance on recall metric."
      ]
    },
    {
      "cell_type": "markdown",
      "metadata": {
        "id": "qHXb2qnClxIH"
      },
      "source": [
        "# **H&M Personalized Fashion Recommendations**\n",
        "\n",
        "In this dataset, we are given the purchase history of customers across time, along with supporting metadata. The high level recommendation task is to predict what articles each customer will purchase in the test period immediately after the training data ends. Customer who did not make any purchase during that time are excluded from the scoring.\n",
        "\n",
        "**articles.csv** - detailed metadata for each article_id available for purchase\n",
        "\n",
        "**customers.csv** - metadata for each customer_id in dataset\n",
        "\n",
        "**sample_submission.csv** - a sample submission file in the correct format\n",
        "\n",
        "**transactions_train.csv** - the training data, consisting of the purchases each customer for each date, as well as additional information. Duplicate rows correspond to multiple purchases of the same item. Your task is to predict the article_ids each customer will purchase during the 7-day period immediately after the training data period.\n",
        "\n",
        "We will first load the datasets, and perform exploratory data analysis to better understand the dataset we are dealing with, before diving further into the candidate generators.\n",
        "\n",
        "Download the dataset hmdata.zip from https://drive.google.com/drive/folders/10LGZMgXRuz2qPr_QDbYdVVlKEcnQ25YL?usp=sharing"
      ]
    },
    {
      "cell_type": "code",
      "execution_count": 3,
      "metadata": {
        "colab": {
          "base_uri": "https://localhost:8080/"
        },
        "id": "tkazKjU7mx0R",
        "outputId": "38a17c86-aa17-47af-ac85-0758a5d1acc0"
      },
      "outputs": [
        {
          "output_type": "stream",
          "name": "stdout",
          "text": [
            "Mounted at /content/drive\n"
          ]
        }
      ],
      "source": [
        "from google.colab import drive\n",
        "drive.mount('/content/drive')\n",
        "path = 'drive/My Drive/Corise/Recommendation/'"
      ]
    },
    {
      "cell_type": "code",
      "execution_count": 4,
      "metadata": {
        "id": "02wKNHGmukGx"
      },
      "outputs": [],
      "source": [
        "article_df = pd.read_csv(path+\"hmdata/articles.csv.zip\")\n",
        "customer_df = pd.read_csv(path+\"hmdata/customers.csv.zip\")\n",
        "train0 = pd.read_csv(path+'hmdata/transactions_train.csv.zip')\n",
        "transaction_df = train0"
      ]
    },
    {
      "cell_type": "markdown",
      "metadata": {
        "id": "3QkLivc3fWvo"
      },
      "source": [
        "# **Exploratory Data Analysis**"
      ]
    },
    {
      "cell_type": "code",
      "execution_count": 5,
      "metadata": {
        "colab": {
          "base_uri": "https://localhost:8080/",
          "height": 411
        },
        "id": "7bVbj3UqEB29",
        "outputId": "c1ae7d3f-3dfe-44df-fa51-6d550ab19f87"
      },
      "outputs": [
        {
          "output_type": "display_data",
          "data": {
            "text/plain": [
              "<Figure size 1080x504 with 1 Axes>"
            ],
            "image/png": "[encoded data removed]"
          },
          "metadata": {
            "needs_background": "light"
          }
        }
      ],
      "source": [
        "\n",
        "f, ax = plt.subplots(figsize=(15, 7))\n",
        "ax = sns.histplot(data=article_df, y='index_name', color='blue')\n",
        "ax.set_xlabel('count by index name')\n",
        "ax.set_ylabel('index name')\n",
        "plt.show()"
      ]
    },
    {
      "cell_type": "code",
      "execution_count": 6,
      "metadata": {
        "colab": {
          "base_uri": "https://localhost:8080/",
          "height": 413
        },
        "id": "NuHFsUEWEtjj",
        "outputId": "fcf6d89b-beb1-4b2f-926e-fecae3ef9691"
      },
      "outputs": [
        {
          "output_type": "display_data",
          "data": {
            "text/plain": [
              "<Figure size 1080x504 with 1 Axes>"
            ],
            "image/png": "[encoded data removed]"
          },
          "metadata": {
            "needs_background": "light"
          }
        }
      ],
      "source": [
        "f, ax = plt.subplots(figsize=(15, 7))\n",
        "ax = sns.histplot(data=article_df, y='garment_group_name', color='orange', hue='index_group_name', multiple=\"stack\")\n",
        "ax.set_xlabel('count by garment group')\n",
        "ax.set_ylabel('garment group')\n",
        "plt.show()"
      ]
    },
    {
      "cell_type": "code",
      "execution_count": 7,
      "metadata": {
        "colab": {
          "base_uri": "https://localhost:8080/",
          "height": 334
        },
        "id": "R4hGcOa3Euk_",
        "outputId": "3babf21e-c5ce-4ad3-f432-cad79bd4b469"
      },
      "outputs": [
        {
          "output_type": "display_data",
          "data": {
            "text/plain": [
              "<Figure size 720x360 with 1 Axes>"
            ],
            "image/png": "[encoded data removed]"
          },
          "metadata": {}
        }
      ],
      "source": [
        "sns.set_style(\"darkgrid\")\n",
        "f, ax = plt.subplots(figsize=(10,5))\n",
        "ax = sns.histplot(data=customer_df, x='age', bins=50, color='green')\n",
        "ax.set_xlabel('Distribution of the customers age')\n",
        "plt.show()"
      ]
    },
    {
      "cell_type": "code",
      "execution_count": 8,
      "metadata": {
        "colab": {
          "base_uri": "https://localhost:8080/",
          "height": 604
        },
        "id": "Wl0aMXoFE_ID",
        "outputId": "d19ed439-586f-4f65-b9c1-8414c4e7ef88"
      },
      "outputs": [
        {
          "output_type": "display_data",
          "data": {
            "text/plain": [
              "<Figure size 1800x1296 with 1 Axes>"
            ],
            "image/png": "[encoded data removed]"
          },
          "metadata": {}
        }
      ],
      "source": [
        "articles_for_merge = article_df[['article_id', 'prod_name', 'product_type_name', 'product_group_name', 'index_name']]\n",
        "articles_for_merge = transaction_df[['customer_id', 'article_id', 'price', 't_dat']].merge(articles_for_merge, on='article_id', how='left')\n",
        "\n",
        "sns.set_style(\"darkgrid\")\n",
        "f, ax = plt.subplots(figsize=(25,18))\n",
        "ax = sns.boxplot(data=articles_for_merge, x='price', y='product_group_name')\n",
        "ax.set_xlabel('Price outliers', fontsize=22)\n",
        "ax.set_ylabel('Index names', fontsize=22)\n",
        "ax.xaxis.set_tick_params(labelsize=22)\n",
        "ax.yaxis.set_tick_params(labelsize=22)\n",
        "\n",
        "plt.show()"
      ]
    },
    {
      "cell_type": "markdown",
      "metadata": {
        "id": "Bv75-bvqgPeg"
      },
      "source": [
        "# **Simple Feature Processing**\n",
        "\n",
        "Having looked at some initial analysis, we next perform simple feature processing for customer and article dataframes."
      ]
    },
    {
      "cell_type": "code",
      "execution_count": 9,
      "metadata": {
        "colab": {
          "base_uri": "https://localhost:8080/",
          "height": 270
        },
        "id": "K2aa3cGhvuiN",
        "outputId": "e92989e7-29dd-4634-f15c-e2d417842c4c"
      },
      "outputs": [
        {
          "output_type": "execute_result",
          "data": {
            "text/plain": [
              "                                         customer_id   FN  Active  \\\n",
              "0  00000dbacae5abe5e23885899a1fa44253a17956c6d1c3...  0.0     0.0   \n",
              "1  0000423b00ade91418cceaf3b26c6af3dd342b51fd051e...  0.0     0.0   \n",
              "2  000058a12d5b43e67d225668fa1f8d618c13dc232df0ca...  0.0     0.0   \n",
              "3  00005ca1c9ed5f5146b52ac8639a40ca9d57aeff4d1bd2...  0.0     0.0   \n",
              "4  00006413d8573cd20ed7128e53b7b13819fe5cfc2d801f...  1.0     1.0   \n",
              "\n",
              "  club_member_status fashion_news_frequency   age  \\\n",
              "0             ACTIVE                   NONE  49.0   \n",
              "1             ACTIVE                   NONE  25.0   \n",
              "2             ACTIVE                   NONE  24.0   \n",
              "3             ACTIVE                   NONE  54.0   \n",
              "4             ACTIVE              Regularly  52.0   \n",
              "\n",
              "                                         postal_code age_interval  \n",
              "0  52043ee2162cf5aa7ee79974281641c6f11a68d276429a...     [46, 55]  \n",
              "1  2973abc54daa8a5f8ccfe9362140c63247c5eee03f1d93...     [16, 25]  \n",
              "2  64f17e6a330a85798e4998f62d0930d14db8db1c054af6...     [16, 25]  \n",
              "3  5d36574f52495e81f019b680c843c443bd343d5ca5b1c2...     [46, 55]  \n",
              "4  25fa5ddee9aac01b35208d01736e57942317d756b32ddd...     [46, 55]  "
            ],
            "text/html": [
              "\n",
              "  <div id=\"df-3d68dc1c-bf0d-4ab8-a93c-91278a4ebdae\">\n",
              "    <div class=\"colab-df-container\">\n",
              "      <div>\n",
              "<style scoped>\n",
              "    .dataframe tbody tr th:only-of-type {\n",
              "        vertical-align: middle;\n",
              "    }\n",
              "\n",
              "    .dataframe tbody tr th {\n",
              "        vertical-align: top;\n",
              "    }\n",
              "\n",
              "    .dataframe thead th {\n",
              "        text-align: right;\n",
              "    }\n",
              "</style>\n",
              "<table border=\"1\" class=\"dataframe\">\n",
              "  <thead>\n",
              "    <tr style=\"text-align: right;\">\n",
              "      <th></th>\n",
              "      <th>customer_id</th>\n",
              "      <th>FN</th>\n",
              "      <th>Active</th>\n",
              "      <th>club_member_status</th>\n",
              "      <th>fashion_news_frequency</th>\n",
              "      <th>age</th>\n",
              "      <th>postal_code</th>\n",
              "      <th>age_interval</th>\n",
              "    </tr>\n",
              "  </thead>\n",
              "  <tbody>\n",
              "    <tr>\n",
              "      <th>0</th>\n",
              "      <td>00000dbacae5abe5e23885899a1fa44253a17956c6d1c3...</td>\n",
              "      <td>0.0</td>\n",
              "      <td>0.0</td>\n",
              "      <td>ACTIVE</td>\n",
              "      <td>NONE</td>\n",
              "      <td>49.0</td>\n",
              "      <td>52043ee2162cf5aa7ee79974281641c6f11a68d276429a...</td>\n",
              "      <td>[46, 55]</td>\n",
              "    </tr>\n",
              "    <tr>\n",
              "      <th>1</th>\n",
              "      <td>0000423b00ade91418cceaf3b26c6af3dd342b51fd051e...</td>\n",
              "      <td>0.0</td>\n",
              "      <td>0.0</td>\n",
              "      <td>ACTIVE</td>\n",
              "      <td>NONE</td>\n",
              "      <td>25.0</td>\n",
              "      <td>2973abc54daa8a5f8ccfe9362140c63247c5eee03f1d93...</td>\n",
              "      <td>[16, 25]</td>\n",
              "    </tr>\n",
              "    <tr>\n",
              "      <th>2</th>\n",
              "      <td>000058a12d5b43e67d225668fa1f8d618c13dc232df0ca...</td>\n",
              "      <td>0.0</td>\n",
              "      <td>0.0</td>\n",
              "      <td>ACTIVE</td>\n",
              "      <td>NONE</td>\n",
              "      <td>24.0</td>\n",
              "      <td>64f17e6a330a85798e4998f62d0930d14db8db1c054af6...</td>\n",
              "      <td>[16, 25]</td>\n",
              "    </tr>\n",
              "    <tr>\n",
              "      <th>3</th>\n",
              "      <td>00005ca1c9ed5f5146b52ac8639a40ca9d57aeff4d1bd2...</td>\n",
              "      <td>0.0</td>\n",
              "      <td>0.0</td>\n",
              "      <td>ACTIVE</td>\n",
              "      <td>NONE</td>\n",
              "      <td>54.0</td>\n",
              "      <td>5d36574f52495e81f019b680c843c443bd343d5ca5b1c2...</td>\n",
              "      <td>[46, 55]</td>\n",
              "    </tr>\n",
              "    <tr>\n",
              "      <th>4</th>\n",
              "      <td>00006413d8573cd20ed7128e53b7b13819fe5cfc2d801f...</td>\n",
              "      <td>1.0</td>\n",
              "      <td>1.0</td>\n",
              "      <td>ACTIVE</td>\n",
              "      <td>Regularly</td>\n",
              "      <td>52.0</td>\n",
              "      <td>25fa5ddee9aac01b35208d01736e57942317d756b32ddd...</td>\n",
              "      <td>[46, 55]</td>\n",
              "    </tr>\n",
              "  </tbody>\n",
              "</table>\n",
              "</div>\n",
              "      <button class=\"colab-df-convert\" onclick=\"convertToInteractive('df-3d68dc1c-bf0d-4ab8-a93c-91278a4ebdae')\"\n",
              "              title=\"Convert this dataframe to an interactive table.\"\n",
              "              style=\"display:none;\">\n",
              "        \n",
              "  <svg xmlns=\"http://www.w3.org/2000/svg\" height=\"24px\"viewBox=\"0 0 24 24\"\n",
              "       width=\"24px\">\n",
              "    <path d=\"M0 0h24v24H0V0z\" fill=\"none\"/>\n",
              "    <path d=\"M18.56 5.44l.94 2.06.94-2.06 2.06-.94-2.06-.94-.94-2.06-.94 2.06-2.06.94zm-11 1L8.5 8.5l.94-2.06 2.06-.94-2.06-.94L8.5 2.5l-.94 2.06-2.06.94zm10 10l.94 2.06.94-2.06 2.06-.94-2.06-.94-.94-2.06-.94 2.06-2.06.94z\"/><path d=\"M17.41 7.96l-1.37-1.37c-.4-.4-.92-.59-1.43-.59-.52 0-1.04.2-1.43.59L10.3 9.45l-7.72 7.72c-.78.78-.78 2.05 0 2.83L4 21.41c.39.39.9.59 1.41.59.51 0 1.02-.2 1.41-.59l7.78-7.78 2.81-2.81c.8-.78.8-2.07 0-2.86zM5.41 20L4 18.59l7.72-7.72 1.47 1.35L5.41 20z\"/>\n",
              "  </svg>\n",
              "      </button>\n",
              "      \n",
              "  <style>\n",
              "    .colab-df-container {\n",
              "      display:flex;\n",
              "      flex-wrap:wrap;\n",
              "      gap: 12px;\n",
              "    }\n",
              "\n",
              "    .colab-df-convert {\n",
              "      background-color: #E8F0FE;\n",
              "      border: none;\n",
              "      border-radius: 50%;\n",
              "      cursor: pointer;\n",
              "      display: none;\n",
              "      fill: #1967D2;\n",
              "      height: 32px;\n",
              "      padding: 0 0 0 0;\n",
              "      width: 32px;\n",
              "    }\n",
              "\n",
              "    .colab-df-convert:hover {\n",
              "      background-color: #E2EBFA;\n",
              "      box-shadow: 0px 1px 2px rgba(60, 64, 67, 0.3), 0px 1px 3px 1px rgba(60, 64, 67, 0.15);\n",
              "      fill: #174EA6;\n",
              "    }\n",
              "\n",
              "    [theme=dark] .colab-df-convert {\n",
              "      background-color: #3B4455;\n",
              "      fill: #D2E3FC;\n",
              "    }\n",
              "\n",
              "    [theme=dark] .colab-df-convert:hover {\n",
              "      background-color: #434B5C;\n",
              "      box-shadow: 0px 1px 3px 1px rgba(0, 0, 0, 0.15);\n",
              "      filter: drop-shadow(0px 1px 2px rgba(0, 0, 0, 0.3));\n",
              "      fill: #FFFFFF;\n",
              "    }\n",
              "  </style>\n",
              "\n",
              "      <script>\n",
              "        const buttonEl =\n",
              "          document.querySelector('#df-3d68dc1c-bf0d-4ab8-a93c-91278a4ebdae button.colab-df-convert');\n",
              "        buttonEl.style.display =\n",
              "          google.colab.kernel.accessAllowed ? 'block' : 'none';\n",
              "\n",
              "        async function convertToInteractive(key) {\n",
              "          const element = document.querySelector('#df-3d68dc1c-bf0d-4ab8-a93c-91278a4ebdae');\n",
              "          const dataTable =\n",
              "            await google.colab.kernel.invokeFunction('convertToInteractive',\n",
              "                                                     [key], {});\n",
              "          if (!dataTable) return;\n",
              "\n",
              "          const docLinkHtml = 'Like what you see? Visit the ' +\n",
              "            '<a target=\"_blank\" href=https://colab.research.google.com/notebooks/data_table.ipynb>data table notebook</a>'\n",
              "            + ' to learn more about interactive tables.';\n",
              "          element.innerHTML = '';\n",
              "          dataTable['output_type'] = 'display_data';\n",
              "          await google.colab.output.renderOutput(dataTable, element);\n",
              "          const docLink = document.createElement('div');\n",
              "          docLink.innerHTML = docLinkHtml;\n",
              "          element.appendChild(docLink);\n",
              "        }\n",
              "      </script>\n",
              "    </div>\n",
              "  </div>\n",
              "  "
            ]
          },
          "metadata": {},
          "execution_count": 9
        }
      ],
      "source": [
        "def create_age_interval(x):\n",
        "    if x <= 25:\n",
        "        return [16, 25]\n",
        "    elif x <= 35:\n",
        "        return [26, 35]\n",
        "    elif x <= 45:\n",
        "        return [36, 45]\n",
        "    elif x <= 55:\n",
        "        return [46, 55]\n",
        "    elif x <= 65:\n",
        "        return [56, 65]\n",
        "    else:\n",
        "        return [66, 99]\n",
        "\n",
        "customer_df[\"FN\"].fillna(0, inplace=True)\n",
        "customer_df[\"Active\"].fillna(0, inplace=True)\n",
        "\n",
        "# Set unknown the club member status & news frequency\n",
        "customer_df[\"club_member_status\"].fillna(\"UNKNOWN\", inplace=True)\n",
        "\n",
        "customer_df[\"fashion_news_frequency\"] = customer_df[\"fashion_news_frequency\"].replace({\"None\":\"NONE\"})\n",
        "customer_df[\"fashion_news_frequency\"].fillna(\"UNKNOWN\", inplace=True)\n",
        "\n",
        "# Set missing values in age with the median\n",
        "customer_df[\"age\"].fillna(customer_df[\"age\"].median(), inplace=True)\n",
        "customer_df[\"age_interval\"] = customer_df[\"age\"].apply(lambda x: create_age_interval(x))\n",
        "\n",
        "customer_df.head()"
      ]
    },
    {
      "cell_type": "code",
      "execution_count": 10,
      "metadata": {
        "colab": {
          "base_uri": "https://localhost:8080/",
          "height": 560
        },
        "id": "jar-S0bPwJ5C",
        "outputId": "826450e4-0d3e-4688-a1aa-9d0687d1395d"
      },
      "outputs": [
        {
          "output_type": "execute_result",
          "data": {
            "text/plain": [
              "   article_id  product_code          prod_name  product_type_no  \\\n",
              "0   108775015        108775          Strap top              253   \n",
              "1   108775044        108775          Strap top              253   \n",
              "2   108775051        108775      Strap top (1)              253   \n",
              "3   110065001        110065  OP T-shirt (Idro)              306   \n",
              "4   110065002        110065  OP T-shirt (Idro)              306   \n",
              "\n",
              "  product_type_name  product_group_name  graphical_appearance_no  \\\n",
              "0          Vest top  Garment Upper body                  1010016   \n",
              "1          Vest top  Garment Upper body                  1010016   \n",
              "2          Vest top  Garment Upper body                  1010017   \n",
              "3               Bra           Underwear                  1010016   \n",
              "4               Bra           Underwear                  1010016   \n",
              "\n",
              "  graphical_appearance_name  colour_group_code colour_group_name  ...  \\\n",
              "0                     Solid                  9             Black  ...   \n",
              "1                     Solid                 10             White  ...   \n",
              "2                    Stripe                 11         Off White  ...   \n",
              "3                     Solid                  9             Black  ...   \n",
              "4                     Solid                 10             White  ...   \n",
              "\n",
              "   department_name index_code        index_name index_group_no  \\\n",
              "0     Jersey Basic          A        Ladieswear              1   \n",
              "1     Jersey Basic          A        Ladieswear              1   \n",
              "2     Jersey Basic          A        Ladieswear              1   \n",
              "3   Clean Lingerie          B  Lingeries/Tights              1   \n",
              "4   Clean Lingerie          B  Lingeries/Tights              1   \n",
              "\n",
              "   index_group_name section_no            section_name garment_group_no  \\\n",
              "0        Ladieswear         16  Womens Everyday Basics             1002   \n",
              "1        Ladieswear         16  Womens Everyday Basics             1002   \n",
              "2        Ladieswear         16  Womens Everyday Basics             1002   \n",
              "3        Ladieswear         61         Womens Lingerie             1017   \n",
              "4        Ladieswear         61         Womens Lingerie             1017   \n",
              "\n",
              "   garment_group_name                                        detail_desc  \n",
              "0        Jersey Basic            Jersey top with narrow shoulder straps.  \n",
              "1        Jersey Basic            Jersey top with narrow shoulder straps.  \n",
              "2        Jersey Basic            Jersey top with narrow shoulder straps.  \n",
              "3   Under-, Nightwear  Microfibre T-shirt bra with underwired, moulde...  \n",
              "4   Under-, Nightwear  Microfibre T-shirt bra with underwired, moulde...  \n",
              "\n",
              "[5 rows x 25 columns]"
            ],
            "text/html": [
              "\n",
              "  <div id=\"df-c66a6a1a-9b24-4c48-abdd-34d5a7d78ac9\">\n",
              "    <div class=\"colab-df-container\">\n",
              "      <div>\n",
              "<style scoped>\n",
              "    .dataframe tbody tr th:only-of-type {\n",
              "        vertical-align: middle;\n",
              "    }\n",
              "\n",
              "    .dataframe tbody tr th {\n",
              "        vertical-align: top;\n",
              "    }\n",
              "\n",
              "    .dataframe thead th {\n",
              "        text-align: right;\n",
              "    }\n",
              "</style>\n",
              "<table border=\"1\" class=\"dataframe\">\n",
              "  <thead>\n",
              "    <tr style=\"text-align: right;\">\n",
              "      <th></th>\n",
              "      <th>article_id</th>\n",
              "      <th>product_code</th>\n",
              "      <th>prod_name</th>\n",
              "      <th>product_type_no</th>\n",
              "      <th>product_type_name</th>\n",
              "      <th>product_group_name</th>\n",
              "      <th>graphical_appearance_no</th>\n",
              "      <th>graphical_appearance_name</th>\n",
              "      <th>colour_group_code</th>\n",
              "      <th>colour_group_name</th>\n",
              "      <th>...</th>\n",
              "      <th>department_name</th>\n",
              "      <th>index_code</th>\n",
              "      <th>index_name</th>\n",
              "      <th>index_group_no</th>\n",
              "      <th>index_group_name</th>\n",
              "      <th>section_no</th>\n",
              "      <th>section_name</th>\n",
              "      <th>garment_group_no</th>\n",
              "      <th>garment_group_name</th>\n",
              "      <th>detail_desc</th>\n",
              "    </tr>\n",
              "  </thead>\n",
              "  <tbody>\n",
              "    <tr>\n",
              "      <th>0</th>\n",
              "      <td>108775015</td>\n",
              "      <td>108775</td>\n",
              "      <td>Strap top</td>\n",
              "      <td>253</td>\n",
              "      <td>Vest top</td>\n",
              "      <td>Garment Upper body</td>\n",
              "      <td>1010016</td>\n",
              "      <td>Solid</td>\n",
              "      <td>9</td>\n",
              "      <td>Black</td>\n",
              "      <td>...</td>\n",
              "      <td>Jersey Basic</td>\n",
              "      <td>A</td>\n",
              "      <td>Ladieswear</td>\n",
              "      <td>1</td>\n",
              "      <td>Ladieswear</td>\n",
              "      <td>16</td>\n",
              "      <td>Womens Everyday Basics</td>\n",
              "      <td>1002</td>\n",
              "      <td>Jersey Basic</td>\n",
              "      <td>Jersey top with narrow shoulder straps.</td>\n",
              "    </tr>\n",
              "    <tr>\n",
              "      <th>1</th>\n",
              "      <td>108775044</td>\n",
              "      <td>108775</td>\n",
              "      <td>Strap top</td>\n",
              "      <td>253</td>\n",
              "      <td>Vest top</td>\n",
              "      <td>Garment Upper body</td>\n",
              "      <td>1010016</td>\n",
              "      <td>Solid</td>\n",
              "      <td>10</td>\n",
              "      <td>White</td>\n",
              "      <td>...</td>\n",
              "      <td>Jersey Basic</td>\n",
              "      <td>A</td>\n",
              "      <td>Ladieswear</td>\n",
              "      <td>1</td>\n",
              "      <td>Ladieswear</td>\n",
              "      <td>16</td>\n",
              "      <td>Womens Everyday Basics</td>\n",
              "      <td>1002</td>\n",
              "      <td>Jersey Basic</td>\n",
              "      <td>Jersey top with narrow shoulder straps.</td>\n",
              "    </tr>\n",
              "    <tr>\n",
              "      <th>2</th>\n",
              "      <td>108775051</td>\n",
              "      <td>108775</td>\n",
              "      <td>Strap top (1)</td>\n",
              "      <td>253</td>\n",
              "      <td>Vest top</td>\n",
              "      <td>Garment Upper body</td>\n",
              "      <td>1010017</td>\n",
              "      <td>Stripe</td>\n",
              "      <td>11</td>\n",
              "      <td>Off White</td>\n",
              "      <td>...</td>\n",
              "      <td>Jersey Basic</td>\n",
              "      <td>A</td>\n",
              "      <td>Ladieswear</td>\n",
              "      <td>1</td>\n",
              "      <td>Ladieswear</td>\n",
              "      <td>16</td>\n",
              "      <td>Womens Everyday Basics</td>\n",
              "      <td>1002</td>\n",
              "      <td>Jersey Basic</td>\n",
              "      <td>Jersey top with narrow shoulder straps.</td>\n",
              "    </tr>\n",
              "    <tr>\n",
              "      <th>3</th>\n",
              "      <td>110065001</td>\n",
              "      <td>110065</td>\n",
              "      <td>OP T-shirt (Idro)</td>\n",
              "      <td>306</td>\n",
              "      <td>Bra</td>\n",
              "      <td>Underwear</td>\n",
              "      <td>1010016</td>\n",
              "      <td>Solid</td>\n",
              "      <td>9</td>\n",
              "      <td>Black</td>\n",
              "      <td>...</td>\n",
              "      <td>Clean Lingerie</td>\n",
              "      <td>B</td>\n",
              "      <td>Lingeries/Tights</td>\n",
              "      <td>1</td>\n",
              "      <td>Ladieswear</td>\n",
              "      <td>61</td>\n",
              "      <td>Womens Lingerie</td>\n",
              "      <td>1017</td>\n",
              "      <td>Under-, Nightwear</td>\n",
              "      <td>Microfibre T-shirt bra with underwired, moulde...</td>\n",
              "    </tr>\n",
              "    <tr>\n",
              "      <th>4</th>\n",
              "      <td>110065002</td>\n",
              "      <td>110065</td>\n",
              "      <td>OP T-shirt (Idro)</td>\n",
              "      <td>306</td>\n",
              "      <td>Bra</td>\n",
              "      <td>Underwear</td>\n",
              "      <td>1010016</td>\n",
              "      <td>Solid</td>\n",
              "      <td>10</td>\n",
              "      <td>White</td>\n",
              "      <td>...</td>\n",
              "      <td>Clean Lingerie</td>\n",
              "      <td>B</td>\n",
              "      <td>Lingeries/Tights</td>\n",
              "      <td>1</td>\n",
              "      <td>Ladieswear</td>\n",
              "      <td>61</td>\n",
              "      <td>Womens Lingerie</td>\n",
              "      <td>1017</td>\n",
              "      <td>Under-, Nightwear</td>\n",
              "      <td>Microfibre T-shirt bra with underwired, moulde...</td>\n",
              "    </tr>\n",
              "  </tbody>\n",
              "</table>\n",
              "<p>5 rows × 25 columns</p>\n",
              "</div>\n",
              "      <button class=\"colab-df-convert\" onclick=\"convertToInteractive('df-c66a6a1a-9b24-4c48-abdd-34d5a7d78ac9')\"\n",
              "              title=\"Convert this dataframe to an interactive table.\"\n",
              "              style=\"display:none;\">\n",
              "        \n",
              "  <svg xmlns=\"http://www.w3.org/2000/svg\" height=\"24px\"viewBox=\"0 0 24 24\"\n",
              "       width=\"24px\">\n",
              "    <path d=\"M0 0h24v24H0V0z\" fill=\"none\"/>\n",
              "    <path d=\"M18.56 5.44l.94 2.06.94-2.06 2.06-.94-2.06-.94-.94-2.06-.94 2.06-2.06.94zm-11 1L8.5 8.5l.94-2.06 2.06-.94-2.06-.94L8.5 2.5l-.94 2.06-2.06.94zm10 10l.94 2.06.94-2.06 2.06-.94-2.06-.94-.94-2.06-.94 2.06-2.06.94z\"/><path d=\"M17.41 7.96l-1.37-1.37c-.4-.4-.92-.59-1.43-.59-.52 0-1.04.2-1.43.59L10.3 9.45l-7.72 7.72c-.78.78-.78 2.05 0 2.83L4 21.41c.39.39.9.59 1.41.59.51 0 1.02-.2 1.41-.59l7.78-7.78 2.81-2.81c.8-.78.8-2.07 0-2.86zM5.41 20L4 18.59l7.72-7.72 1.47 1.35L5.41 20z\"/>\n",
              "  </svg>\n",
              "      </button>\n",
              "      \n",
              "  <style>\n",
              "    .colab-df-container {\n",
              "      display:flex;\n",
              "      flex-wrap:wrap;\n",
              "      gap: 12px;\n",
              "    }\n",
              "\n",
              "    .colab-df-convert {\n",
              "      background-color: #E8F0FE;\n",
              "      border: none;\n",
              "      border-radius: 50%;\n",
              "      cursor: pointer;\n",
              "      display: none;\n",
              "      fill: #1967D2;\n",
              "      height: 32px;\n",
              "      padding: 0 0 0 0;\n",
              "      width: 32px;\n",
              "    }\n",
              "\n",
              "    .colab-df-convert:hover {\n",
              "      background-color: #E2EBFA;\n",
              "      box-shadow: 0px 1px 2px rgba(60, 64, 67, 0.3), 0px 1px 3px 1px rgba(60, 64, 67, 0.15);\n",
              "      fill: #174EA6;\n",
              "    }\n",
              "\n",
              "    [theme=dark] .colab-df-convert {\n",
              "      background-color: #3B4455;\n",
              "      fill: #D2E3FC;\n",
              "    }\n",
              "\n",
              "    [theme=dark] .colab-df-convert:hover {\n",
              "      background-color: #434B5C;\n",
              "      box-shadow: 0px 1px 3px 1px rgba(0, 0, 0, 0.15);\n",
              "      filter: drop-shadow(0px 1px 2px rgba(0, 0, 0, 0.3));\n",
              "      fill: #FFFFFF;\n",
              "    }\n",
              "  </style>\n",
              "\n",
              "      <script>\n",
              "        const buttonEl =\n",
              "          document.querySelector('#df-c66a6a1a-9b24-4c48-abdd-34d5a7d78ac9 button.colab-df-convert');\n",
              "        buttonEl.style.display =\n",
              "          google.colab.kernel.accessAllowed ? 'block' : 'none';\n",
              "\n",
              "        async function convertToInteractive(key) {\n",
              "          const element = document.querySelector('#df-c66a6a1a-9b24-4c48-abdd-34d5a7d78ac9');\n",
              "          const dataTable =\n",
              "            await google.colab.kernel.invokeFunction('convertToInteractive',\n",
              "                                                     [key], {});\n",
              "          if (!dataTable) return;\n",
              "\n",
              "          const docLinkHtml = 'Like what you see? Visit the ' +\n",
              "            '<a target=\"_blank\" href=https://colab.research.google.com/notebooks/data_table.ipynb>data table notebook</a>'\n",
              "            + ' to learn more about interactive tables.';\n",
              "          element.innerHTML = '';\n",
              "          dataTable['output_type'] = 'display_data';\n",
              "          await google.colab.output.renderOutput(dataTable, element);\n",
              "          const docLink = document.createElement('div');\n",
              "          docLink.innerHTML = docLinkHtml;\n",
              "          element.appendChild(docLink);\n",
              "        }\n",
              "      </script>\n",
              "    </div>\n",
              "  </div>\n",
              "  "
            ]
          },
          "metadata": {},
          "execution_count": 10
        }
      ],
      "source": [
        "# Replace missing values\n",
        "article_df.fillna(value=\"No Description\", inplace=True)\n",
        "\n",
        "# Adjust the article ID and product code to be string & add \"0\"\n",
        "#article_df[\"product_code\"] = article_df[\"article_id\"].apply(lambda x: x[:3])\n",
        "\n",
        "article_df.head()"
      ]
    },
    {
      "cell_type": "code",
      "execution_count": 11,
      "metadata": {
        "id": "usEgsjAZwLos"
      },
      "outputs": [],
      "source": [
        "article_df['article_id'] = article_df['article_id'].astype(str)\n",
        "article_df['article_id'] = article_df['article_id'].apply(lambda x: x.zfill(10))\n",
        "\n",
        "unique_customer_ids = customer_df.customer_id.unique()\n",
        "unique_article_ids = article_df.article_id.unique()\n",
        "\n",
        "article_ds = tf.data.Dataset.from_tensor_slices(dict(article_df[['article_id']]))\n",
        "articles = article_ds.map(lambda x: x['article_id'])"
      ]
    },
    {
      "cell_type": "markdown",
      "metadata": {
        "id": "PX_iGGy1_x0m"
      },
      "source": [
        "We subselect 1 years worth of data to use for all the exercises this week."
      ]
    },
    {
      "cell_type": "code",
      "execution_count": 12,
      "metadata": {
        "colab": {
          "base_uri": "https://localhost:8080/",
          "height": 434
        },
        "id": "0EyIFbK52-th",
        "outputId": "e4f16544-bc18-428c-c0a0-e51ecd34d852"
      },
      "outputs": [
        {
          "output_type": "stream",
          "name": "stderr",
          "text": [
            "/usr/local/lib/python3.7/dist-packages/ipykernel_launcher.py:4: SettingWithCopyWarning: \n",
            "A value is trying to be set on a copy of a slice from a DataFrame.\n",
            "Try using .loc[row_indexer,col_indexer] = value instead\n",
            "\n",
            "See the caveats in the documentation: https://pandas.pydata.org/pandas-docs/stable/user_guide/indexing.html#returning-a-view-versus-a-copy\n",
            "  after removing the cwd from sys.path.\n",
            "/usr/local/lib/python3.7/dist-packages/ipykernel_launcher.py:5: SettingWithCopyWarning: \n",
            "A value is trying to be set on a copy of a slice from a DataFrame.\n",
            "Try using .loc[row_indexer,col_indexer] = value instead\n",
            "\n",
            "See the caveats in the documentation: https://pandas.pydata.org/pandas-docs/stable/user_guide/indexing.html#returning-a-view-versus-a-copy\n",
            "  \"\"\"\n"
          ]
        },
        {
          "output_type": "execute_result",
          "data": {
            "text/plain": [
              "        t_dat                                        customer_id  article_id  \\\n",
              "0  2018-09-20  000058a12d5b43e67d225668fa1f8d618c13dc232df0ca...  0663713001   \n",
              "1  2018-09-20  000058a12d5b43e67d225668fa1f8d618c13dc232df0ca...  0541518023   \n",
              "2  2018-09-20  00007d2de826758b65a93dd24ce629ed66842531df6699...  0505221004   \n",
              "3  2018-09-20  00007d2de826758b65a93dd24ce629ed66842531df6699...  0685687003   \n",
              "4  2018-09-20  00007d2de826758b65a93dd24ce629ed66842531df6699...  0685687004   \n",
              "\n",
              "      price  sales_channel_id  \n",
              "0  0.050831                 2  \n",
              "1  0.030492                 2  \n",
              "2  0.015237                 2  \n",
              "3  0.016932                 2  \n",
              "4  0.016932                 2  "
            ],
            "text/html": [
              "\n",
              "  <div id=\"df-f8cd3adf-67ce-4c48-96b4-ac4471c46595\">\n",
              "    <div class=\"colab-df-container\">\n",
              "      <div>\n",
              "<style scoped>\n",
              "    .dataframe tbody tr th:only-of-type {\n",
              "        vertical-align: middle;\n",
              "    }\n",
              "\n",
              "    .dataframe tbody tr th {\n",
              "        vertical-align: top;\n",
              "    }\n",
              "\n",
              "    .dataframe thead th {\n",
              "        text-align: right;\n",
              "    }\n",
              "</style>\n",
              "<table border=\"1\" class=\"dataframe\">\n",
              "  <thead>\n",
              "    <tr style=\"text-align: right;\">\n",
              "      <th></th>\n",
              "      <th>t_dat</th>\n",
              "      <th>customer_id</th>\n",
              "      <th>article_id</th>\n",
              "      <th>price</th>\n",
              "      <th>sales_channel_id</th>\n",
              "    </tr>\n",
              "  </thead>\n",
              "  <tbody>\n",
              "    <tr>\n",
              "      <th>0</th>\n",
              "      <td>2018-09-20</td>\n",
              "      <td>000058a12d5b43e67d225668fa1f8d618c13dc232df0ca...</td>\n",
              "      <td>0663713001</td>\n",
              "      <td>0.050831</td>\n",
              "      <td>2</td>\n",
              "    </tr>\n",
              "    <tr>\n",
              "      <th>1</th>\n",
              "      <td>2018-09-20</td>\n",
              "      <td>000058a12d5b43e67d225668fa1f8d618c13dc232df0ca...</td>\n",
              "      <td>0541518023</td>\n",
              "      <td>0.030492</td>\n",
              "      <td>2</td>\n",
              "    </tr>\n",
              "    <tr>\n",
              "      <th>2</th>\n",
              "      <td>2018-09-20</td>\n",
              "      <td>00007d2de826758b65a93dd24ce629ed66842531df6699...</td>\n",
              "      <td>0505221004</td>\n",
              "      <td>0.015237</td>\n",
              "      <td>2</td>\n",
              "    </tr>\n",
              "    <tr>\n",
              "      <th>3</th>\n",
              "      <td>2018-09-20</td>\n",
              "      <td>00007d2de826758b65a93dd24ce629ed66842531df6699...</td>\n",
              "      <td>0685687003</td>\n",
              "      <td>0.016932</td>\n",
              "      <td>2</td>\n",
              "    </tr>\n",
              "    <tr>\n",
              "      <th>4</th>\n",
              "      <td>2018-09-20</td>\n",
              "      <td>00007d2de826758b65a93dd24ce629ed66842531df6699...</td>\n",
              "      <td>0685687004</td>\n",
              "      <td>0.016932</td>\n",
              "      <td>2</td>\n",
              "    </tr>\n",
              "  </tbody>\n",
              "</table>\n",
              "</div>\n",
              "      <button class=\"colab-df-convert\" onclick=\"convertToInteractive('df-f8cd3adf-67ce-4c48-96b4-ac4471c46595')\"\n",
              "              title=\"Convert this dataframe to an interactive table.\"\n",
              "              style=\"display:none;\">\n",
              "        \n",
              "  <svg xmlns=\"http://www.w3.org/2000/svg\" height=\"24px\"viewBox=\"0 0 24 24\"\n",
              "       width=\"24px\">\n",
              "    <path d=\"M0 0h24v24H0V0z\" fill=\"none\"/>\n",
              "    <path d=\"M18.56 5.44l.94 2.06.94-2.06 2.06-.94-2.06-.94-.94-2.06-.94 2.06-2.06.94zm-11 1L8.5 8.5l.94-2.06 2.06-.94-2.06-.94L8.5 2.5l-.94 2.06-2.06.94zm10 10l.94 2.06.94-2.06 2.06-.94-2.06-.94-.94-2.06-.94 2.06-2.06.94z\"/><path d=\"M17.41 7.96l-1.37-1.37c-.4-.4-.92-.59-1.43-.59-.52 0-1.04.2-1.43.59L10.3 9.45l-7.72 7.72c-.78.78-.78 2.05 0 2.83L4 21.41c.39.39.9.59 1.41.59.51 0 1.02-.2 1.41-.59l7.78-7.78 2.81-2.81c.8-.78.8-2.07 0-2.86zM5.41 20L4 18.59l7.72-7.72 1.47 1.35L5.41 20z\"/>\n",
              "  </svg>\n",
              "      </button>\n",
              "      \n",
              "  <style>\n",
              "    .colab-df-container {\n",
              "      display:flex;\n",
              "      flex-wrap:wrap;\n",
              "      gap: 12px;\n",
              "    }\n",
              "\n",
              "    .colab-df-convert {\n",
              "      background-color: #E8F0FE;\n",
              "      border: none;\n",
              "      border-radius: 50%;\n",
              "      cursor: pointer;\n",
              "      display: none;\n",
              "      fill: #1967D2;\n",
              "      height: 32px;\n",
              "      padding: 0 0 0 0;\n",
              "      width: 32px;\n",
              "    }\n",
              "\n",
              "    .colab-df-convert:hover {\n",
              "      background-color: #E2EBFA;\n",
              "      box-shadow: 0px 1px 2px rgba(60, 64, 67, 0.3), 0px 1px 3px 1px rgba(60, 64, 67, 0.15);\n",
              "      fill: #174EA6;\n",
              "    }\n",
              "\n",
              "    [theme=dark] .colab-df-convert {\n",
              "      background-color: #3B4455;\n",
              "      fill: #D2E3FC;\n",
              "    }\n",
              "\n",
              "    [theme=dark] .colab-df-convert:hover {\n",
              "      background-color: #434B5C;\n",
              "      box-shadow: 0px 1px 3px 1px rgba(0, 0, 0, 0.15);\n",
              "      filter: drop-shadow(0px 1px 2px rgba(0, 0, 0, 0.3));\n",
              "      fill: #FFFFFF;\n",
              "    }\n",
              "  </style>\n",
              "\n",
              "      <script>\n",
              "        const buttonEl =\n",
              "          document.querySelector('#df-f8cd3adf-67ce-4c48-96b4-ac4471c46595 button.colab-df-convert');\n",
              "        buttonEl.style.display =\n",
              "          google.colab.kernel.accessAllowed ? 'block' : 'none';\n",
              "\n",
              "        async function convertToInteractive(key) {\n",
              "          const element = document.querySelector('#df-f8cd3adf-67ce-4c48-96b4-ac4471c46595');\n",
              "          const dataTable =\n",
              "            await google.colab.kernel.invokeFunction('convertToInteractive',\n",
              "                                                     [key], {});\n",
              "          if (!dataTable) return;\n",
              "\n",
              "          const docLinkHtml = 'Like what you see? Visit the ' +\n",
              "            '<a target=\"_blank\" href=https://colab.research.google.com/notebooks/data_table.ipynb>data table notebook</a>'\n",
              "            + ' to learn more about interactive tables.';\n",
              "          element.innerHTML = '';\n",
              "          dataTable['output_type'] = 'display_data';\n",
              "          await google.colab.output.renderOutput(dataTable, element);\n",
              "          const docLink = document.createElement('div');\n",
              "          docLink.innerHTML = docLinkHtml;\n",
              "          element.appendChild(docLink);\n",
              "        }\n",
              "      </script>\n",
              "    </div>\n",
              "  </div>\n",
              "  "
            ]
          },
          "metadata": {},
          "execution_count": 12
        }
      ],
      "source": [
        "train0 = train0[train0['t_dat'] <='2019-03-20']\n",
        "\n",
        "# add 0 in article_id column (string)\n",
        "train0['article_id'] = train0['article_id'].astype(str)\n",
        "train0['article_id'] = train0['article_id'].apply(lambda x: x.zfill(10))\n",
        "train0.head()"
      ]
    },
    {
      "cell_type": "markdown",
      "metadata": {
        "id": "jNMmxdtE_x0n"
      },
      "source": [
        "Having selected this dataset, lets get to work. We will begin by describing the key metric we will use to evaluate the candidate generators, and then move on to discuss few candidate generator techniques. Finally, we will finish the project by comparing the recall metrics across the three candidate generators"
      ]
    },
    {
      "cell_type": "markdown",
      "metadata": {
        "id": "khvwUVsb_x0n"
      },
      "source": [
        "# Key metric for candidate generation: _recall@k_"
      ]
    },
    {
      "cell_type": "markdown",
      "metadata": {
        "id": "ZPCvH143_x0n"
      },
      "source": [
        "The goal of the candidate generator is to fetch enough reevant candidates for the ranker to rank. Indeed, the ranker works on top of the output of the candidate generator -- if the candidate generator fetches relevant candidates, the ranker can do a better job at ranking these candidates. However, if the candidate generator misses out on a large set of relevant items, the ranker cannot rank them since it doesn't have access to good candidate items.\n",
        "\n",
        "Given such a role of the candidate generator, recall becomes the key metric with which we evaluate different candidate generators. Intuitively, *Recall* = of all relevant items, how many made it into the selected list?\n",
        "\n",
        "_Recall@k_ is the proportion of relevant items found in the top-k selected candidates.\n",
        "\n",
        "Mathematically recall@k is defined as follows:\n",
        "\n",
        "_Recall@k = (# of recommended items @k that are relevant) / (total # of relevant items)_\n",
        "\n",
        "Suppose we have a user who will make 5 purchases next month, and we wish to make 10 recommendations to this user on the homepage from among the set of 1 million products. Further suppose we have two candidate generators (CG-A and CG-B), each returning 100 candidates that the ranker can consumer and select the 10 recommendations. If CG-A is able to retrieve 3 of these 5 products amongst its set of 100 candidates, and CG-B is able to retrieve only 2 of the 5 products amongst its set of 100 candidates, then CG-A would have a higher recall than CG-B.\n",
        "Recall for CG-A = 3/5\n",
        "Recall for CG-B = 2/5\n",
        "\n",
        "\n",
        "Lets implement this recall metric in a simple function and try it out."
      ]
    },
    {
      "cell_type": "code",
      "execution_count": 13,
      "metadata": {
        "id": "fge4KPZG_x0n"
      },
      "outputs": [],
      "source": [
        "# Recall@k = (# of recommended items @k that are relevant) / (total # of relevant items)\n",
        "def estimateRecall(cg, purchase):\n",
        "    return len(intersection(cg,purchase))/len(purchase)"
      ]
    },
    {
      "cell_type": "code",
      "execution_count": 14,
      "metadata": {
        "id": "mp7_VZdOgkIS"
      },
      "outputs": [],
      "source": [
        "def intersection(lst1, lst2):\n",
        "    return list(set(lst1) & set(lst2))"
      ]
    },
    {
      "cell_type": "code",
      "execution_count": 15,
      "metadata": {
        "colab": {
          "base_uri": "https://localhost:8080/"
        },
        "id": "DBQYei4K_x0o",
        "outputId": "101c51e4-3620-4a00-84e9-c153b627d1ce"
      },
      "outputs": [
        {
          "output_type": "stream",
          "name": "stdout",
          "text": [
            "recall for cg1:  0.4\n",
            "recall for cg1:  0.2\n"
          ]
        }
      ],
      "source": [
        "purchases = [\"item45\",\"item97\",\"item71\",\"item125\",\"item5\"]\n",
        "cg1 = [\"item1\",\"item97\",\"item12\",\"item105\",\"item5\",\"item17\",\"item197\",\"item122\",\"item85\",\"item15\"]\n",
        "cg2 = [\"item13\",\"item94\",\"item14\",\"item15\",\"item5\",\"item18\",\"item197\",\"item132\",\"item86\",\"item65\"]\n",
        "print(\"recall for cg1: \",estimateRecall(cg1,purchases))\n",
        "print(\"recall for cg1: \",estimateRecall(cg2,purchases))"
      ]
    },
    {
      "cell_type": "markdown",
      "metadata": {
        "id": "m5Rgk8-agyiv"
      },
      "source": [
        "# **Traditional Candidate Generation**\n",
        "\n",
        "With the metric in place, now lets look into a few obvious candiate generators.\n",
        "\n",
        "> **1. Candidate Genertator 1: random products**\n",
        "The simplest candidate generator to start with is a random candidate selector -- from amongst the list of products, randomly select few products.\n",
        "\n",
        "\n",
        "> **2. Candidate Genertator 2: Top most popular products**\n",
        "Another simple candidate selection strategy is to select the top-k most popular products from historic interactions and use this list as the set of candidates for the downstream ranking goal.\n",
        "\n",
        "\n",
        "> **3. Candidate Genertator 3: Two-tower model CG**\n",
        "One of most popular, and industry-wide used CGs is a two-tower neural network. This is a learnt deep model with one tower for the user and another tower for the product, followed by a dot product. We describe this model in detail further down the notebook.\n",
        "\n",
        "\n",
        "Below we will implement each of these three candidate generators and compare their performace in terms of recall metric.\n",
        "\n",
        "In order to have a clean evaluation set-up, we will divide the transactions data we have into train and test split. We look at one year's of purchases and use the first 9 months as training data and the remaining three months as the test data."
      ]
    },
    {
      "cell_type": "code",
      "execution_count": 16,
      "metadata": {
        "id": "PQR3Vlmng3kj"
      },
      "outputs": [],
      "source": [
        "#Changed from 1 year to 6 months (5 for training and 1 for validation)\n",
        "train = train0[train0['t_dat']<='2019-02-20']\n",
        "test = train0[train0['t_dat'] >='2019-03-20']"
      ]
    },
    {
      "cell_type": "markdown",
      "metadata": {
        "id": "q9TqihtY_x0o"
      },
      "source": [
        "For ease of evaluation, without any loss of generalization, we only consider customers that have made a purchase in both train and test time-periods. The methods and set-up remain the same for all other customers as well."
      ]
    },
    {
      "cell_type": "code",
      "execution_count": 17,
      "metadata": {
        "colab": {
          "base_uri": "https://localhost:8080/"
        },
        "id": "BGWgKyUm_x0o",
        "outputId": "7de2c2b4-a533-4ce5-ad69-4b875cbb1b67"
      },
      "outputs": [
        {
          "output_type": "stream",
          "name": "stdout",
          "text": [
            "6424696 41505 6424696 41505 9414\n"
          ]
        }
      ],
      "source": [
        "c1 = train['customer_id'].to_list()\n",
        "c2 = test['customer_id'].to_list()\n",
        "\n",
        "commonUsers = intersection(c1, c2)\n",
        "\n",
        "print(len(train),len(test),len(c1),len(c2),len(commonUsers))"
      ]
    },
    {
      "cell_type": "markdown",
      "metadata": {
        "id": "kY7SmMzj_x0p"
      },
      "source": [
        "Here commonUsers represent the set of users for whom we would be interested in generating candidates."
      ]
    },
    {
      "cell_type": "code",
      "execution_count": 18,
      "metadata": {
        "id": "J-zUol_h_x0p",
        "scrolled": true
      },
      "outputs": [],
      "source": [
        "#Candidate Generator 1: random products\n",
        "    \n",
        "def getKCandidatesRandom(u,k):\n",
        "    return random.sample(train['article_id'].to_list(),k)"
      ]
    },
    {
      "cell_type": "code",
      "execution_count": 19,
      "metadata": {
        "id": "jMDli63d_x0p"
      },
      "outputs": [],
      "source": [
        "#Candidate Generator 2: top-k popular products based on historic interactions\n",
        "\n",
        "def getTopKCandidatesPopular(u,k):\n",
        "    c = Counter(train['article_id'].to_list())\n",
        "    topPopular = [article for article, count in c.most_common(k)]\n",
        "    return topPopular\n"
      ]
    },
    {
      "cell_type": "code",
      "execution_count": 20,
      "metadata": {
        "id": "HUb5ljol_x0p"
      },
      "outputs": [],
      "source": [
        "# with the 2 CGs defined, we can now query these CGs for a set of users,\n",
        "# and compute the recall metrics to see how well they perform.\n",
        "\n",
        "def runCandidateGeneration(method,k):\n",
        "    overallRecall = 0\n",
        "    recallList = []\n",
        "    i=0\n",
        "    userSet = commonUsers[0:10]\n",
        "    for u in userSet:\n",
        "        purchaseList = test[test['customer_id']==u]['article_id'].to_list()\n",
        "        cg = method(u,k)\n",
        "        r = estimateRecall(cg,purchaseList)\n",
        "        overallRecall+=r\n",
        "        recallList.append(r)\n",
        "    overallRecall = overallRecall/len(userSet)\n",
        "    return (overallRecall,recallList)"
      ]
    },
    {
      "cell_type": "code",
      "execution_count": 20,
      "metadata": {
        "id": "I6_A0BtM_x0p"
      },
      "outputs": [],
      "source": [
        ""
      ]
    },
    {
      "cell_type": "code",
      "execution_count": 21,
      "metadata": {
        "colab": {
          "base_uri": "https://localhost:8080/"
        },
        "id": "JlLbEOpi_x0p",
        "outputId": "4c7a6c7f-3a5c-4055-a57f-b800cd1eb56d"
      },
      "outputs": [
        {
          "output_type": "stream",
          "name": "stdout",
          "text": [
            "recall for candidate generation at k=100 candidates fetched:  0.0\n",
            "recall for candidate generation at k=1000 candidates fetched:  0.05333333333333333\n"
          ]
        }
      ],
      "source": [
        "# Running the metric calculations for the CG 1: random CG, to fetch 100 and 1000 candidates.\n",
        "r, rlist = runCandidateGeneration(getKCandidatesRandom,k=100)\n",
        "print(\"recall for candidate generation at k=100 candidates fetched: \", r)\n",
        "\n",
        "r, rlist = runCandidateGeneration(getKCandidatesRandom,k=1000)\n",
        "print(\"recall for candidate generation at k=1000 candidates fetched: \", r)"
      ]
    },
    {
      "cell_type": "code",
      "execution_count": 21,
      "metadata": {
        "id": "tpU62E2B_x0p"
      },
      "outputs": [],
      "source": [
        ""
      ]
    },
    {
      "cell_type": "code",
      "execution_count": 22,
      "metadata": {
        "colab": {
          "base_uri": "https://localhost:8080/"
        },
        "id": "uPnrQA1j_x0p",
        "outputId": "e90d1cd2-8df2-4305-c3d0-c480bcc8fc35"
      },
      "outputs": [
        {
          "output_type": "stream",
          "name": "stdout",
          "text": [
            "recall for candidate generation at k=100 candidates fetched:  0.0\n",
            "recall for candidate generation at k=1000 candidates fetched:  0.07333333333333333\n"
          ]
        }
      ],
      "source": [
        "# Running the metric calculations for the CG 2: top popular products CG, to fetch 100 and 1000 candidates.\n",
        "\n",
        "r, rlist = runCandidateGeneration(getTopKCandidatesPopular,k=100)\n",
        "print(\"recall for candidate generation at k=100 candidates fetched: \", r)\n",
        "\n",
        "r, rlist = runCandidateGeneration(getTopKCandidatesPopular,k=1000)\n",
        "print(\"recall for candidate generation at k=1000 candidates fetched: \", r)"
      ]
    },
    {
      "cell_type": "markdown",
      "metadata": {
        "id": "jGoeKOhv_x0q"
      },
      "source": [
        "We notice that the recall@k metric is significantly higher for popular CG than for random CG, which is as per our expectations.\n",
        "\n",
        "Both these CGs are non-learnt, and generic across all users. We now switch to discuss a learnt CG model -- the two-tower model which we covered in the Monday lecture."
      ]
    },
    {
      "cell_type": "markdown",
      "metadata": {
        "id": "nijeGmCYgU0d"
      },
      "source": [
        "# **Two Tower Model: Candidate Generator**"
      ]
    },
    {
      "cell_type": "markdown",
      "metadata": {
        "id": "10OghI3zkkq_"
      },
      "source": [
        "![Screenshot 2022-05-16 at 21.33.58.png](data:image/png;base64,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)"
      ]
    },
    {
      "cell_type": "markdown",
      "metadata": {
        "id": "_0Yn8awB_x0s"
      },
      "source": [
        "A two tower model is a neural network that is made up of two separate sub-models, one that learns representations for the users, and one that learns representations for candidate objects. This information is then combined in a single layer to produce a prediction of whether a user will like an item. This is currently one of the best-performing models for candidate generation, as it learns information from both the user and the items. Above, you can see a  visualization of how this process works.\n",
        "\n",
        "This approach is useful for candidate generation across a wide variety of industries, from online retail to social media! With one tower representing the users and the other representing the items, the system can learn a lot about whether a user might like a particular item. These models are trained using implicit signals – YouTube, for example, might consider how many seconds a user streamed a video, or how they interacted with it. The learned information can then be combined to produce the final prediction."
      ]
    },
    {
      "cell_type": "code",
      "execution_count": 23,
      "metadata": {
        "id": "kOYUvr6qwjo7"
      },
      "outputs": [],
      "source": [
        "embedding_dimension = 64\n",
        "\n",
        "customer_model = tf.keras.Sequential([\n",
        "  tf.keras.layers.StringLookup(\n",
        "      vocabulary=unique_customer_ids, mask_token=None),  \n",
        "  tf.keras.layers.Embedding(len(unique_customer_ids) + 1, embedding_dimension),\n",
        "  tf.keras.layers.Dense(64, activation='relu')\n",
        "])\n"
      ]
    },
    {
      "cell_type": "code",
      "execution_count": 24,
      "metadata": {
        "id": "8RvQVd2vwvG-"
      },
      "outputs": [],
      "source": [
        "article_model = tf.keras.Sequential([\n",
        "  tf.keras.layers.StringLookup(\n",
        "      vocabulary=unique_article_ids, mask_token=None),\n",
        "  tf.keras.layers.Embedding(len(unique_article_ids) + 1, embedding_dimension),\n",
        "  tf.keras.layers.Dense(64, activation='relu')\n",
        "])"
      ]
    },
    {
      "cell_type": "markdown",
      "metadata": {
        "id": "ASlwXtJkhoS-"
      },
      "source": [
        "### **Metric: FactorizedTopK**\n",
        "To figure out how good our model is, we need to compare the affinity score that the model calculates for this pair to the scores of all the other possible candidates: if the score for the positive pair is higher than for all other candidates, our model is highly accurate.\n",
        "\n",
        "To do this, we can use the tfrs.metrics.FactorizedTopK metric. The metric has one required argument: the dataset of candidates that are used as implicit negatives for evaluation.\n",
        "\n",
        " The default metric is top K categorical accuracy: how often the true candidate is in the top K candidates for a given query."
      ]
    },
    {
      "cell_type": "code",
      "execution_count": 25,
      "metadata": {
        "id": "6dWNaLjZwxM0"
      },
      "outputs": [],
      "source": [
        "class HandMModel(tfrs.Model):\n",
        "    \n",
        "    def __init__(self, customer_model, article_model):\n",
        "        super().__init__()\n",
        "        self.article_model: tf.keras.Model = article_model\n",
        "        self.customer_model: tf.keras.Model = customer_model\n",
        "        self.task = tfrs.tasks.Retrieval(\n",
        "        metrics=tfrs.metrics.FactorizedTopK(\n",
        "            candidates=articles.batch(128).map(self.article_model),            \n",
        "            ),\n",
        "        )        \n",
        "\n",
        "    def compute_loss(self, features: Dict[str, tf.Tensor], training=False) -> tf.Tensor:\n",
        "    \n",
        "        customer_embeddings = self.customer_model(features[\"customer_id\"])    \n",
        "        article_embeddings = self.article_model(features[\"article_id\"])\n",
        "\n",
        "        # The task computes the loss and the metrics.\n",
        "        return self.task(customer_embeddings, article_embeddings,compute_metrics=not training)"
      ]
    },
    {
      "cell_type": "markdown",
      "metadata": {
        "id": "kvG8v6GZmQxm"
      },
      "source": [
        "TFRS exposes a base model class (tfrs.models.Model) which streamlines bulding models: all we need to do is to set up the components in the __init__ method, and implement the compute_loss method, taking in the raw features and returning a loss value.\n",
        "\n",
        "The base model will then take care of creating the appropriate training loop to fit our model.\n",
        "\n",
        "\n",
        "The tfrs.Model base class is a simply convenience class: it allows us to compute both training and test losses using the same method.\n",
        "\n",
        "Under the hood, it's still a plain Keras model. You could achieve the same functionality by inheriting from tf.keras.Model and overriding the train_step and test_step functions (see the guide for details):"
      ]
    },
    {
      "cell_type": "code",
      "execution_count": 26,
      "metadata": {
        "id": "wVwaz47Zi8eq"
      },
      "outputs": [],
      "source": [
        "class NoBaseClassHandMModel(tf.keras.Model):\n",
        "\n",
        "  def __init__(self, user_model, movie_model):\n",
        "    super().__init__()\n",
        "    self.movie_model: tf.keras.Model = movie_model\n",
        "    self.user_model: tf.keras.Model = user_model\n",
        "    self.task: tf.keras.layers.Layer = task\n",
        "\n",
        "  def train_step(self, features: Dict[Text, tf.Tensor]) -> tf.Tensor:\n",
        "\n",
        "    # Set up a gradient tape to record gradients.\n",
        "    with tf.GradientTape() as tape:\n",
        "\n",
        "      # Loss computation.\n",
        "      customer_embeddings = self.customer_model(features[\"customer_id\"])\n",
        "      positive_article_embeddings = self.article_model(features[\"article_id\"])\n",
        "      loss = self.task(customer_embeddings, positive_article_embeddings)\n",
        "\n",
        "      # Handle regularization losses as well.\n",
        "      regularization_loss = sum(self.losses)\n",
        "\n",
        "      total_loss = loss + regularization_loss\n",
        "\n",
        "    gradients = tape.gradient(total_loss, self.trainable_variables)\n",
        "    self.optimizer.apply_gradients(zip(gradients, self.trainable_variables))\n",
        "\n",
        "    metrics = {metric.name: metric.result() for metric in self.metrics}\n",
        "    metrics[\"loss\"] = loss\n",
        "    metrics[\"regularization_loss\"] = regularization_loss\n",
        "    metrics[\"total_loss\"] = total_loss\n",
        "\n",
        "    return metrics\n",
        "\n",
        "  def test_step(self, features: Dict[Text, tf.Tensor]) -> tf.Tensor:\n",
        "\n",
        "    # Loss computation.\n",
        "    customer_embeddings = self.customer_model(features[\"user_id\"])\n",
        "    positive_article_embeddings = self.article_model(features[\"movie_title\"])\n",
        "    loss = self.task(customer_embeddings, positive_article_embeddings)\n",
        "\n",
        "    # Handle regularization losses as well.\n",
        "    regularization_loss = sum(self.losses)\n",
        "\n",
        "    total_loss = loss + regularization_loss\n",
        "\n",
        "    metrics = {metric.name: metric.result() for metric in self.metrics}\n",
        "    metrics[\"loss\"] = loss\n",
        "    metrics[\"regularization_loss\"] = regularization_loss\n",
        "    metrics[\"total_loss\"] = total_loss\n",
        "\n",
        "    return metrics"
      ]
    },
    {
      "cell_type": "markdown",
      "metadata": {
        "id": "Gv9ZuKHR_x0s"
      },
      "source": [
        "After defining the model, we can use standard Keras fitting and evaluation routines to fit and evaluate the model.\n",
        "\n",
        "Let's first instantiate the model."
      ]
    },
    {
      "cell_type": "code",
      "execution_count": 27,
      "metadata": {
        "id": "-VmUOnE9xChq"
      },
      "outputs": [],
      "source": [
        "model = HandMModel(customer_model, article_model)\n",
        "model.compile(optimizer=tf.keras.optimizers.Adagrad(learning_rate=0.1))"
      ]
    },
    {
      "cell_type": "markdown",
      "metadata": {
        "id": "DetEIfIb_X72"
      },
      "source": [
        "Then lets shuffle, batch, and cache the training and evaluation data, and train the model on the training data.\n"
      ]
    },
    {
      "cell_type": "code",
      "execution_count": 28,
      "metadata": {
        "id": "yu-_dT1xxdub",
        "colab": {
          "base_uri": "https://localhost:8080/"
        },
        "outputId": "cc6b1de2-4b74-4f58-ea08-0c4f163859b9"
      },
      "outputs": [
        {
          "output_type": "stream",
          "name": "stdout",
          "text": [
            "Epoch 1/4\n",
            "25097/25097 [==============================] - 229s 9ms/step - factorized_top_k/top_1_categorical_accuracy: 0.0000e+00 - factorized_top_k/top_5_categorical_accuracy: 0.0000e+00 - factorized_top_k/top_10_categorical_accuracy: 0.0000e+00 - factorized_top_k/top_50_categorical_accuracy: 0.0000e+00 - factorized_top_k/top_100_categorical_accuracy: 0.0000e+00 - loss: 1225.5123 - regularization_loss: 0.0000e+00 - total_loss: 1225.5123\n",
            "Epoch 2/4\n",
            "25097/25097 [==============================] - 155s 6ms/step - factorized_top_k/top_1_categorical_accuracy: 0.0000e+00 - factorized_top_k/top_5_categorical_accuracy: 0.0000e+00 - factorized_top_k/top_10_categorical_accuracy: 0.0000e+00 - factorized_top_k/top_50_categorical_accuracy: 0.0000e+00 - factorized_top_k/top_100_categorical_accuracy: 0.0000e+00 - loss: 974.7742 - regularization_loss: 0.0000e+00 - total_loss: 974.7742\n",
            "Epoch 3/4\n",
            "25097/25097 [==============================] - 159s 6ms/step - factorized_top_k/top_1_categorical_accuracy: 0.0000e+00 - factorized_top_k/top_5_categorical_accuracy: 0.0000e+00 - factorized_top_k/top_10_categorical_accuracy: 0.0000e+00 - factorized_top_k/top_50_categorical_accuracy: 0.0000e+00 - factorized_top_k/top_100_categorical_accuracy: 0.0000e+00 - loss: 829.8533 - regularization_loss: 0.0000e+00 - total_loss: 829.8533\n",
            "Epoch 4/4\n",
            "25097/25097 [==============================] - 159s 6ms/step - factorized_top_k/top_1_categorical_accuracy: 0.0000e+00 - factorized_top_k/top_5_categorical_accuracy: 0.0000e+00 - factorized_top_k/top_10_categorical_accuracy: 0.0000e+00 - factorized_top_k/top_50_categorical_accuracy: 0.0000e+00 - factorized_top_k/top_100_categorical_accuracy: 0.0000e+00 - loss: 743.6793 - regularization_loss: 0.0000e+00 - total_loss: 743.6793\n"
          ]
        }
      ],
      "source": [
        "\n",
        "\n",
        "train_ds = tf.data.Dataset.from_tensor_slices(dict(train[['customer_id','article_id']])).shuffle(100_000).batch(256).cache()\n",
        "test_ds = tf.data.Dataset.from_tensor_slices(dict(test[['customer_id','article_id']])).batch(256).cache()\n",
        "\n",
        "num_epochs = 4\n",
        "\n",
        "history = model.fit(train_ds,epochs=num_epochs, verbose=1)"
      ]
    },
    {
      "cell_type": "markdown",
      "metadata": {
        "id": "sLF3oKiSmoW8"
      },
      "source": [
        "As the model trains, the loss is falling and a set of top-k retrieval metrics is updated. These tell us whether the true positive is in the top-k retrieved items from the entire candidate set. For example, a top-5 categorical accuracy metric of 0.2 would tell us that, on average, the true positive is in the top 5 retrieved items 20% of the time.\n",
        "\n",
        "Finally, we can evaluate our model on the test set:"
      ]
    },
    {
      "cell_type": "code",
      "execution_count": 29,
      "metadata": {
        "id": "6zNX0NkF6U8A",
        "colab": {
          "base_uri": "https://localhost:8080/"
        },
        "outputId": "1a9e5765-de9f-4eed-a69d-f0838093ce02"
      },
      "outputs": [
        {
          "output_type": "stream",
          "name": "stdout",
          "text": [
            "4/4 [==============================] - 28s 7s/step - factorized_top_k/top_1_categorical_accuracy: 5.0000e-04 - factorized_top_k/top_5_categorical_accuracy: 0.0025 - factorized_top_k/top_10_categorical_accuracy: 0.0030 - factorized_top_k/top_50_categorical_accuracy: 0.0105 - factorized_top_k/top_100_categorical_accuracy: 0.0200 - loss: 3913.6577 - regularization_loss: 0.0000e+00 - total_loss: 3913.6577\n"
          ]
        },
        {
          "output_type": "execute_result",
          "data": {
            "text/plain": [
              "{'factorized_top_k/top_100_categorical_accuracy': 0.019999999552965164,\n",
              " 'factorized_top_k/top_10_categorical_accuracy': 0.003000000026077032,\n",
              " 'factorized_top_k/top_1_categorical_accuracy': 0.0005000000237487257,\n",
              " 'factorized_top_k/top_50_categorical_accuracy': 0.010499999858438969,\n",
              " 'factorized_top_k/top_5_categorical_accuracy': 0.0024999999441206455,\n",
              " 'loss': 3904.084228515625,\n",
              " 'regularization_loss': 0,\n",
              " 'total_loss': 3904.084228515625}"
            ]
          },
          "metadata": {},
          "execution_count": 29
        }
      ],
      "source": [
        "test_ds = tf.data.Dataset.from_tensor_slices(dict(test.sample(2000)[['customer_id','article_id']])).batch(500).cache()\n",
        "model.evaluate(test_ds, return_dict=True)\n"
      ]
    },
    {
      "cell_type": "markdown",
      "metadata": {
        "id": "JkCuBilpm4vq"
      },
      "source": [
        "### **Making predictions**\n",
        "Now that we have a model, we would like to be able to make predictions. We can use the tfrs.layers.factorized_top_k.BruteForce layer to do this."
      ]
    },
    {
      "cell_type": "code",
      "execution_count": 30,
      "metadata": {
        "id": "h-3TqFv57CrM",
        "colab": {
          "base_uri": "https://localhost:8080/"
        },
        "outputId": "d27c4ad8-1d9c-46d4-df7b-298e01a81273"
      },
      "outputs": [
        {
          "output_type": "stream",
          "name": "stdout",
          "text": [
            "Recommendations for customer: [b'0695807004' b'0705348001' b'0679970001' b'0515321001' b'0694813001'\n",
            " b'0657219001' b'0754304002' b'0584616001' b'0674886002' b'0703279004'\n",
            " b'0699846001' b'0448515027' b'0591855001' b'0508671003' b'0630812001'\n",
            " b'0682075001' b'0690957007' b'0312878001' b'0630747001' b'0708554001'\n",
            " b'0624634002' b'0704210001' b'0621381012' b'0634727001' b'0372860043'\n",
            " b'0695182008' b'0720993001' b'0748365002' b'0639260002' b'0696533001'\n",
            " b'0624634001' b'0687068006' b'0615279001' b'0663140002' b'0635530003'\n",
            " b'0622406005' b'0619234005' b'0634731001' b'0626713001' b'0490473018'\n",
            " b'0692895006' b'0658030001' b'0645568001' b'0635276002' b'0736313001'\n",
            " b'0659462003' b'0620423016' b'0694734001' b'0684637004' b'0715226005']\n"
          ]
        }
      ],
      "source": [
        "articles = article_ds.map(lambda x: x['article_id'])\n",
        "\n",
        "# Create a model that takes in raw customer features, and\n",
        "index = tfrs.layers.factorized_top_k.BruteForce(model.customer_model,k=50)\n",
        "# recommends articles out of the entire dataset.\n",
        "index.index_from_dataset(\n",
        "  tf.data.Dataset.zip((articles.batch(1000), articles.batch(1000).map(model.article_model)))\n",
        ")\n",
        "\n",
        "# Get recommendations.\n",
        "_, titles = index(tf.constant([\"00000dbacae5abe5e23885899a1fa44253a17956c6d1c3d25f88aa139fdfc657\"]))\n",
        "print(f\"Recommendations for customer: {titles[0, :100]}\")"
      ]
    },
    {
      "cell_type": "markdown",
      "metadata": {
        "id": "VHGN_3K3_x0t"
      },
      "source": [
        "Now that we have the ability to make predictions, we would like to use this model and fetch the top-k candidates for the set of customers we have used for the previous two candidate generators.\n",
        "\n",
        "Similar to the CG1 and CG2 functions, we define the two-tower CG function that takes in a customer ID and value k, and returns the list of top-k products as the list of candidate products."
      ]
    },
    {
      "cell_type": "code",
      "execution_count": 31,
      "metadata": {
        "id": "J-GLbiwr_x0t"
      },
      "outputs": [],
      "source": [
        "def getTopKCandidates2Tower(u,k):\n",
        "    # Create a model that takes in raw customer features, and\n",
        "    index = tfrs.layers.factorized_top_k.BruteForce(model.customer_model,k)\n",
        "    # recommends articles out of the entire dataset.\n",
        "    index.index_from_dataset(\n",
        "        tf.data.Dataset.zip((articles.batch(1000), articles.batch(1000).map(model.article_model)))\n",
        "    )\n",
        "    _, candidates = index(tf.constant([u]))\n",
        "    candidates = candidates.numpy().tolist()[0]\n",
        "    cg = []\n",
        "    for c in candidates:\n",
        "        cg.append(c.decode(\"utf-8\") )\n",
        "    return (cg)"
      ]
    },
    {
      "cell_type": "markdown",
      "metadata": {
        "id": "ls28y2uO_x0t"
      },
      "source": [
        "We can now use this function to estimate the recall metrics for this new CG, and compare with the other 2 CGs we implemented before."
      ]
    },
    {
      "cell_type": "code",
      "execution_count": 32,
      "metadata": {
        "id": "skeVGLEz_x0t",
        "colab": {
          "base_uri": "https://localhost:8080/"
        },
        "outputId": "9a2850a2-ec9a-4e9d-92ba-381ec10ec0ba"
      },
      "outputs": [
        {
          "output_type": "stream",
          "name": "stdout",
          "text": [
            "recall for candidate generation at k=100 candidates fetched:  0.0\n",
            "recall for candidate generation at k=1000 candidates fetched:  0.08742424242424243\n"
          ]
        }
      ],
      "source": [
        "r, rlist = runCandidateGeneration(getTopKCandidates2Tower,k=100)\n",
        "print(\"recall for candidate generation at k=100 candidates fetched: \", r)\n",
        "r, rlist = runCandidateGeneration(getTopKCandidates2Tower,k=1000)\n",
        "print(\"recall for candidate generation at k=1000 candidates fetched: \", r)"
      ]
    },
    {
      "cell_type": "markdown",
      "metadata": {
        "id": "EjpHPm4m_x0t"
      },
      "source": [
        "Now lets compile the results from the three different Candidate Generators we implemented:\n",
        "\n",
        "**Recall at 100**\n",
        "- CG1:Random 0.0\n",
        "- CG2:Popular 0.0203\n",
        "- CG3: Two-tower 0.0013\n",
        "\n",
        "**Recall at 1000**\n",
        "- CG1:Random 0.057\n",
        "- CG2:Popular 0.0678\n",
        "- CG3: Two-tower 0.15\n",
        "\n",
        "We notice that the random CG performs the worst, and with just 4 epochs of training, the two-tower CG is able to give a significant improvement in recall metric for k=1000 candidates.\n",
        "\n",
        "This completes the week 1 project, where we looked at the basic implementation of the two-tower model for candidate generator. The retrieved set of candidates from the CG output forms the dataset on which sophiticated rankers operate. Due to low-latency requirements, high-capacity rankers do not operate on top of the large candidate pool of millions of items, so CGs help them by sub-selecting a smaller set of candidates for the ranker to operate upon.  In week 2 we will implement a few ranking methods that will work directly on top of the candidates that these CG generate.\n",
        "\n",
        "Important to note – the embeddings from the pen-ultimate layer of these models are typically stored for real-time retrieval. Indeed, these embeddings represent the user and items in a shared embedding space and can be consumed by various models powering downstream tasks. To store embeddings for 400 million users and over 100 million items and querying them in real time is a challenging task. This is where approximate nearest neighbor approaches step in to help. In week 3 project, we will briefly try a few such approximate NN approaches when dealing with user representations."
      ]
    },
    {
      "cell_type": "markdown",
      "metadata": {
        "id": "8zp0Dy9Hj-0q"
      },
      "source": [
        "# New Implementation Section (please review bellow this)\n",
        "\n",
        "Author: Danilo Segura\n",
        "Init Date: 2022/07/14\n",
        "Submit Date: \n",
        "\n",
        "Mission: Implement two personalized (non-learnt (heuristic)) candidate generators\n",
        "\n",
        "**1. CG personalized to user'd interest (e.g. category of intererest)**\n"
      ]
    },
    {
      "cell_type": "markdown",
      "metadata": {
        "id": "Fm8k8-iumG-d"
      },
      "source": [
        "Okay.. time to define CG to user's interest.\n",
        "\n",
        "We will the top popular categories and then pick random items over each space"
      ]
    },
    {
      "cell_type": "code",
      "source": [
        "from google.colab import drive\n",
        "drive.mount('/content/drive')\n",
        "path = 'drive/My Drive/Corise/Recommendation/'"
      ],
      "metadata": {
        "colab": {
          "base_uri": "https://localhost:8080/"
        },
        "id": "lbXPAnpUTLB2",
        "outputId": "81f312d1-8883-4f55-920a-0cd5124567a0"
      },
      "execution_count": 4,
      "outputs": [
        {
          "output_type": "stream",
          "name": "stdout",
          "text": [
            "Drive already mounted at /content/drive; to attempt to forcibly remount, call drive.mount(\"/content/drive\", force_remount=True).\n"
          ]
        }
      ]
    },
    {
      "cell_type": "code",
      "execution_count": 5,
      "metadata": {
        "id": "2pPgDYJjiejI"
      },
      "outputs": [],
      "source": [
        "article_df = pd.read_csv(path+\"hmdata/articles.csv.zip\")\n",
        "customer_df = pd.read_csv(path+\"hmdata/customers.csv.zip\")\n",
        "train0 = pd.read_csv(path+'hmdata/transactions_train.csv.zip')"
      ]
    },
    {
      "cell_type": "code",
      "source": [
        "# Recall@k = (# of recommended items @k that are relevant) / (total # of relevant items)\n",
        "def estimateRecall(cg, purchase):\n",
        "    return len(intersection(cg,purchase))/len(purchase)\n",
        "def intersection(lst1, lst2):\n",
        "    return list(set(lst1) & set(lst2))"
      ],
      "metadata": {
        "id": "fGINjQz6pkYi"
      },
      "execution_count": 6,
      "outputs": []
    },
    {
      "cell_type": "code",
      "execution_count": 7,
      "metadata": {
        "id": "PMsBUw_Lo4uB",
        "colab": {
          "base_uri": "https://localhost:8080/",
          "height": 393
        },
        "outputId": "6b42d713-69b1-4f2e-b8ea-23460b4632cb"
      },
      "outputs": [
        {
          "output_type": "execute_result",
          "data": {
            "text/plain": [
              "   article_id  product_code      prod_name  product_type_no product_type_name  \\\n",
              "0   108775015        108775      Strap top              253          Vest top   \n",
              "1   108775044        108775      Strap top              253          Vest top   \n",
              "2   108775051        108775  Strap top (1)              253          Vest top   \n",
              "\n",
              "   product_group_name  graphical_appearance_no graphical_appearance_name  \\\n",
              "0  Garment Upper body                  1010016                     Solid   \n",
              "1  Garment Upper body                  1010016                     Solid   \n",
              "2  Garment Upper body                  1010017                    Stripe   \n",
              "\n",
              "   colour_group_code colour_group_name  ...  department_name index_code  \\\n",
              "0                  9             Black  ...     Jersey Basic          A   \n",
              "1                 10             White  ...     Jersey Basic          A   \n",
              "2                 11         Off White  ...     Jersey Basic          A   \n",
              "\n",
              "   index_name index_group_no  index_group_name section_no  \\\n",
              "0  Ladieswear              1        Ladieswear         16   \n",
              "1  Ladieswear              1        Ladieswear         16   \n",
              "2  Ladieswear              1        Ladieswear         16   \n",
              "\n",
              "             section_name garment_group_no  garment_group_name  \\\n",
              "0  Womens Everyday Basics             1002        Jersey Basic   \n",
              "1  Womens Everyday Basics             1002        Jersey Basic   \n",
              "2  Womens Everyday Basics             1002        Jersey Basic   \n",
              "\n",
              "                               detail_desc  \n",
              "0  Jersey top with narrow shoulder straps.  \n",
              "1  Jersey top with narrow shoulder straps.  \n",
              "2  Jersey top with narrow shoulder straps.  \n",
              "\n",
              "[3 rows x 25 columns]"
            ],
            "text/html": [
              "\n",
              "  <div id=\"df-b78b50fb-9fca-4f65-ab8c-aae7214a80b6\">\n",
              "    <div class=\"colab-df-container\">\n",
              "      <div>\n",
              "<style scoped>\n",
              "    .dataframe tbody tr th:only-of-type {\n",
              "        vertical-align: middle;\n",
              "    }\n",
              "\n",
              "    .dataframe tbody tr th {\n",
              "        vertical-align: top;\n",
              "    }\n",
              "\n",
              "    .dataframe thead th {\n",
              "        text-align: right;\n",
              "    }\n",
              "</style>\n",
              "<table border=\"1\" class=\"dataframe\">\n",
              "  <thead>\n",
              "    <tr style=\"text-align: right;\">\n",
              "      <th></th>\n",
              "      <th>article_id</th>\n",
              "      <th>product_code</th>\n",
              "      <th>prod_name</th>\n",
              "      <th>product_type_no</th>\n",
              "      <th>product_type_name</th>\n",
              "      <th>product_group_name</th>\n",
              "      <th>graphical_appearance_no</th>\n",
              "      <th>graphical_appearance_name</th>\n",
              "      <th>colour_group_code</th>\n",
              "      <th>colour_group_name</th>\n",
              "      <th>...</th>\n",
              "      <th>department_name</th>\n",
              "      <th>index_code</th>\n",
              "      <th>index_name</th>\n",
              "      <th>index_group_no</th>\n",
              "      <th>index_group_name</th>\n",
              "      <th>section_no</th>\n",
              "      <th>section_name</th>\n",
              "      <th>garment_group_no</th>\n",
              "      <th>garment_group_name</th>\n",
              "      <th>detail_desc</th>\n",
              "    </tr>\n",
              "  </thead>\n",
              "  <tbody>\n",
              "    <tr>\n",
              "      <th>0</th>\n",
              "      <td>108775015</td>\n",
              "      <td>108775</td>\n",
              "      <td>Strap top</td>\n",
              "      <td>253</td>\n",
              "      <td>Vest top</td>\n",
              "      <td>Garment Upper body</td>\n",
              "      <td>1010016</td>\n",
              "      <td>Solid</td>\n",
              "      <td>9</td>\n",
              "      <td>Black</td>\n",
              "      <td>...</td>\n",
              "      <td>Jersey Basic</td>\n",
              "      <td>A</td>\n",
              "      <td>Ladieswear</td>\n",
              "      <td>1</td>\n",
              "      <td>Ladieswear</td>\n",
              "      <td>16</td>\n",
              "      <td>Womens Everyday Basics</td>\n",
              "      <td>1002</td>\n",
              "      <td>Jersey Basic</td>\n",
              "      <td>Jersey top with narrow shoulder straps.</td>\n",
              "    </tr>\n",
              "    <tr>\n",
              "      <th>1</th>\n",
              "      <td>108775044</td>\n",
              "      <td>108775</td>\n",
              "      <td>Strap top</td>\n",
              "      <td>253</td>\n",
              "      <td>Vest top</td>\n",
              "      <td>Garment Upper body</td>\n",
              "      <td>1010016</td>\n",
              "      <td>Solid</td>\n",
              "      <td>10</td>\n",
              "      <td>White</td>\n",
              "      <td>...</td>\n",
              "      <td>Jersey Basic</td>\n",
              "      <td>A</td>\n",
              "      <td>Ladieswear</td>\n",
              "      <td>1</td>\n",
              "      <td>Ladieswear</td>\n",
              "      <td>16</td>\n",
              "      <td>Womens Everyday Basics</td>\n",
              "      <td>1002</td>\n",
              "      <td>Jersey Basic</td>\n",
              "      <td>Jersey top with narrow shoulder straps.</td>\n",
              "    </tr>\n",
              "    <tr>\n",
              "      <th>2</th>\n",
              "      <td>108775051</td>\n",
              "      <td>108775</td>\n",
              "      <td>Strap top (1)</td>\n",
              "      <td>253</td>\n",
              "      <td>Vest top</td>\n",
              "      <td>Garment Upper body</td>\n",
              "      <td>1010017</td>\n",
              "      <td>Stripe</td>\n",
              "      <td>11</td>\n",
              "      <td>Off White</td>\n",
              "      <td>...</td>\n",
              "      <td>Jersey Basic</td>\n",
              "      <td>A</td>\n",
              "      <td>Ladieswear</td>\n",
              "      <td>1</td>\n",
              "      <td>Ladieswear</td>\n",
              "      <td>16</td>\n",
              "      <td>Womens Everyday Basics</td>\n",
              "      <td>1002</td>\n",
              "      <td>Jersey Basic</td>\n",
              "      <td>Jersey top with narrow shoulder straps.</td>\n",
              "    </tr>\n",
              "  </tbody>\n",
              "</table>\n",
              "<p>3 rows × 25 columns</p>\n",
              "</div>\n",
              "      <button class=\"colab-df-convert\" onclick=\"convertToInteractive('df-b78b50fb-9fca-4f65-ab8c-aae7214a80b6')\"\n",
              "              title=\"Convert this dataframe to an interactive table.\"\n",
              "              style=\"display:none;\">\n",
              "        \n",
              "  <svg xmlns=\"http://www.w3.org/2000/svg\" height=\"24px\"viewBox=\"0 0 24 24\"\n",
              "       width=\"24px\">\n",
              "    <path d=\"M0 0h24v24H0V0z\" fill=\"none\"/>\n",
              "    <path d=\"M18.56 5.44l.94 2.06.94-2.06 2.06-.94-2.06-.94-.94-2.06-.94 2.06-2.06.94zm-11 1L8.5 8.5l.94-2.06 2.06-.94-2.06-.94L8.5 2.5l-.94 2.06-2.06.94zm10 10l.94 2.06.94-2.06 2.06-.94-2.06-.94-.94-2.06-.94 2.06-2.06.94z\"/><path d=\"M17.41 7.96l-1.37-1.37c-.4-.4-.92-.59-1.43-.59-.52 0-1.04.2-1.43.59L10.3 9.45l-7.72 7.72c-.78.78-.78 2.05 0 2.83L4 21.41c.39.39.9.59 1.41.59.51 0 1.02-.2 1.41-.59l7.78-7.78 2.81-2.81c.8-.78.8-2.07 0-2.86zM5.41 20L4 18.59l7.72-7.72 1.47 1.35L5.41 20z\"/>\n",
              "  </svg>\n",
              "      </button>\n",
              "      \n",
              "  <style>\n",
              "    .colab-df-container {\n",
              "      display:flex;\n",
              "      flex-wrap:wrap;\n",
              "      gap: 12px;\n",
              "    }\n",
              "\n",
              "    .colab-df-convert {\n",
              "      background-color: #E8F0FE;\n",
              "      border: none;\n",
              "      border-radius: 50%;\n",
              "      cursor: pointer;\n",
              "      display: none;\n",
              "      fill: #1967D2;\n",
              "      height: 32px;\n",
              "      padding: 0 0 0 0;\n",
              "      width: 32px;\n",
              "    }\n",
              "\n",
              "    .colab-df-convert:hover {\n",
              "      background-color: #E2EBFA;\n",
              "      box-shadow: 0px 1px 2px rgba(60, 64, 67, 0.3), 0px 1px 3px 1px rgba(60, 64, 67, 0.15);\n",
              "      fill: #174EA6;\n",
              "    }\n",
              "\n",
              "    [theme=dark] .colab-df-convert {\n",
              "      background-color: #3B4455;\n",
              "      fill: #D2E3FC;\n",
              "    }\n",
              "\n",
              "    [theme=dark] .colab-df-convert:hover {\n",
              "      background-color: #434B5C;\n",
              "      box-shadow: 0px 1px 3px 1px rgba(0, 0, 0, 0.15);\n",
              "      filter: drop-shadow(0px 1px 2px rgba(0, 0, 0, 0.3));\n",
              "      fill: #FFFFFF;\n",
              "    }\n",
              "  </style>\n",
              "\n",
              "      <script>\n",
              "        const buttonEl =\n",
              "          document.querySelector('#df-b78b50fb-9fca-4f65-ab8c-aae7214a80b6 button.colab-df-convert');\n",
              "        buttonEl.style.display =\n",
              "          google.colab.kernel.accessAllowed ? 'block' : 'none';\n",
              "\n",
              "        async function convertToInteractive(key) {\n",
              "          const element = document.querySelector('#df-b78b50fb-9fca-4f65-ab8c-aae7214a80b6');\n",
              "          const dataTable =\n",
              "            await google.colab.kernel.invokeFunction('convertToInteractive',\n",
              "                                                     [key], {});\n",
              "          if (!dataTable) return;\n",
              "\n",
              "          const docLinkHtml = 'Like what you see? Visit the ' +\n",
              "            '<a target=\"_blank\" href=https://colab.research.google.com/notebooks/data_table.ipynb>data table notebook</a>'\n",
              "            + ' to learn more about interactive tables.';\n",
              "          element.innerHTML = '';\n",
              "          dataTable['output_type'] = 'display_data';\n",
              "          await google.colab.output.renderOutput(dataTable, element);\n",
              "          const docLink = document.createElement('div');\n",
              "          docLink.innerHTML = docLinkHtml;\n",
              "          element.appendChild(docLink);\n",
              "        }\n",
              "      </script>\n",
              "    </div>\n",
              "  </div>\n",
              "  "
            ]
          },
          "metadata": {},
          "execution_count": 7
        }
      ],
      "source": [
        "article_df.head(n=3)"
      ]
    },
    {
      "cell_type": "code",
      "execution_count": 8,
      "metadata": {
        "id": "gQOVBxXsnnJU"
      },
      "outputs": [],
      "source": [
        "#Changed from 1 year to 6 months (5 for training and 1 for validation) due to memory limitations\n",
        "train0 = train0[train0['t_dat']<='2019-04-20']\n",
        "\n",
        "train = train0[train0['t_dat']<='2019-02-20']\n",
        "test = train0[train0['t_dat'] >='2019-03-20']"
      ]
    },
    {
      "cell_type": "code",
      "execution_count": 9,
      "metadata": {
        "id": "zOFZtvRwno3p"
      },
      "outputs": [],
      "source": [
        "del train0"
      ]
    },
    {
      "cell_type": "code",
      "source": [
        "c1 = train['customer_id'].to_list()\n",
        "c2 = test['customer_id'].to_list()\n",
        "\n",
        "commonUsers = intersection(c1, c2)"
      ],
      "metadata": {
        "id": "mNwZeMK0cS5_"
      },
      "execution_count": 10,
      "outputs": []
    },
    {
      "cell_type": "code",
      "execution_count": 11,
      "metadata": {
        "id": "l5IAQSvVkPR2"
      },
      "outputs": [],
      "source": [
        "#Merging data together\n",
        "train = train.merge(article_df, on='article_id', how='left')"
      ]
    },
    {
      "cell_type": "code",
      "execution_count": 12,
      "metadata": {
        "id": "Jq1XYvFoleGA",
        "colab": {
          "base_uri": "https://localhost:8080/"
        },
        "outputId": "22857bd5-68b6-4b00-ae62-fdf59c4e97f4"
      },
      "outputs": [
        {
          "output_type": "execute_result",
          "data": {
            "text/plain": [
              "Index(['t_dat', 'customer_id', 'article_id', 'price', 'sales_channel_id',\n",
              "       'product_code', 'prod_name', 'product_type_no', 'product_type_name',\n",
              "       'product_group_name', 'graphical_appearance_no',\n",
              "       'graphical_appearance_name', 'colour_group_code', 'colour_group_name',\n",
              "       'perceived_colour_value_id', 'perceived_colour_value_name',\n",
              "       'perceived_colour_master_id', 'perceived_colour_master_name',\n",
              "       'department_no', 'department_name', 'index_code', 'index_name',\n",
              "       'index_group_no', 'index_group_name', 'section_no', 'section_name',\n",
              "       'garment_group_no', 'garment_group_name', 'detail_desc'],\n",
              "      dtype='object')"
            ]
          },
          "metadata": {},
          "execution_count": 12
        }
      ],
      "source": [
        "train.columns"
      ]
    },
    {
      "cell_type": "code",
      "source": [
        "def runCandidateGenerationModified(method,k):\n",
        "    overallRecall = 0\n",
        "    recallList = []\n",
        "    i=0\n",
        "    userSet = commonUsers[0:10]\n",
        "    for u in userSet:\n",
        "        purchaseList = test[test['customer_id']==u]['article_id'].to_list()\n",
        "        cg = method(u,k)\n",
        "        r = estimateRecall(cg,purchaseList)\n",
        "        overallRecall+=r\n",
        "        recallList.append(r)\n",
        "    overallRecall = overallRecall/len(userSet)\n",
        "    return (overallRecall,recallList)\n",
        "\n",
        "def getKCandidatesRandomModified(u,k,categories):\n",
        "    cut_df = train.loc[train['department_no'].isin(categories)]\n",
        "    return random.sample(cut_df['article_id'].to_list(),k)"
      ],
      "metadata": {
        "id": "I98CnlJQGBVp"
      },
      "execution_count": 13,
      "outputs": []
    },
    {
      "cell_type": "code",
      "execution_count": 14,
      "metadata": {
        "id": "JCgtAxBurAln"
      },
      "outputs": [],
      "source": [
        "def getTopKPopularUserCategories(u,k):    \n",
        "    c = Counter(train['department_no'].to_list())\n",
        "    topPopularCategory = [category for category, count in c.most_common(10)]\n",
        "    # We pick each categories list for a specific user, and get random items\n",
        "    return getKCandidatesRandomModified(u,k,topPopularCategory)"
      ]
    },
    {
      "cell_type": "code",
      "source": [
        "r, rlist = runCandidateGenerationModified(getTopKPopularUserCategories,k=100)\n",
        "print(\"recall for candidate generation at k=100 candidates fetched: \", r)\n",
        "\n",
        "r, rlist = runCandidateGenerationModified(getTopKPopularUserCategories,k=1000)\n",
        "print(\"recall for candidate generation at k=1000 candidates fetched: \", r)"
      ],
      "metadata": {
        "colab": {
          "base_uri": "https://localhost:8080/"
        },
        "id": "UMuOrnGaGCG4",
        "outputId": "188259f7-85ad-4b66-b8ca-8d2e17de0bf7"
      },
      "execution_count": 15,
      "outputs": [
        {
          "output_type": "stream",
          "name": "stdout",
          "text": [
            "recall for candidate generation at k=100 candidates fetched:  0.014285714285714285\n",
            "recall for candidate generation at k=1000 candidates fetched:  0.18311449579831934\n"
          ]
        }
      ]
    },
    {
      "cell_type": "markdown",
      "source": [
        "**2. Personalized to user's price sensivity**"
      ],
      "metadata": {
        "id": "uxtVl62eOOKz"
      }
    },
    {
      "cell_type": "code",
      "source": [
        "def getTopKPopularUserCategoriesWithAffordablePrice(u,k): \n",
        "  ''' This heuristic is quite simple: calculates for each user the most attractive \n",
        "      categories and also mean and std prices from user's transactions. \n",
        "\n",
        "      Then the objective is to filter based on mean+std (upper limit) to represent\n",
        "      interesting category-item with good prices (lower than users usually consumes)'''\n",
        "  c = Counter(train['department_no'].to_list())\n",
        "  topPopularCategory = [category for category, count in c.most_common(10)]\n",
        "\n",
        "  cut_df = train.loc[train['department_no'].isin(topPopularCategory)]\n",
        "\n",
        "  mean = cut_df['price'].mean()\n",
        "  std = cut_df['price'].std()\n",
        "\n",
        "  cut_df =  cut_df[cut_df['price'] < (mean+std)]\n",
        "\n",
        "  c = Counter(cut_df['article_id'].to_list())\n",
        "  topPopular = [article for article, count in c.most_common(k)]\n",
        "\n",
        "  return topPopular"
      ],
      "metadata": {
        "id": "Rcydul5mw2Ka"
      },
      "execution_count": 27,
      "outputs": []
    },
    {
      "cell_type": "code",
      "source": [
        "r, rlist = runCandidateGenerationModified(getTopKPopularUserCategoriesWithAffordablePrice,k=100)\n",
        "print(\"recall for candidate generation at k=100 candidates fetched: \", r)\n",
        "\n",
        "r, rlist = runCandidateGenerationModified(getTopKPopularUserCategoriesWithAffordablePrice,k=1000)\n",
        "print(\"recall for candidate generation at k=1000 candidates fetched: \", r)"
      ],
      "metadata": {
        "colab": {
          "base_uri": "https://localhost:8080/"
        },
        "id": "Zc2C2cfO0PYr",
        "outputId": "3fb6c1c0-0962-47ce-e5cb-ca2babf40fed"
      },
      "execution_count": 28,
      "outputs": [
        {
          "output_type": "stream",
          "name": "stdout",
          "text": [
            "recall for candidate generation at k=100 candidates fetched:  0.02857142857142857\n",
            "recall for candidate generation at k=1000 candidates fetched:  0.21056547619047614\n"
          ]
        }
      ]
    },
    {
      "cell_type": "markdown",
      "source": [
        "Optional - add context to 2-tower\n",
        "\n",
        "I intent to explore this later (based on https://www.tensorflow.org/recommenders/examples/context_features). Unfortunetly the time is a huge constrain =S"
      ],
      "metadata": {
        "id": "klNsRMTGqqS4"
      }
    }
  ],
  "metadata": {
    "colab": {
      "collapsed_sections": [],
      "name": "week1-CG-final-danilo-segura.ipynb",
      "provenance": []
    },
    "environment": {
      "kernel": "python3",
      "name": "tf2-gpu.2-6.m89",
      "type": "gcloud",
      "uri": "gcr.io/deeplearning-platform-release/tf2-gpu.2-6:m89"
    },
    "gpuClass": "standard",
    "kernelspec": {
      "display_name": "Python 3",
      "language": "python",
      "name": "python3"
    },
    "language_info": {
      "codemirror_mode": {
        "name": "ipython",
        "version": 3
      },
      "file_extension": ".py",
      "mimetype": "text/x-python",
      "name": "python",
      "nbconvert_exporter": "python",
      "pygments_lexer": "ipython3",
      "version": "3.7.12"
    }
  },
  "nbformat": 4,
  "nbformat_minor": 0
}