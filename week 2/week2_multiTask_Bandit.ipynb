{
 "cells": [
  {
   "cell_type": "code",
   "execution_count": 1,
   "id": "xxezRYapCFsw",
   "metadata": {
    "colab": {
     "base_uri": "https://localhost:8080/"
    },
    "id": "xxezRYapCFsw",
    "outputId": "4099678c-d16b-4757-82da-c0542d308181"
   },
   "outputs": [
    {
     "name": "stdout",
     "output_type": "stream",
     "text": [
      "\u001b[K     |████████████████████████████████| 88 kB 2.9 MB/s \n",
      "\u001b[K     |████████████████████████████████| 511.7 MB 5.7 kB/s \n",
      "\u001b[K     |████████████████████████████████| 438 kB 37.4 MB/s \n",
      "\u001b[K     |████████████████████████████████| 1.6 MB 31.2 MB/s \n",
      "\u001b[K     |████████████████████████████████| 5.8 MB 40.4 MB/s \n",
      "\u001b[K     |████████████████████████████████| 4.3 MB 5.3 MB/s \n",
      "\u001b[?25h"
     ]
    }
   ],
   "source": [
    "!pip install -q tensorflow-recommenders\n",
    "!pip install -q --upgrade tensorflow-datasets"
   ]
  },
  {
   "cell_type": "markdown",
   "id": "837f0383-ee06-41a4-b431-032c431dfcbb",
   "metadata": {
    "id": "837f0383-ee06-41a4-b431-032c431dfcbb"
   },
   "source": [
    "# **Welcome to week 2 project!**\n",
    "\n",
    "Congratulations on making it to week 2! 👏 In the first week of this course, we covered the basics of how to design personalized recommendation systems. We then provided some system design examples for large scale recommenders from corporations like Spotify and YouTube, as well as techniques for candidate generation, specifically the two-tower model being used at Twitter and Pinterest.\n",
    "\n",
    "This week, we covered details of ML approaches for recommendations: including multi-task recommenders and contextual bandits.\n",
    "\n",
    "In this week's project, we will touch upon both these methods at a high level. We first begin by developing a simple multi-task model, and then cover a contextual bandit model. For ease of use, we will re-use our H&M dataset from week 1 for Multi-task model, and will switch to using Yahoo! news dataset for contextual bandit model.\n"
   ]
  },
  {
   "cell_type": "markdown",
   "id": "02a97fbf-e1ea-46f1-a355-fc1a4377a2ee",
   "metadata": {
    "id": "02a97fbf-e1ea-46f1-a355-fc1a4377a2ee"
   },
   "source": [
    "# **Multi-task Recommendations**\n",
    "\n",
    "Multi-task recommenders provide a way to predict multiple facets of user engagement in order to make comprehensive recommendations for content that users might like.\n",
    "\n"
   ]
  },
  {
   "cell_type": "code",
   "execution_count": 2,
   "id": "3aeb2bd8-37fc-42f5-bc25-9c1eeb305d23",
   "metadata": {
    "colab": {
     "base_uri": "https://localhost:8080/",
     "height": 276
    },
    "id": "3aeb2bd8-37fc-42f5-bc25-9c1eeb305d23",
    "outputId": "7499d011-2227-4818-c06d-ee022dfa69e0"
   },
   "outputs": [
    {
     "data": {
      "text/html": [
       "<img src=\"https://miro.medium.com/max/3688/1*rrIJOpJO8fkFECNHlwq-jQ.png\" width=\"500\" class=\"unconfined\"/>"
      ],
      "text/plain": [
       "<IPython.core.display.Image object>"
      ]
     },
     "metadata": {},
     "output_type": "display_data"
    }
   ],
   "source": [
    "from IPython.core.display import Image, display\n",
    "display(Image(url='https://miro.medium.com/max/3688/1*rrIJOpJO8fkFECNHlwq-jQ.png', width=500, unconfined=True))"
   ]
  },
  {
   "cell_type": "markdown",
   "id": "5c659f20-fe0d-4c07-a8bd-6f5b90be571d",
   "metadata": {
    "id": "5c659f20-fe0d-4c07-a8bd-6f5b90be571d"
   },
   "source": [
    "\n",
    "**Single task recommender:** we will start by deveoping a single task model that makes predictions about whether the user will purchase the article or not.\n",
    "\n",
    "**Multi-task recommender:** we then expand the scope to consider auxilliary prediction tasks, in order to improve the recommendation performance.\n",
    "\n",
    "Specifically, we make the folliwing three predictions using a multi-task setup:\n",
    "1. Predicting whether the user will make any purchase next week or not\n",
    "2. Predicting which category the user will make purchase in\n",
    "3. Predicting which specific item the user will buy\n",
    "\n",
    "We will use different loss functions to jointly train the multi-task network.\n",
    "\n",
    "**Negative Sampling**\n",
    "It is important to note that the dataset is only of positive cases -- cases wherein the user bought an article. To train our models, we will have to resort to negative sampling to develop a mixed dataset comprising of positive and negative examples.\n",
    "\n",
    "We will cover two categories of negative sampling:\n",
    "1. Random negative sampling\n",
    "2. Negative sampling with bias\n",
    "\n",
    "**Evaluation:**\n",
    "We will evaluate the ranker performance on various ranking metrics.\n"
   ]
  },
  {
   "cell_type": "code",
   "execution_count": 3,
   "id": "add75169-0279-469c-98c2-36e6fc28ebdd",
   "metadata": {
    "id": "add75169-0279-469c-98c2-36e6fc28ebdd"
   },
   "outputs": [],
   "source": [
    "import pandas as pd\n",
    "import numpy as np\n",
    "import tensorflow as tf\n",
    "import tensorflow_recommenders as tfrs\n",
    "import numpy as np\n",
    "import pandas as pd\n",
    "import seaborn as sns\n",
    "from matplotlib import pyplot as plt\n",
    "from tqdm.notebook import tqdm\n",
    "from pathlib import Path\n",
    "from typing import Dict, Text\n",
    "from functools import reduce\n",
    "import os\n",
    "import pprint\n",
    "import tempfile\n",
    "from typing import Dict, Text\n",
    "import numpy as np\n",
    "import tensorflow as tf\n",
    "import tensorflow_recommenders as tfrs\n",
    "from tensorflow import feature_column\n",
    "import random"
   ]
  },
  {
   "cell_type": "code",
   "execution_count": 4,
   "id": "pJ-0tn76B2HU",
   "metadata": {
    "colab": {
     "base_uri": "https://localhost:8080/"
    },
    "id": "pJ-0tn76B2HU",
    "outputId": "5132ab3e-e7d2-4607-f9ec-a8433cb38b65"
   },
   "outputs": [
    {
     "name": "stdout",
     "output_type": "stream",
     "text": [
      "Mounted at /content/drive\n"
     ]
    }
   ],
   "source": [
    "from google.colab import drive\n",
    "drive.mount('/content/drive')\n",
    "path = 'drive/My Drive/Corise/Recommendation/'"
   ]
  },
  {
   "cell_type": "code",
   "execution_count": 5,
   "id": "3081bc7b-ab90-41c0-9c21-35dfe59b4228",
   "metadata": {
    "id": "3081bc7b-ab90-41c0-9c21-35dfe59b4228"
   },
   "outputs": [],
   "source": [
    "article_df = pd.read_csv(path+\"hmdata/articles.csv.zip\")\n",
    "customer_df = pd.read_csv(path+\"hmdata/customers.csv.zip\")\n",
    "train0 = pd.read_csv(path+'hmdata/transactions_train.csv.zip')\n",
    "transaction_df = train0"
   ]
  },
  {
   "cell_type": "markdown",
   "id": "2b073d71-0ffc-407c-9338-1a87cee00b07",
   "metadata": {
    "id": "2b073d71-0ffc-407c-9338-1a87cee00b07"
   },
   "source": [
    "# **Simple Feature Processing**\n",
    "\n",
    "In this section we focus on extracting features for trainnig the ranking models. We focus primarily on extracting user features, and article features, and leave sophisticated feature modelin for next week.\n",
    "\n",
    "For users specifically, we will focus on extracting the following features:\n",
    "1. age bucket\n",
    "2. no of past purchases\n",
    "3. min/max/avg price\n",
    "4. distrbution over product group\n",
    "5. distrbution over section\n",
    "\n",
    "For aticles, we will learn embedding based features for the article category, product group, and department.\n"
   ]
  },
  {
   "cell_type": "code",
   "execution_count": 5,
   "id": "4480de53-5cfd-44bf-864a-98a02d675dc6",
   "metadata": {
    "id": "4480de53-5cfd-44bf-864a-98a02d675dc6"
   },
   "outputs": [],
   "source": []
  },
  {
   "cell_type": "code",
   "execution_count": 6,
   "id": "a3b09610-07d8-4933-8bcd-1de5ec43193b",
   "metadata": {
    "id": "a3b09610-07d8-4933-8bcd-1de5ec43193b"
   },
   "outputs": [],
   "source": [
    "unique_customer_ids = customer_df.customer_id.unique()\n",
    "unique_article_ids = article_df.article_id.unique()"
   ]
  },
  {
   "cell_type": "code",
   "execution_count": 7,
   "id": "ca8a544f-acd7-470d-8b51-1b6a9b051809",
   "metadata": {
    "colab": {
     "base_uri": "https://localhost:8080/"
    },
    "id": "ca8a544f-acd7-470d-8b51-1b6a9b051809",
    "outputId": "ca015ba7-52b5-423d-959c-7a9e874d98e5"
   },
   "outputs": [
    {
     "name": "stdout",
     "output_type": "stream",
     "text": [
      "31788324 5108386\n"
     ]
    }
   ],
   "source": [
    "subset = train0[train0[\"t_dat\"]>\"2020-06-01\"]\n",
    "print(len(train0),len(subset))"
   ]
  },
  {
   "cell_type": "code",
   "execution_count": 8,
   "id": "1e3a5838-bc19-43bf-b31a-48bcd2578933",
   "metadata": {
    "colab": {
     "base_uri": "https://localhost:8080/"
    },
    "id": "1e3a5838-bc19-43bf-b31a-48bcd2578933",
    "outputId": "3f3d9cca-929c-4f6e-b4fa-1f266fc4bdfb"
   },
   "outputs": [
    {
     "name": "stderr",
     "output_type": "stream",
     "text": [
      "/usr/local/lib/python3.7/dist-packages/ipykernel_launcher.py:5: SettingWithCopyWarning: \n",
      "A value is trying to be set on a copy of a slice from a DataFrame.\n",
      "Try using .loc[row_indexer,col_indexer] = value instead\n",
      "\n",
      "See the caveats in the documentation: https://pandas.pydata.org/pandas-docs/stable/user_guide/indexing.html#returning-a-view-versus-a-copy\n",
      "  \"\"\"\n"
     ]
    }
   ],
   "source": [
    "def split(x):\n",
    "    if x[\"t_dat\"]<\"2020-08-22\":\n",
    "        return 1\n",
    "    return 0\n",
    "subset[\"train\"] = subset.apply (lambda row: split(row), axis=1)"
   ]
  },
  {
   "cell_type": "code",
   "execution_count": 9,
   "id": "01ff690c-aef6-489f-8e13-037ed1c41084",
   "metadata": {
    "id": "01ff690c-aef6-489f-8e13-037ed1c41084"
   },
   "outputs": [],
   "source": [
    "joined = pd.merge(subset, article_df, on='article_id', how='outer')"
   ]
  },
  {
   "cell_type": "code",
   "execution_count": 10,
   "id": "4d839a73-79fb-4364-897c-e8dd9607770b",
   "metadata": {
    "id": "4d839a73-79fb-4364-897c-e8dd9607770b"
   },
   "outputs": [],
   "source": [
    "f1 = joined.groupby(\"customer_id\", as_index=False).article_id.nunique() #unique articles\n",
    "f2 = joined.groupby(\"customer_id\", as_index=False).t_dat.nunique() #days active\n",
    "f3 = joined.groupby(\"customer_id\", as_index=False).size() #total purchases\n",
    "f4 = joined.groupby(\"customer_id\", as_index=False).price.min() #min price\n",
    "f5 = joined.groupby(\"customer_id\", as_index=False).price.max() #max price\n",
    "f6 = joined.groupby(\"customer_id\", as_index=False).price.mean() #mean price\n",
    "f7 = joined.groupby(\"customer_id\", as_index=False).product_group_name.nunique() #num unique product groups\n",
    "f8 = joined.groupby(\"customer_id\", as_index=False).department_name.nunique() #num unique department_name\n",
    "f9 = joined.groupby(\"customer_id\", as_index=False).section_name.nunique() #num unique section_name"
   ]
  },
  {
   "cell_type": "code",
   "execution_count": 11,
   "id": "5c5eea45-0e60-48ef-8e48-90155fcdaf99",
   "metadata": {
    "id": "5c5eea45-0e60-48ef-8e48-90155fcdaf99"
   },
   "outputs": [],
   "source": [
    "data_frames = [f1,f2,f3,f4,f5,f6,f7,f8,f9]\n",
    "fAll = reduce(lambda  left,right: pd.merge(left,right,on=['customer_id'],\n",
    "                                            how='outer'), data_frames)\n",
    "fAll.columns = ['customer_id', 'nArticles', 'nDays', 'nPurchases', 'minPrice', 'maxPrice', 'meanPrice', 'nPGroups', 'nDept', 'nSect']"
   ]
  },
  {
   "cell_type": "code",
   "execution_count": 12,
   "id": "e7ff03f5-65d4-4f91-98d8-68ccefbe48a2",
   "metadata": {
    "id": "e7ff03f5-65d4-4f91-98d8-68ccefbe48a2"
   },
   "outputs": [],
   "source": [
    "joinedF = pd.merge(joined, fAll, on='customer_id', how='outer')"
   ]
  },
  {
   "cell_type": "code",
   "execution_count": 13,
   "id": "2f74ea24-619d-4f02-a64e-b72c277ba9b7",
   "metadata": {
    "colab": {
     "base_uri": "https://localhost:8080/"
    },
    "id": "2f74ea24-619d-4f02-a64e-b72c277ba9b7",
    "outputId": "f2c770bb-7f77-4e66-b466-1a55941473df"
   },
   "outputs": [
    {
     "name": "stdout",
     "output_type": "stream",
     "text": [
      "['t_dat', 'customer_id', 'article_id', 'price', 'sales_channel_id', 'train', 'product_code', 'prod_name', 'product_type_no', 'product_type_name', 'product_group_name', 'graphical_appearance_no', 'graphical_appearance_name', 'colour_group_code', 'colour_group_name', 'perceived_colour_value_id', 'perceived_colour_value_name', 'perceived_colour_master_id', 'perceived_colour_master_name', 'department_no', 'department_name', 'index_code', 'index_name', 'index_group_no', 'index_group_name', 'section_no', 'section_name', 'garment_group_no', 'garment_group_name', 'detail_desc', 'nArticles', 'nDays', 'nPurchases', 'minPrice', 'maxPrice', 'meanPrice', 'nPGroups', 'nDept', 'nSect']\n"
     ]
    }
   ],
   "source": [
    "print(list(joinedF))"
   ]
  },
  {
   "cell_type": "code",
   "execution_count": 14,
   "id": "b579529e-69b8-4770-8759-fe8f77bf4d66",
   "metadata": {
    "colab": {
     "base_uri": "https://localhost:8080/",
     "height": 713
    },
    "id": "b579529e-69b8-4770-8759-fe8f77bf4d66",
    "outputId": "1d6f5199-56c4-4c67-8659-34799f5eb586"
   },
   "outputs": [
    {
     "data": {
      "text/html": [
       "\n",
       "  <div id=\"df-806405ea-6d05-40ca-ae10-cf0d4eec861c\">\n",
       "    <div class=\"colab-df-container\">\n",
       "      <div>\n",
       "<style scoped>\n",
       "    .dataframe tbody tr th:only-of-type {\n",
       "        vertical-align: middle;\n",
       "    }\n",
       "\n",
       "    .dataframe tbody tr th {\n",
       "        vertical-align: top;\n",
       "    }\n",
       "\n",
       "    .dataframe thead th {\n",
       "        text-align: right;\n",
       "    }\n",
       "</style>\n",
       "<table border=\"1\" class=\"dataframe\">\n",
       "  <thead>\n",
       "    <tr style=\"text-align: right;\">\n",
       "      <th></th>\n",
       "      <th>customer_id</th>\n",
       "      <th>article_id</th>\n",
       "      <th>price</th>\n",
       "      <th>product_group_name</th>\n",
       "      <th>department_name</th>\n",
       "      <th>section_name</th>\n",
       "      <th>nArticles</th>\n",
       "      <th>nDays</th>\n",
       "      <th>nPurchases</th>\n",
       "      <th>minPrice</th>\n",
       "      <th>maxPrice</th>\n",
       "      <th>meanPrice</th>\n",
       "      <th>nPGroups</th>\n",
       "      <th>nDept</th>\n",
       "      <th>nSect</th>\n",
       "    </tr>\n",
       "  </thead>\n",
       "  <tbody>\n",
       "    <tr>\n",
       "      <th>0</th>\n",
       "      <td>0001f8cef6b9702d54abf66fd89eb21014bf98567065a9...</td>\n",
       "      <td>855834001</td>\n",
       "      <td>0.015831</td>\n",
       "      <td>Garment Full body</td>\n",
       "      <td>Dresses</td>\n",
       "      <td>Divided Collection</td>\n",
       "      <td>6.0</td>\n",
       "      <td>4.0</td>\n",
       "      <td>6.0</td>\n",
       "      <td>0.010153</td>\n",
       "      <td>0.027102</td>\n",
       "      <td>0.017130</td>\n",
       "      <td>3.0</td>\n",
       "      <td>5.0</td>\n",
       "      <td>3.0</td>\n",
       "    </tr>\n",
       "    <tr>\n",
       "      <th>1</th>\n",
       "      <td>0001f8cef6b9702d54abf66fd89eb21014bf98567065a9...</td>\n",
       "      <td>836130002</td>\n",
       "      <td>0.015831</td>\n",
       "      <td>Garment Full body</td>\n",
       "      <td>Dresses</td>\n",
       "      <td>Divided Collection</td>\n",
       "      <td>6.0</td>\n",
       "      <td>4.0</td>\n",
       "      <td>6.0</td>\n",
       "      <td>0.010153</td>\n",
       "      <td>0.027102</td>\n",
       "      <td>0.017130</td>\n",
       "      <td>3.0</td>\n",
       "      <td>5.0</td>\n",
       "      <td>3.0</td>\n",
       "    </tr>\n",
       "    <tr>\n",
       "      <th>2</th>\n",
       "      <td>0001f8cef6b9702d54abf66fd89eb21014bf98567065a9...</td>\n",
       "      <td>808841001</td>\n",
       "      <td>0.016932</td>\n",
       "      <td>Garment Lower body</td>\n",
       "      <td>Skirts</td>\n",
       "      <td>Divided Collection</td>\n",
       "      <td>6.0</td>\n",
       "      <td>4.0</td>\n",
       "      <td>6.0</td>\n",
       "      <td>0.010153</td>\n",
       "      <td>0.027102</td>\n",
       "      <td>0.017130</td>\n",
       "      <td>3.0</td>\n",
       "      <td>5.0</td>\n",
       "      <td>3.0</td>\n",
       "    </tr>\n",
       "    <tr>\n",
       "      <th>3</th>\n",
       "      <td>0001f8cef6b9702d54abf66fd89eb21014bf98567065a9...</td>\n",
       "      <td>817472002</td>\n",
       "      <td>0.010153</td>\n",
       "      <td>Garment Lower body</td>\n",
       "      <td>Shorts</td>\n",
       "      <td>Womens Everyday Collection</td>\n",
       "      <td>6.0</td>\n",
       "      <td>4.0</td>\n",
       "      <td>6.0</td>\n",
       "      <td>0.010153</td>\n",
       "      <td>0.027102</td>\n",
       "      <td>0.017130</td>\n",
       "      <td>3.0</td>\n",
       "      <td>5.0</td>\n",
       "      <td>3.0</td>\n",
       "    </tr>\n",
       "    <tr>\n",
       "      <th>4</th>\n",
       "      <td>0001f8cef6b9702d54abf66fd89eb21014bf98567065a9...</td>\n",
       "      <td>806529003</td>\n",
       "      <td>0.027102</td>\n",
       "      <td>Garment Lower body</td>\n",
       "      <td>Trouser</td>\n",
       "      <td>Womens Tailoring</td>\n",
       "      <td>6.0</td>\n",
       "      <td>4.0</td>\n",
       "      <td>6.0</td>\n",
       "      <td>0.010153</td>\n",
       "      <td>0.027102</td>\n",
       "      <td>0.017130</td>\n",
       "      <td>3.0</td>\n",
       "      <td>5.0</td>\n",
       "      <td>3.0</td>\n",
       "    </tr>\n",
       "    <tr>\n",
       "      <th>...</th>\n",
       "      <td>...</td>\n",
       "      <td>...</td>\n",
       "      <td>...</td>\n",
       "      <td>...</td>\n",
       "      <td>...</td>\n",
       "      <td>...</td>\n",
       "      <td>...</td>\n",
       "      <td>...</td>\n",
       "      <td>...</td>\n",
       "      <td>...</td>\n",
       "      <td>...</td>\n",
       "      <td>...</td>\n",
       "      <td>...</td>\n",
       "      <td>...</td>\n",
       "      <td>...</td>\n",
       "    </tr>\n",
       "    <tr>\n",
       "      <th>5108381</th>\n",
       "      <td>b834a2cb440d2298493d254196abb73e101d8b35b155c6...</td>\n",
       "      <td>870982002</td>\n",
       "      <td>0.061000</td>\n",
       "      <td>Garment Upper body</td>\n",
       "      <td>Outdoor/Blazers</td>\n",
       "      <td>Divided Collection</td>\n",
       "      <td>1.0</td>\n",
       "      <td>1.0</td>\n",
       "      <td>1.0</td>\n",
       "      <td>0.061000</td>\n",
       "      <td>0.061000</td>\n",
       "      <td>0.061000</td>\n",
       "      <td>1.0</td>\n",
       "      <td>1.0</td>\n",
       "      <td>1.0</td>\n",
       "    </tr>\n",
       "    <tr>\n",
       "      <th>5108382</th>\n",
       "      <td>83b8a97fd3decf8e21d05a9acaea822eaa569c957ea232...</td>\n",
       "      <td>893427001</td>\n",
       "      <td>0.084729</td>\n",
       "      <td>Garment Full body</td>\n",
       "      <td>Trouser</td>\n",
       "      <td>Womens Everyday Collection</td>\n",
       "      <td>2.0</td>\n",
       "      <td>1.0</td>\n",
       "      <td>3.0</td>\n",
       "      <td>0.084729</td>\n",
       "      <td>0.084729</td>\n",
       "      <td>0.084729</td>\n",
       "      <td>1.0</td>\n",
       "      <td>2.0</td>\n",
       "      <td>2.0</td>\n",
       "    </tr>\n",
       "    <tr>\n",
       "      <th>5108383</th>\n",
       "      <td>83b8a97fd3decf8e21d05a9acaea822eaa569c957ea232...</td>\n",
       "      <td>893427001</td>\n",
       "      <td>0.084729</td>\n",
       "      <td>Garment Full body</td>\n",
       "      <td>Trouser</td>\n",
       "      <td>Womens Everyday Collection</td>\n",
       "      <td>2.0</td>\n",
       "      <td>1.0</td>\n",
       "      <td>3.0</td>\n",
       "      <td>0.084729</td>\n",
       "      <td>0.084729</td>\n",
       "      <td>0.084729</td>\n",
       "      <td>1.0</td>\n",
       "      <td>2.0</td>\n",
       "      <td>2.0</td>\n",
       "    </tr>\n",
       "    <tr>\n",
       "      <th>5108384</th>\n",
       "      <td>83b8a97fd3decf8e21d05a9acaea822eaa569c957ea232...</td>\n",
       "      <td>903910002</td>\n",
       "      <td>0.084729</td>\n",
       "      <td>Garment Full body</td>\n",
       "      <td>Dress</td>\n",
       "      <td>Womens Tailoring</td>\n",
       "      <td>2.0</td>\n",
       "      <td>1.0</td>\n",
       "      <td>3.0</td>\n",
       "      <td>0.084729</td>\n",
       "      <td>0.084729</td>\n",
       "      <td>0.084729</td>\n",
       "      <td>1.0</td>\n",
       "      <td>2.0</td>\n",
       "      <td>2.0</td>\n",
       "    </tr>\n",
       "    <tr>\n",
       "      <th>5108385</th>\n",
       "      <td>b9036ca1353cd6d07511e309f8acab557559b724a36419...</td>\n",
       "      <td>910010002</td>\n",
       "      <td>0.050831</td>\n",
       "      <td>Garment Upper body</td>\n",
       "      <td>Tops Knitwear</td>\n",
       "      <td>Divided Collection</td>\n",
       "      <td>1.0</td>\n",
       "      <td>1.0</td>\n",
       "      <td>1.0</td>\n",
       "      <td>0.050831</td>\n",
       "      <td>0.050831</td>\n",
       "      <td>0.050831</td>\n",
       "      <td>1.0</td>\n",
       "      <td>1.0</td>\n",
       "      <td>1.0</td>\n",
       "    </tr>\n",
       "  </tbody>\n",
       "</table>\n",
       "<p>5108386 rows × 15 columns</p>\n",
       "</div>\n",
       "      <button class=\"colab-df-convert\" onclick=\"convertToInteractive('df-806405ea-6d05-40ca-ae10-cf0d4eec861c')\"\n",
       "              title=\"Convert this dataframe to an interactive table.\"\n",
       "              style=\"display:none;\">\n",
       "        \n",
       "  <svg xmlns=\"http://www.w3.org/2000/svg\" height=\"24px\"viewBox=\"0 0 24 24\"\n",
       "       width=\"24px\">\n",
       "    <path d=\"M0 0h24v24H0V0z\" fill=\"none\"/>\n",
       "    <path d=\"M18.56 5.44l.94 2.06.94-2.06 2.06-.94-2.06-.94-.94-2.06-.94 2.06-2.06.94zm-11 1L8.5 8.5l.94-2.06 2.06-.94-2.06-.94L8.5 2.5l-.94 2.06-2.06.94zm10 10l.94 2.06.94-2.06 2.06-.94-2.06-.94-.94-2.06-.94 2.06-2.06.94z\"/><path d=\"M17.41 7.96l-1.37-1.37c-.4-.4-.92-.59-1.43-.59-.52 0-1.04.2-1.43.59L10.3 9.45l-7.72 7.72c-.78.78-.78 2.05 0 2.83L4 21.41c.39.39.9.59 1.41.59.51 0 1.02-.2 1.41-.59l7.78-7.78 2.81-2.81c.8-.78.8-2.07 0-2.86zM5.41 20L4 18.59l7.72-7.72 1.47 1.35L5.41 20z\"/>\n",
       "  </svg>\n",
       "      </button>\n",
       "      \n",
       "  <style>\n",
       "    .colab-df-container {\n",
       "      display:flex;\n",
       "      flex-wrap:wrap;\n",
       "      gap: 12px;\n",
       "    }\n",
       "\n",
       "    .colab-df-convert {\n",
       "      background-color: #E8F0FE;\n",
       "      border: none;\n",
       "      border-radius: 50%;\n",
       "      cursor: pointer;\n",
       "      display: none;\n",
       "      fill: #1967D2;\n",
       "      height: 32px;\n",
       "      padding: 0 0 0 0;\n",
       "      width: 32px;\n",
       "    }\n",
       "\n",
       "    .colab-df-convert:hover {\n",
       "      background-color: #E2EBFA;\n",
       "      box-shadow: 0px 1px 2px rgba(60, 64, 67, 0.3), 0px 1px 3px 1px rgba(60, 64, 67, 0.15);\n",
       "      fill: #174EA6;\n",
       "    }\n",
       "\n",
       "    [theme=dark] .colab-df-convert {\n",
       "      background-color: #3B4455;\n",
       "      fill: #D2E3FC;\n",
       "    }\n",
       "\n",
       "    [theme=dark] .colab-df-convert:hover {\n",
       "      background-color: #434B5C;\n",
       "      box-shadow: 0px 1px 3px 1px rgba(0, 0, 0, 0.15);\n",
       "      filter: drop-shadow(0px 1px 2px rgba(0, 0, 0, 0.3));\n",
       "      fill: #FFFFFF;\n",
       "    }\n",
       "  </style>\n",
       "\n",
       "      <script>\n",
       "        const buttonEl =\n",
       "          document.querySelector('#df-806405ea-6d05-40ca-ae10-cf0d4eec861c button.colab-df-convert');\n",
       "        buttonEl.style.display =\n",
       "          google.colab.kernel.accessAllowed ? 'block' : 'none';\n",
       "\n",
       "        async function convertToInteractive(key) {\n",
       "          const element = document.querySelector('#df-806405ea-6d05-40ca-ae10-cf0d4eec861c');\n",
       "          const dataTable =\n",
       "            await google.colab.kernel.invokeFunction('convertToInteractive',\n",
       "                                                     [key], {});\n",
       "          if (!dataTable) return;\n",
       "\n",
       "          const docLinkHtml = 'Like what you see? Visit the ' +\n",
       "            '<a target=\"_blank\" href=https://colab.research.google.com/notebooks/data_table.ipynb>data table notebook</a>'\n",
       "            + ' to learn more about interactive tables.';\n",
       "          element.innerHTML = '';\n",
       "          dataTable['output_type'] = 'display_data';\n",
       "          await google.colab.output.renderOutput(dataTable, element);\n",
       "          const docLink = document.createElement('div');\n",
       "          docLink.innerHTML = docLinkHtml;\n",
       "          element.appendChild(docLink);\n",
       "        }\n",
       "      </script>\n",
       "    </div>\n",
       "  </div>\n",
       "  "
      ],
      "text/plain": [
       "                                               customer_id  article_id  \\\n",
       "0        0001f8cef6b9702d54abf66fd89eb21014bf98567065a9...   855834001   \n",
       "1        0001f8cef6b9702d54abf66fd89eb21014bf98567065a9...   836130002   \n",
       "2        0001f8cef6b9702d54abf66fd89eb21014bf98567065a9...   808841001   \n",
       "3        0001f8cef6b9702d54abf66fd89eb21014bf98567065a9...   817472002   \n",
       "4        0001f8cef6b9702d54abf66fd89eb21014bf98567065a9...   806529003   \n",
       "...                                                    ...         ...   \n",
       "5108381  b834a2cb440d2298493d254196abb73e101d8b35b155c6...   870982002   \n",
       "5108382  83b8a97fd3decf8e21d05a9acaea822eaa569c957ea232...   893427001   \n",
       "5108383  83b8a97fd3decf8e21d05a9acaea822eaa569c957ea232...   893427001   \n",
       "5108384  83b8a97fd3decf8e21d05a9acaea822eaa569c957ea232...   903910002   \n",
       "5108385  b9036ca1353cd6d07511e309f8acab557559b724a36419...   910010002   \n",
       "\n",
       "            price  product_group_name  department_name  \\\n",
       "0        0.015831   Garment Full body          Dresses   \n",
       "1        0.015831   Garment Full body          Dresses   \n",
       "2        0.016932  Garment Lower body           Skirts   \n",
       "3        0.010153  Garment Lower body           Shorts   \n",
       "4        0.027102  Garment Lower body          Trouser   \n",
       "...           ...                 ...              ...   \n",
       "5108381  0.061000  Garment Upper body  Outdoor/Blazers   \n",
       "5108382  0.084729   Garment Full body          Trouser   \n",
       "5108383  0.084729   Garment Full body          Trouser   \n",
       "5108384  0.084729   Garment Full body            Dress   \n",
       "5108385  0.050831  Garment Upper body    Tops Knitwear   \n",
       "\n",
       "                       section_name  nArticles  nDays  nPurchases  minPrice  \\\n",
       "0                Divided Collection        6.0    4.0         6.0  0.010153   \n",
       "1                Divided Collection        6.0    4.0         6.0  0.010153   \n",
       "2                Divided Collection        6.0    4.0         6.0  0.010153   \n",
       "3        Womens Everyday Collection        6.0    4.0         6.0  0.010153   \n",
       "4                  Womens Tailoring        6.0    4.0         6.0  0.010153   \n",
       "...                             ...        ...    ...         ...       ...   \n",
       "5108381          Divided Collection        1.0    1.0         1.0  0.061000   \n",
       "5108382  Womens Everyday Collection        2.0    1.0         3.0  0.084729   \n",
       "5108383  Womens Everyday Collection        2.0    1.0         3.0  0.084729   \n",
       "5108384            Womens Tailoring        2.0    1.0         3.0  0.084729   \n",
       "5108385          Divided Collection        1.0    1.0         1.0  0.050831   \n",
       "\n",
       "         maxPrice  meanPrice  nPGroups  nDept  nSect  \n",
       "0        0.027102   0.017130       3.0    5.0    3.0  \n",
       "1        0.027102   0.017130       3.0    5.0    3.0  \n",
       "2        0.027102   0.017130       3.0    5.0    3.0  \n",
       "3        0.027102   0.017130       3.0    5.0    3.0  \n",
       "4        0.027102   0.017130       3.0    5.0    3.0  \n",
       "...           ...        ...       ...    ...    ...  \n",
       "5108381  0.061000   0.061000       1.0    1.0    1.0  \n",
       "5108382  0.084729   0.084729       1.0    2.0    2.0  \n",
       "5108383  0.084729   0.084729       1.0    2.0    2.0  \n",
       "5108384  0.084729   0.084729       1.0    2.0    2.0  \n",
       "5108385  0.050831   0.050831       1.0    1.0    1.0  \n",
       "\n",
       "[5108386 rows x 15 columns]"
      ]
     },
     "execution_count": 14,
     "metadata": {},
     "output_type": "execute_result"
    }
   ],
   "source": [
    "columns = ['customer_id','article_id',\n",
    "           'price',\n",
    "          'product_group_name', 'department_name',\n",
    "             'section_name',\n",
    "             'nArticles',\n",
    "             'nDays',\n",
    "             'nPurchases',\n",
    "             'minPrice',\n",
    "             'maxPrice',\n",
    "             'meanPrice',\n",
    "             'nPGroups',\n",
    "             'nDept',\n",
    "             'nSect']\n",
    "\n",
    "# Using just training data here\n",
    "trainF = joinedF[joinedF['train'] == 1]\n",
    "testF = joinedF[joinedF['train'] == 0]\n",
    "\n",
    "trainF = joinedF[columns][~joinedF[\"customer_id\"].isna()]\n",
    "trainF"
   ]
  },
  {
   "cell_type": "code",
   "execution_count": 14,
   "id": "675e6078-f1ca-4993-ba1d-48a9dc94ea38",
   "metadata": {
    "id": "675e6078-f1ca-4993-ba1d-48a9dc94ea38"
   },
   "outputs": [],
   "source": []
  },
  {
   "cell_type": "markdown",
   "id": "9ff60881-c2ab-4c1f-b69a-67c28becb6cf",
   "metadata": {
    "id": "9ff60881-c2ab-4c1f-b69a-67c28becb6cf"
   },
   "source": [
    "# Negative Sampling for training ranker\n",
    "\n",
    "If you notice the dataset, we only have purchase information. This is generallyt he case -- we often only observe positive interactions from users. However, to train a model, we would need access to positive and negative samples both.\n",
    "\n",
    "To generate negative sampled, here we focus on random sampling of negative examples per user-artice transaction. Other methods exist to sample negatives, namely:\n",
    "1. Random sampling\n",
    "2. Biased sampling from similar categories\n",
    "3. Cross-batch negative sampling\n",
    "\n",
    "In this project, we will go ahead with the random sampling strategy."
   ]
  },
  {
   "cell_type": "code",
   "execution_count": 15,
   "id": "0ebf9e47-d778-4822-b37b-f0dd29323816",
   "metadata": {
    "id": "0ebf9e47-d778-4822-b37b-f0dd29323816"
   },
   "outputs": [],
   "source": [
    "tt = trainF.groupby(\"customer_id\", as_index=False).article_id.agg(['unique']).reset_index()\n",
    "tt.columns = ['customer_id', 'article_list']"
   ]
  },
  {
   "cell_type": "code",
   "execution_count": 16,
   "id": "cfcb19e5-9e0d-4fa8-ab65-b46ced061c35",
   "metadata": {
    "colab": {
     "base_uri": "https://localhost:8080/",
     "height": 424
    },
    "id": "cfcb19e5-9e0d-4fa8-ab65-b46ced061c35",
    "outputId": "27206129-bec6-4a92-f74a-5139b305c608"
   },
   "outputs": [
    {
     "data": {
      "text/html": [
       "\n",
       "  <div id=\"df-c51cd460-45d4-49a9-9715-8e0e31a2ec8a\">\n",
       "    <div class=\"colab-df-container\">\n",
       "      <div>\n",
       "<style scoped>\n",
       "    .dataframe tbody tr th:only-of-type {\n",
       "        vertical-align: middle;\n",
       "    }\n",
       "\n",
       "    .dataframe tbody tr th {\n",
       "        vertical-align: top;\n",
       "    }\n",
       "\n",
       "    .dataframe thead th {\n",
       "        text-align: right;\n",
       "    }\n",
       "</style>\n",
       "<table border=\"1\" class=\"dataframe\">\n",
       "  <thead>\n",
       "    <tr style=\"text-align: right;\">\n",
       "      <th></th>\n",
       "      <th>customer_id</th>\n",
       "      <th>article_list</th>\n",
       "    </tr>\n",
       "  </thead>\n",
       "  <tbody>\n",
       "    <tr>\n",
       "      <th>0</th>\n",
       "      <td>00000dbacae5abe5e23885899a1fa44253a17956c6d1c3...</td>\n",
       "      <td>[568601043]</td>\n",
       "    </tr>\n",
       "    <tr>\n",
       "      <th>1</th>\n",
       "      <td>0000423b00ade91418cceaf3b26c6af3dd342b51fd051e...</td>\n",
       "      <td>[826211002]</td>\n",
       "    </tr>\n",
       "    <tr>\n",
       "      <th>2</th>\n",
       "      <td>000058a12d5b43e67d225668fa1f8d618c13dc232df0ca...</td>\n",
       "      <td>[794321007]</td>\n",
       "    </tr>\n",
       "    <tr>\n",
       "      <th>3</th>\n",
       "      <td>00006413d8573cd20ed7128e53b7b13819fe5cfc2d801f...</td>\n",
       "      <td>[827971001, 589440005, 818320001, 730683050, 9...</td>\n",
       "    </tr>\n",
       "    <tr>\n",
       "      <th>4</th>\n",
       "      <td>0000757967448a6cb83efb3ea7a3fb9d418ac7adf2379d...</td>\n",
       "      <td>[448509014, 719530003]</td>\n",
       "    </tr>\n",
       "    <tr>\n",
       "      <th>...</th>\n",
       "      <td>...</td>\n",
       "      <td>...</td>\n",
       "    </tr>\n",
       "    <tr>\n",
       "      <th>596584</th>\n",
       "      <td>ffff8f9ecdce722b5bab97fff68a6d1866492209bfe524...</td>\n",
       "      <td>[889679001, 863001002, 859845001]</td>\n",
       "    </tr>\n",
       "    <tr>\n",
       "      <th>596585</th>\n",
       "      <td>ffffbbf78b6eaac697a8a5dfbfd2bfa8113ee5b403e474...</td>\n",
       "      <td>[684209019, 599580046, 822311009, 791587007, 8...</td>\n",
       "    </tr>\n",
       "    <tr>\n",
       "      <th>596586</th>\n",
       "      <td>ffffcd5046a6143d29a04fb8c424ce494a76e5cdf4fab5...</td>\n",
       "      <td>[853654002, 685816044, 805370005, 759871030, 6...</td>\n",
       "    </tr>\n",
       "    <tr>\n",
       "      <th>596587</th>\n",
       "      <td>ffffcf35913a0bee60e8741cb2b4e78b8a98ee5ff2e6a1...</td>\n",
       "      <td>[636323002, 795975009, 884081001, 689365050, 5...</td>\n",
       "    </tr>\n",
       "    <tr>\n",
       "      <th>596588</th>\n",
       "      <td>ffffd7744cebcf3aca44ae7049d2a94b87074c3d4ffe38...</td>\n",
       "      <td>[882810001]</td>\n",
       "    </tr>\n",
       "  </tbody>\n",
       "</table>\n",
       "<p>596589 rows × 2 columns</p>\n",
       "</div>\n",
       "      <button class=\"colab-df-convert\" onclick=\"convertToInteractive('df-c51cd460-45d4-49a9-9715-8e0e31a2ec8a')\"\n",
       "              title=\"Convert this dataframe to an interactive table.\"\n",
       "              style=\"display:none;\">\n",
       "        \n",
       "  <svg xmlns=\"http://www.w3.org/2000/svg\" height=\"24px\"viewBox=\"0 0 24 24\"\n",
       "       width=\"24px\">\n",
       "    <path d=\"M0 0h24v24H0V0z\" fill=\"none\"/>\n",
       "    <path d=\"M18.56 5.44l.94 2.06.94-2.06 2.06-.94-2.06-.94-.94-2.06-.94 2.06-2.06.94zm-11 1L8.5 8.5l.94-2.06 2.06-.94-2.06-.94L8.5 2.5l-.94 2.06-2.06.94zm10 10l.94 2.06.94-2.06 2.06-.94-2.06-.94-.94-2.06-.94 2.06-2.06.94z\"/><path d=\"M17.41 7.96l-1.37-1.37c-.4-.4-.92-.59-1.43-.59-.52 0-1.04.2-1.43.59L10.3 9.45l-7.72 7.72c-.78.78-.78 2.05 0 2.83L4 21.41c.39.39.9.59 1.41.59.51 0 1.02-.2 1.41-.59l7.78-7.78 2.81-2.81c.8-.78.8-2.07 0-2.86zM5.41 20L4 18.59l7.72-7.72 1.47 1.35L5.41 20z\"/>\n",
       "  </svg>\n",
       "      </button>\n",
       "      \n",
       "  <style>\n",
       "    .colab-df-container {\n",
       "      display:flex;\n",
       "      flex-wrap:wrap;\n",
       "      gap: 12px;\n",
       "    }\n",
       "\n",
       "    .colab-df-convert {\n",
       "      background-color: #E8F0FE;\n",
       "      border: none;\n",
       "      border-radius: 50%;\n",
       "      cursor: pointer;\n",
       "      display: none;\n",
       "      fill: #1967D2;\n",
       "      height: 32px;\n",
       "      padding: 0 0 0 0;\n",
       "      width: 32px;\n",
       "    }\n",
       "\n",
       "    .colab-df-convert:hover {\n",
       "      background-color: #E2EBFA;\n",
       "      box-shadow: 0px 1px 2px rgba(60, 64, 67, 0.3), 0px 1px 3px 1px rgba(60, 64, 67, 0.15);\n",
       "      fill: #174EA6;\n",
       "    }\n",
       "\n",
       "    [theme=dark] .colab-df-convert {\n",
       "      background-color: #3B4455;\n",
       "      fill: #D2E3FC;\n",
       "    }\n",
       "\n",
       "    [theme=dark] .colab-df-convert:hover {\n",
       "      background-color: #434B5C;\n",
       "      box-shadow: 0px 1px 3px 1px rgba(0, 0, 0, 0.15);\n",
       "      filter: drop-shadow(0px 1px 2px rgba(0, 0, 0, 0.3));\n",
       "      fill: #FFFFFF;\n",
       "    }\n",
       "  </style>\n",
       "\n",
       "      <script>\n",
       "        const buttonEl =\n",
       "          document.querySelector('#df-c51cd460-45d4-49a9-9715-8e0e31a2ec8a button.colab-df-convert');\n",
       "        buttonEl.style.display =\n",
       "          google.colab.kernel.accessAllowed ? 'block' : 'none';\n",
       "\n",
       "        async function convertToInteractive(key) {\n",
       "          const element = document.querySelector('#df-c51cd460-45d4-49a9-9715-8e0e31a2ec8a');\n",
       "          const dataTable =\n",
       "            await google.colab.kernel.invokeFunction('convertToInteractive',\n",
       "                                                     [key], {});\n",
       "          if (!dataTable) return;\n",
       "\n",
       "          const docLinkHtml = 'Like what you see? Visit the ' +\n",
       "            '<a target=\"_blank\" href=https://colab.research.google.com/notebooks/data_table.ipynb>data table notebook</a>'\n",
       "            + ' to learn more about interactive tables.';\n",
       "          element.innerHTML = '';\n",
       "          dataTable['output_type'] = 'display_data';\n",
       "          await google.colab.output.renderOutput(dataTable, element);\n",
       "          const docLink = document.createElement('div');\n",
       "          docLink.innerHTML = docLinkHtml;\n",
       "          element.appendChild(docLink);\n",
       "        }\n",
       "      </script>\n",
       "    </div>\n",
       "  </div>\n",
       "  "
      ],
      "text/plain": [
       "                                              customer_id  \\\n",
       "0       00000dbacae5abe5e23885899a1fa44253a17956c6d1c3...   \n",
       "1       0000423b00ade91418cceaf3b26c6af3dd342b51fd051e...   \n",
       "2       000058a12d5b43e67d225668fa1f8d618c13dc232df0ca...   \n",
       "3       00006413d8573cd20ed7128e53b7b13819fe5cfc2d801f...   \n",
       "4       0000757967448a6cb83efb3ea7a3fb9d418ac7adf2379d...   \n",
       "...                                                   ...   \n",
       "596584  ffff8f9ecdce722b5bab97fff68a6d1866492209bfe524...   \n",
       "596585  ffffbbf78b6eaac697a8a5dfbfd2bfa8113ee5b403e474...   \n",
       "596586  ffffcd5046a6143d29a04fb8c424ce494a76e5cdf4fab5...   \n",
       "596587  ffffcf35913a0bee60e8741cb2b4e78b8a98ee5ff2e6a1...   \n",
       "596588  ffffd7744cebcf3aca44ae7049d2a94b87074c3d4ffe38...   \n",
       "\n",
       "                                             article_list  \n",
       "0                                             [568601043]  \n",
       "1                                             [826211002]  \n",
       "2                                             [794321007]  \n",
       "3       [827971001, 589440005, 818320001, 730683050, 9...  \n",
       "4                                  [448509014, 719530003]  \n",
       "...                                                   ...  \n",
       "596584                  [889679001, 863001002, 859845001]  \n",
       "596585  [684209019, 599580046, 822311009, 791587007, 8...  \n",
       "596586  [853654002, 685816044, 805370005, 759871030, 6...  \n",
       "596587  [636323002, 795975009, 884081001, 689365050, 5...  \n",
       "596588                                        [882810001]  \n",
       "\n",
       "[596589 rows x 2 columns]"
      ]
     },
     "execution_count": 16,
     "metadata": {},
     "output_type": "execute_result"
    }
   ],
   "source": [
    "tt"
   ]
  },
  {
   "cell_type": "code",
   "execution_count": 17,
   "id": "42b22b40-e7c3-4b76-913f-9383119d114f",
   "metadata": {
    "id": "42b22b40-e7c3-4b76-913f-9383119d114f"
   },
   "outputs": [],
   "source": [
    "articlesSet = list(trainF.article_id.unique())"
   ]
  },
  {
   "cell_type": "code",
   "execution_count": 18,
   "id": "97f629c5-7b58-41ea-962d-ad559ee6197b",
   "metadata": {
    "colab": {
     "base_uri": "https://localhost:8080/"
    },
    "id": "97f629c5-7b58-41ea-962d-ad559ee6197b",
    "outputId": "c0c6bd65-b358-431e-a307-988245d63e55"
   },
   "outputs": [
    {
     "name": "stdout",
     "output_type": "stream",
     "text": [
      "45892\n",
      "['customer_id', 'article_list']\n"
     ]
    }
   ],
   "source": [
    "print(len(articlesSet))\n",
    "tt.columns = ['customer_id', 'article_list']\n",
    "print(list(tt))"
   ]
  },
  {
   "cell_type": "code",
   "execution_count": 19,
   "id": "8d82cc39-6cdc-48d4-8a0b-1fba2d1171e5",
   "metadata": {
    "id": "8d82cc39-6cdc-48d4-8a0b-1fba2d1171e5"
   },
   "outputs": [],
   "source": [
    "def generate_negative_samples(train_df, article_list, num_neg=1):\n",
    "    negData = []\n",
    "    for index, row in train_df.iterrows():\n",
    "        allList = article_list\n",
    "        cust = row['customer_id']\n",
    "        art_list = row['article_list']\n",
    "        allList = list(set(allList) - set(art_list))\n",
    "        negs = random.sample(allList, num_neg)\n",
    "        for n in negs:\n",
    "            negData.append([cust,n])\n",
    "    negDf = pd.DataFrame(negData,columns=['customer_id','article_id'])\n",
    "    return negDf"
   ]
  },
  {
   "cell_type": "code",
   "execution_count": 19,
   "id": "33d10277-f699-4e1f-9e1a-eb5a5b8d52d7",
   "metadata": {
    "id": "33d10277-f699-4e1f-9e1a-eb5a5b8d52d7"
   },
   "outputs": [],
   "source": []
  },
  {
   "cell_type": "code",
   "execution_count": 20,
   "id": "c9828161-6e0f-4ada-b435-c35e5d401cd3",
   "metadata": {
    "colab": {
     "base_uri": "https://localhost:8080/",
     "height": 424
    },
    "id": "c9828161-6e0f-4ada-b435-c35e5d401cd3",
    "outputId": "5a9d6034-ea59-4a9c-adbd-5b071b34151a"
   },
   "outputs": [
    {
     "data": {
      "text/html": [
       "\n",
       "  <div id=\"df-8e1f0cea-ff04-458c-bf08-673ff5e34c60\">\n",
       "    <div class=\"colab-df-container\">\n",
       "      <div>\n",
       "<style scoped>\n",
       "    .dataframe tbody tr th:only-of-type {\n",
       "        vertical-align: middle;\n",
       "    }\n",
       "\n",
       "    .dataframe tbody tr th {\n",
       "        vertical-align: top;\n",
       "    }\n",
       "\n",
       "    .dataframe thead th {\n",
       "        text-align: right;\n",
       "    }\n",
       "</style>\n",
       "<table border=\"1\" class=\"dataframe\">\n",
       "  <thead>\n",
       "    <tr style=\"text-align: right;\">\n",
       "      <th></th>\n",
       "      <th>customer_id</th>\n",
       "      <th>article_id</th>\n",
       "    </tr>\n",
       "  </thead>\n",
       "  <tbody>\n",
       "    <tr>\n",
       "      <th>0</th>\n",
       "      <td>00000dbacae5abe5e23885899a1fa44253a17956c6d1c3...</td>\n",
       "      <td>854262002</td>\n",
       "    </tr>\n",
       "    <tr>\n",
       "      <th>1</th>\n",
       "      <td>00000dbacae5abe5e23885899a1fa44253a17956c6d1c3...</td>\n",
       "      <td>579302004</td>\n",
       "    </tr>\n",
       "    <tr>\n",
       "      <th>2</th>\n",
       "      <td>0000423b00ade91418cceaf3b26c6af3dd342b51fd051e...</td>\n",
       "      <td>892309002</td>\n",
       "    </tr>\n",
       "    <tr>\n",
       "      <th>3</th>\n",
       "      <td>0000423b00ade91418cceaf3b26c6af3dd342b51fd051e...</td>\n",
       "      <td>814635005</td>\n",
       "    </tr>\n",
       "    <tr>\n",
       "      <th>4</th>\n",
       "      <td>000058a12d5b43e67d225668fa1f8d618c13dc232df0ca...</td>\n",
       "      <td>547780022</td>\n",
       "    </tr>\n",
       "    <tr>\n",
       "      <th>...</th>\n",
       "      <td>...</td>\n",
       "      <td>...</td>\n",
       "    </tr>\n",
       "    <tr>\n",
       "      <th>79995</th>\n",
       "      <td>11297a0414218c18ab7109376c63c7d8f093b49bbd254d...</td>\n",
       "      <td>717066001</td>\n",
       "    </tr>\n",
       "    <tr>\n",
       "      <th>79996</th>\n",
       "      <td>1129a321da62de7224393a06c477b851d0581636f7b9e7...</td>\n",
       "      <td>746625005</td>\n",
       "    </tr>\n",
       "    <tr>\n",
       "      <th>79997</th>\n",
       "      <td>1129a321da62de7224393a06c477b851d0581636f7b9e7...</td>\n",
       "      <td>782103001</td>\n",
       "    </tr>\n",
       "    <tr>\n",
       "      <th>79998</th>\n",
       "      <td>112a04b065c314ab86a3536a3d31c267f88200435cbe75...</td>\n",
       "      <td>718731010</td>\n",
       "    </tr>\n",
       "    <tr>\n",
       "      <th>79999</th>\n",
       "      <td>112a04b065c314ab86a3536a3d31c267f88200435cbe75...</td>\n",
       "      <td>830833001</td>\n",
       "    </tr>\n",
       "  </tbody>\n",
       "</table>\n",
       "<p>80000 rows × 2 columns</p>\n",
       "</div>\n",
       "      <button class=\"colab-df-convert\" onclick=\"convertToInteractive('df-8e1f0cea-ff04-458c-bf08-673ff5e34c60')\"\n",
       "              title=\"Convert this dataframe to an interactive table.\"\n",
       "              style=\"display:none;\">\n",
       "        \n",
       "  <svg xmlns=\"http://www.w3.org/2000/svg\" height=\"24px\"viewBox=\"0 0 24 24\"\n",
       "       width=\"24px\">\n",
       "    <path d=\"M0 0h24v24H0V0z\" fill=\"none\"/>\n",
       "    <path d=\"M18.56 5.44l.94 2.06.94-2.06 2.06-.94-2.06-.94-.94-2.06-.94 2.06-2.06.94zm-11 1L8.5 8.5l.94-2.06 2.06-.94-2.06-.94L8.5 2.5l-.94 2.06-2.06.94zm10 10l.94 2.06.94-2.06 2.06-.94-2.06-.94-.94-2.06-.94 2.06-2.06.94z\"/><path d=\"M17.41 7.96l-1.37-1.37c-.4-.4-.92-.59-1.43-.59-.52 0-1.04.2-1.43.59L10.3 9.45l-7.72 7.72c-.78.78-.78 2.05 0 2.83L4 21.41c.39.39.9.59 1.41.59.51 0 1.02-.2 1.41-.59l7.78-7.78 2.81-2.81c.8-.78.8-2.07 0-2.86zM5.41 20L4 18.59l7.72-7.72 1.47 1.35L5.41 20z\"/>\n",
       "  </svg>\n",
       "      </button>\n",
       "      \n",
       "  <style>\n",
       "    .colab-df-container {\n",
       "      display:flex;\n",
       "      flex-wrap:wrap;\n",
       "      gap: 12px;\n",
       "    }\n",
       "\n",
       "    .colab-df-convert {\n",
       "      background-color: #E8F0FE;\n",
       "      border: none;\n",
       "      border-radius: 50%;\n",
       "      cursor: pointer;\n",
       "      display: none;\n",
       "      fill: #1967D2;\n",
       "      height: 32px;\n",
       "      padding: 0 0 0 0;\n",
       "      width: 32px;\n",
       "    }\n",
       "\n",
       "    .colab-df-convert:hover {\n",
       "      background-color: #E2EBFA;\n",
       "      box-shadow: 0px 1px 2px rgba(60, 64, 67, 0.3), 0px 1px 3px 1px rgba(60, 64, 67, 0.15);\n",
       "      fill: #174EA6;\n",
       "    }\n",
       "\n",
       "    [theme=dark] .colab-df-convert {\n",
       "      background-color: #3B4455;\n",
       "      fill: #D2E3FC;\n",
       "    }\n",
       "\n",
       "    [theme=dark] .colab-df-convert:hover {\n",
       "      background-color: #434B5C;\n",
       "      box-shadow: 0px 1px 3px 1px rgba(0, 0, 0, 0.15);\n",
       "      filter: drop-shadow(0px 1px 2px rgba(0, 0, 0, 0.3));\n",
       "      fill: #FFFFFF;\n",
       "    }\n",
       "  </style>\n",
       "\n",
       "      <script>\n",
       "        const buttonEl =\n",
       "          document.querySelector('#df-8e1f0cea-ff04-458c-bf08-673ff5e34c60 button.colab-df-convert');\n",
       "        buttonEl.style.display =\n",
       "          google.colab.kernel.accessAllowed ? 'block' : 'none';\n",
       "\n",
       "        async function convertToInteractive(key) {\n",
       "          const element = document.querySelector('#df-8e1f0cea-ff04-458c-bf08-673ff5e34c60');\n",
       "          const dataTable =\n",
       "            await google.colab.kernel.invokeFunction('convertToInteractive',\n",
       "                                                     [key], {});\n",
       "          if (!dataTable) return;\n",
       "\n",
       "          const docLinkHtml = 'Like what you see? Visit the ' +\n",
       "            '<a target=\"_blank\" href=https://colab.research.google.com/notebooks/data_table.ipynb>data table notebook</a>'\n",
       "            + ' to learn more about interactive tables.';\n",
       "          element.innerHTML = '';\n",
       "          dataTable['output_type'] = 'display_data';\n",
       "          await google.colab.output.renderOutput(dataTable, element);\n",
       "          const docLink = document.createElement('div');\n",
       "          docLink.innerHTML = docLinkHtml;\n",
       "          element.appendChild(docLink);\n",
       "        }\n",
       "      </script>\n",
       "    </div>\n",
       "  </div>\n",
       "  "
      ],
      "text/plain": [
       "                                             customer_id  article_id\n",
       "0      00000dbacae5abe5e23885899a1fa44253a17956c6d1c3...   854262002\n",
       "1      00000dbacae5abe5e23885899a1fa44253a17956c6d1c3...   579302004\n",
       "2      0000423b00ade91418cceaf3b26c6af3dd342b51fd051e...   892309002\n",
       "3      0000423b00ade91418cceaf3b26c6af3dd342b51fd051e...   814635005\n",
       "4      000058a12d5b43e67d225668fa1f8d618c13dc232df0ca...   547780022\n",
       "...                                                  ...         ...\n",
       "79995  11297a0414218c18ab7109376c63c7d8f093b49bbd254d...   717066001\n",
       "79996  1129a321da62de7224393a06c477b851d0581636f7b9e7...   746625005\n",
       "79997  1129a321da62de7224393a06c477b851d0581636f7b9e7...   782103001\n",
       "79998  112a04b065c314ab86a3536a3d31c267f88200435cbe75...   718731010\n",
       "79999  112a04b065c314ab86a3536a3d31c267f88200435cbe75...   830833001\n",
       "\n",
       "[80000 rows x 2 columns]"
      ]
     },
     "execution_count": 20,
     "metadata": {},
     "output_type": "execute_result"
    }
   ],
   "source": [
    "negDf = generate_negative_samples(tt.head(40000),articlesSet,2)\n",
    "negDf"
   ]
  },
  {
   "cell_type": "markdown",
   "id": "affe3023-ad6e-4c30-b02d-df5626b479a5",
   "metadata": {
    "id": "affe3023-ad6e-4c30-b02d-df5626b479a5"
   },
   "source": [
    "### We next generate features for negatives"
   ]
  },
  {
   "cell_type": "code",
   "execution_count": 21,
   "id": "f652957e-c199-49db-a9f0-1268966ae57d",
   "metadata": {
    "colab": {
     "base_uri": "https://localhost:8080/",
     "height": 696
    },
    "id": "f652957e-c199-49db-a9f0-1268966ae57d",
    "outputId": "0aca970b-e7ab-4e4b-a59d-16208457e474"
   },
   "outputs": [
    {
     "data": {
      "text/html": [
       "\n",
       "  <div id=\"df-c95e5af2-9953-4ca8-a517-d2bfcf3fa95b\">\n",
       "    <div class=\"colab-df-container\">\n",
       "      <div>\n",
       "<style scoped>\n",
       "    .dataframe tbody tr th:only-of-type {\n",
       "        vertical-align: middle;\n",
       "    }\n",
       "\n",
       "    .dataframe tbody tr th {\n",
       "        vertical-align: top;\n",
       "    }\n",
       "\n",
       "    .dataframe thead th {\n",
       "        text-align: right;\n",
       "    }\n",
       "</style>\n",
       "<table border=\"1\" class=\"dataframe\">\n",
       "  <thead>\n",
       "    <tr style=\"text-align: right;\">\n",
       "      <th></th>\n",
       "      <th>customer_id</th>\n",
       "      <th>article_id</th>\n",
       "      <th>product_group_name</th>\n",
       "      <th>department_name</th>\n",
       "      <th>section_name</th>\n",
       "      <th>nArticles</th>\n",
       "      <th>nDays</th>\n",
       "      <th>nPurchases</th>\n",
       "      <th>minPrice</th>\n",
       "      <th>maxPrice</th>\n",
       "      <th>meanPrice</th>\n",
       "      <th>nPGroups</th>\n",
       "      <th>nDept</th>\n",
       "      <th>nSect</th>\n",
       "    </tr>\n",
       "  </thead>\n",
       "  <tbody>\n",
       "    <tr>\n",
       "      <th>0</th>\n",
       "      <td>00000dbacae5abe5e23885899a1fa44253a17956c6d1c3...</td>\n",
       "      <td>854262002</td>\n",
       "      <td>Swimwear</td>\n",
       "      <td>Swimwear</td>\n",
       "      <td>Womens Swimwear, beachwear</td>\n",
       "      <td>1</td>\n",
       "      <td>1</td>\n",
       "      <td>1</td>\n",
       "      <td>0.050831</td>\n",
       "      <td>0.050831</td>\n",
       "      <td>0.050831</td>\n",
       "      <td>1</td>\n",
       "      <td>1</td>\n",
       "      <td>1</td>\n",
       "    </tr>\n",
       "    <tr>\n",
       "      <th>1</th>\n",
       "      <td>00000dbacae5abe5e23885899a1fa44253a17956c6d1c3...</td>\n",
       "      <td>579302004</td>\n",
       "      <td>Underwear</td>\n",
       "      <td>Expressive Lingerie</td>\n",
       "      <td>Womens Lingerie</td>\n",
       "      <td>1</td>\n",
       "      <td>1</td>\n",
       "      <td>1</td>\n",
       "      <td>0.050831</td>\n",
       "      <td>0.050831</td>\n",
       "      <td>0.050831</td>\n",
       "      <td>1</td>\n",
       "      <td>1</td>\n",
       "      <td>1</td>\n",
       "    </tr>\n",
       "    <tr>\n",
       "      <th>2</th>\n",
       "      <td>0000423b00ade91418cceaf3b26c6af3dd342b51fd051e...</td>\n",
       "      <td>892309002</td>\n",
       "      <td>Underwear</td>\n",
       "      <td>Casual Lingerie</td>\n",
       "      <td>Womens Lingerie</td>\n",
       "      <td>1</td>\n",
       "      <td>1</td>\n",
       "      <td>1</td>\n",
       "      <td>0.027102</td>\n",
       "      <td>0.027102</td>\n",
       "      <td>0.027102</td>\n",
       "      <td>1</td>\n",
       "      <td>1</td>\n",
       "      <td>1</td>\n",
       "    </tr>\n",
       "    <tr>\n",
       "      <th>3</th>\n",
       "      <td>0000423b00ade91418cceaf3b26c6af3dd342b51fd051e...</td>\n",
       "      <td>814635005</td>\n",
       "      <td>Garment Upper body</td>\n",
       "      <td>Young Boy Jersey Fancy</td>\n",
       "      <td>Young Boy</td>\n",
       "      <td>1</td>\n",
       "      <td>1</td>\n",
       "      <td>1</td>\n",
       "      <td>0.027102</td>\n",
       "      <td>0.027102</td>\n",
       "      <td>0.027102</td>\n",
       "      <td>1</td>\n",
       "      <td>1</td>\n",
       "      <td>1</td>\n",
       "    </tr>\n",
       "    <tr>\n",
       "      <th>4</th>\n",
       "      <td>000058a12d5b43e67d225668fa1f8d618c13dc232df0ca...</td>\n",
       "      <td>547780022</td>\n",
       "      <td>Garment Lower body</td>\n",
       "      <td>Basic 1</td>\n",
       "      <td>Divided Basics</td>\n",
       "      <td>1</td>\n",
       "      <td>1</td>\n",
       "      <td>1</td>\n",
       "      <td>0.061000</td>\n",
       "      <td>0.061000</td>\n",
       "      <td>0.061000</td>\n",
       "      <td>1</td>\n",
       "      <td>1</td>\n",
       "      <td>1</td>\n",
       "    </tr>\n",
       "    <tr>\n",
       "      <th>...</th>\n",
       "      <td>...</td>\n",
       "      <td>...</td>\n",
       "      <td>...</td>\n",
       "      <td>...</td>\n",
       "      <td>...</td>\n",
       "      <td>...</td>\n",
       "      <td>...</td>\n",
       "      <td>...</td>\n",
       "      <td>...</td>\n",
       "      <td>...</td>\n",
       "      <td>...</td>\n",
       "      <td>...</td>\n",
       "      <td>...</td>\n",
       "      <td>...</td>\n",
       "    </tr>\n",
       "    <tr>\n",
       "      <th>79995</th>\n",
       "      <td>11297a0414218c18ab7109376c63c7d8f093b49bbd254d...</td>\n",
       "      <td>717066001</td>\n",
       "      <td>Garment Upper body</td>\n",
       "      <td>Jersey Basic</td>\n",
       "      <td>Womens Everyday Basics</td>\n",
       "      <td>2</td>\n",
       "      <td>1</td>\n",
       "      <td>2</td>\n",
       "      <td>0.008458</td>\n",
       "      <td>0.033881</td>\n",
       "      <td>0.021169</td>\n",
       "      <td>1</td>\n",
       "      <td>1</td>\n",
       "      <td>1</td>\n",
       "    </tr>\n",
       "    <tr>\n",
       "      <th>79996</th>\n",
       "      <td>1129a321da62de7224393a06c477b851d0581636f7b9e7...</td>\n",
       "      <td>746625005</td>\n",
       "      <td>Garment Full body</td>\n",
       "      <td>Dresses</td>\n",
       "      <td>Divided Collection</td>\n",
       "      <td>3</td>\n",
       "      <td>2</td>\n",
       "      <td>3</td>\n",
       "      <td>0.005068</td>\n",
       "      <td>0.022017</td>\n",
       "      <td>0.016367</td>\n",
       "      <td>3</td>\n",
       "      <td>3</td>\n",
       "      <td>3</td>\n",
       "    </tr>\n",
       "    <tr>\n",
       "      <th>79997</th>\n",
       "      <td>1129a321da62de7224393a06c477b851d0581636f7b9e7...</td>\n",
       "      <td>782103001</td>\n",
       "      <td>Garment Upper body</td>\n",
       "      <td>Limited Edition</td>\n",
       "      <td>Special Collections</td>\n",
       "      <td>3</td>\n",
       "      <td>2</td>\n",
       "      <td>3</td>\n",
       "      <td>0.005068</td>\n",
       "      <td>0.022017</td>\n",
       "      <td>0.016367</td>\n",
       "      <td>3</td>\n",
       "      <td>3</td>\n",
       "      <td>3</td>\n",
       "    </tr>\n",
       "    <tr>\n",
       "      <th>79998</th>\n",
       "      <td>112a04b065c314ab86a3536a3d31c267f88200435cbe75...</td>\n",
       "      <td>718731010</td>\n",
       "      <td>Underwear</td>\n",
       "      <td>Young Boy UW/NW</td>\n",
       "      <td>Boys Underwear &amp; Basics</td>\n",
       "      <td>2</td>\n",
       "      <td>1</td>\n",
       "      <td>4</td>\n",
       "      <td>0.016932</td>\n",
       "      <td>0.016932</td>\n",
       "      <td>0.016932</td>\n",
       "      <td>1</td>\n",
       "      <td>1</td>\n",
       "      <td>1</td>\n",
       "    </tr>\n",
       "    <tr>\n",
       "      <th>79999</th>\n",
       "      <td>112a04b065c314ab86a3536a3d31c267f88200435cbe75...</td>\n",
       "      <td>830833001</td>\n",
       "      <td>Garment Full body</td>\n",
       "      <td>Kids Girl Jersey Fancy</td>\n",
       "      <td>Kids Girl</td>\n",
       "      <td>2</td>\n",
       "      <td>1</td>\n",
       "      <td>4</td>\n",
       "      <td>0.016932</td>\n",
       "      <td>0.016932</td>\n",
       "      <td>0.016932</td>\n",
       "      <td>1</td>\n",
       "      <td>1</td>\n",
       "      <td>1</td>\n",
       "    </tr>\n",
       "  </tbody>\n",
       "</table>\n",
       "<p>80000 rows × 14 columns</p>\n",
       "</div>\n",
       "      <button class=\"colab-df-convert\" onclick=\"convertToInteractive('df-c95e5af2-9953-4ca8-a517-d2bfcf3fa95b')\"\n",
       "              title=\"Convert this dataframe to an interactive table.\"\n",
       "              style=\"display:none;\">\n",
       "        \n",
       "  <svg xmlns=\"http://www.w3.org/2000/svg\" height=\"24px\"viewBox=\"0 0 24 24\"\n",
       "       width=\"24px\">\n",
       "    <path d=\"M0 0h24v24H0V0z\" fill=\"none\"/>\n",
       "    <path d=\"M18.56 5.44l.94 2.06.94-2.06 2.06-.94-2.06-.94-.94-2.06-.94 2.06-2.06.94zm-11 1L8.5 8.5l.94-2.06 2.06-.94-2.06-.94L8.5 2.5l-.94 2.06-2.06.94zm10 10l.94 2.06.94-2.06 2.06-.94-2.06-.94-.94-2.06-.94 2.06-2.06.94z\"/><path d=\"M17.41 7.96l-1.37-1.37c-.4-.4-.92-.59-1.43-.59-.52 0-1.04.2-1.43.59L10.3 9.45l-7.72 7.72c-.78.78-.78 2.05 0 2.83L4 21.41c.39.39.9.59 1.41.59.51 0 1.02-.2 1.41-.59l7.78-7.78 2.81-2.81c.8-.78.8-2.07 0-2.86zM5.41 20L4 18.59l7.72-7.72 1.47 1.35L5.41 20z\"/>\n",
       "  </svg>\n",
       "      </button>\n",
       "      \n",
       "  <style>\n",
       "    .colab-df-container {\n",
       "      display:flex;\n",
       "      flex-wrap:wrap;\n",
       "      gap: 12px;\n",
       "    }\n",
       "\n",
       "    .colab-df-convert {\n",
       "      background-color: #E8F0FE;\n",
       "      border: none;\n",
       "      border-radius: 50%;\n",
       "      cursor: pointer;\n",
       "      display: none;\n",
       "      fill: #1967D2;\n",
       "      height: 32px;\n",
       "      padding: 0 0 0 0;\n",
       "      width: 32px;\n",
       "    }\n",
       "\n",
       "    .colab-df-convert:hover {\n",
       "      background-color: #E2EBFA;\n",
       "      box-shadow: 0px 1px 2px rgba(60, 64, 67, 0.3), 0px 1px 3px 1px rgba(60, 64, 67, 0.15);\n",
       "      fill: #174EA6;\n",
       "    }\n",
       "\n",
       "    [theme=dark] .colab-df-convert {\n",
       "      background-color: #3B4455;\n",
       "      fill: #D2E3FC;\n",
       "    }\n",
       "\n",
       "    [theme=dark] .colab-df-convert:hover {\n",
       "      background-color: #434B5C;\n",
       "      box-shadow: 0px 1px 3px 1px rgba(0, 0, 0, 0.15);\n",
       "      filter: drop-shadow(0px 1px 2px rgba(0, 0, 0, 0.3));\n",
       "      fill: #FFFFFF;\n",
       "    }\n",
       "  </style>\n",
       "\n",
       "      <script>\n",
       "        const buttonEl =\n",
       "          document.querySelector('#df-c95e5af2-9953-4ca8-a517-d2bfcf3fa95b button.colab-df-convert');\n",
       "        buttonEl.style.display =\n",
       "          google.colab.kernel.accessAllowed ? 'block' : 'none';\n",
       "\n",
       "        async function convertToInteractive(key) {\n",
       "          const element = document.querySelector('#df-c95e5af2-9953-4ca8-a517-d2bfcf3fa95b');\n",
       "          const dataTable =\n",
       "            await google.colab.kernel.invokeFunction('convertToInteractive',\n",
       "                                                     [key], {});\n",
       "          if (!dataTable) return;\n",
       "\n",
       "          const docLinkHtml = 'Like what you see? Visit the ' +\n",
       "            '<a target=\"_blank\" href=https://colab.research.google.com/notebooks/data_table.ipynb>data table notebook</a>'\n",
       "            + ' to learn more about interactive tables.';\n",
       "          element.innerHTML = '';\n",
       "          dataTable['output_type'] = 'display_data';\n",
       "          await google.colab.output.renderOutput(dataTable, element);\n",
       "          const docLink = document.createElement('div');\n",
       "          docLink.innerHTML = docLinkHtml;\n",
       "          element.appendChild(docLink);\n",
       "        }\n",
       "      </script>\n",
       "    </div>\n",
       "  </div>\n",
       "  "
      ],
      "text/plain": [
       "                                             customer_id  article_id  \\\n",
       "0      00000dbacae5abe5e23885899a1fa44253a17956c6d1c3...   854262002   \n",
       "1      00000dbacae5abe5e23885899a1fa44253a17956c6d1c3...   579302004   \n",
       "2      0000423b00ade91418cceaf3b26c6af3dd342b51fd051e...   892309002   \n",
       "3      0000423b00ade91418cceaf3b26c6af3dd342b51fd051e...   814635005   \n",
       "4      000058a12d5b43e67d225668fa1f8d618c13dc232df0ca...   547780022   \n",
       "...                                                  ...         ...   \n",
       "79995  11297a0414218c18ab7109376c63c7d8f093b49bbd254d...   717066001   \n",
       "79996  1129a321da62de7224393a06c477b851d0581636f7b9e7...   746625005   \n",
       "79997  1129a321da62de7224393a06c477b851d0581636f7b9e7...   782103001   \n",
       "79998  112a04b065c314ab86a3536a3d31c267f88200435cbe75...   718731010   \n",
       "79999  112a04b065c314ab86a3536a3d31c267f88200435cbe75...   830833001   \n",
       "\n",
       "       product_group_name         department_name                section_name  \\\n",
       "0                Swimwear                Swimwear  Womens Swimwear, beachwear   \n",
       "1               Underwear     Expressive Lingerie             Womens Lingerie   \n",
       "2               Underwear         Casual Lingerie             Womens Lingerie   \n",
       "3      Garment Upper body  Young Boy Jersey Fancy                   Young Boy   \n",
       "4      Garment Lower body                 Basic 1              Divided Basics   \n",
       "...                   ...                     ...                         ...   \n",
       "79995  Garment Upper body            Jersey Basic      Womens Everyday Basics   \n",
       "79996   Garment Full body                 Dresses          Divided Collection   \n",
       "79997  Garment Upper body         Limited Edition         Special Collections   \n",
       "79998           Underwear         Young Boy UW/NW     Boys Underwear & Basics   \n",
       "79999   Garment Full body  Kids Girl Jersey Fancy                   Kids Girl   \n",
       "\n",
       "       nArticles  nDays  nPurchases  minPrice  maxPrice  meanPrice  nPGroups  \\\n",
       "0              1      1           1  0.050831  0.050831   0.050831         1   \n",
       "1              1      1           1  0.050831  0.050831   0.050831         1   \n",
       "2              1      1           1  0.027102  0.027102   0.027102         1   \n",
       "3              1      1           1  0.027102  0.027102   0.027102         1   \n",
       "4              1      1           1  0.061000  0.061000   0.061000         1   \n",
       "...          ...    ...         ...       ...       ...        ...       ...   \n",
       "79995          2      1           2  0.008458  0.033881   0.021169         1   \n",
       "79996          3      2           3  0.005068  0.022017   0.016367         3   \n",
       "79997          3      2           3  0.005068  0.022017   0.016367         3   \n",
       "79998          2      1           4  0.016932  0.016932   0.016932         1   \n",
       "79999          2      1           4  0.016932  0.016932   0.016932         1   \n",
       "\n",
       "       nDept  nSect  \n",
       "0          1      1  \n",
       "1          1      1  \n",
       "2          1      1  \n",
       "3          1      1  \n",
       "4          1      1  \n",
       "...      ...    ...  \n",
       "79995      1      1  \n",
       "79996      3      3  \n",
       "79997      3      3  \n",
       "79998      1      1  \n",
       "79999      1      1  \n",
       "\n",
       "[80000 rows x 14 columns]"
      ]
     },
     "execution_count": 21,
     "metadata": {},
     "output_type": "execute_result"
    }
   ],
   "source": [
    "joinedFN = pd.merge(negDf, article_df[['article_id','product_group_name', 'department_name','section_name']], on='article_id', how='left')\n",
    "joinedFN = pd.merge(joinedFN, fAll, on='customer_id', how='left')\n",
    "joinedFN"
   ]
  },
  {
   "cell_type": "code",
   "execution_count": 22,
   "id": "40788433-0522-4e6a-a1ef-0a61b3670f50",
   "metadata": {
    "id": "40788433-0522-4e6a-a1ef-0a61b3670f50"
   },
   "outputs": [],
   "source": [
    "trainF['label1']=1\n",
    "joinedFN['label1']=0"
   ]
  },
  {
   "cell_type": "code",
   "execution_count": 23,
   "id": "aaacc944-f2ed-4e94-afee-2599db25377a",
   "metadata": {
    "id": "aaacc944-f2ed-4e94-afee-2599db25377a"
   },
   "outputs": [],
   "source": [
    "data = [trainF.head(40000), joinedFN]\n",
    "trainDF = pd.concat(data)"
   ]
  },
  {
   "cell_type": "code",
   "execution_count": 24,
   "id": "3294a2f5-4856-4317-ad4c-1bdf1e5066fb",
   "metadata": {
    "id": "3294a2f5-4856-4317-ad4c-1bdf1e5066fb"
   },
   "outputs": [],
   "source": [
    "trainDF = pd.concat(data)"
   ]
  },
  {
   "cell_type": "code",
   "execution_count": 25,
   "id": "d7b30d68-d8d0-4d94-8a6b-1e989b9d211b",
   "metadata": {
    "id": "d7b30d68-d8d0-4d94-8a6b-1e989b9d211b"
   },
   "outputs": [],
   "source": [
    "trainDF.to_pickle(\"trainDF.pkl\")"
   ]
  },
  {
   "cell_type": "code",
   "execution_count": 26,
   "id": "b9965cc2-bb5c-4ccd-8095-dac367deb68b",
   "metadata": {
    "colab": {
     "base_uri": "https://localhost:8080/"
    },
    "id": "b9965cc2-bb5c-4ccd-8095-dac367deb68b",
    "outputId": "c5fdfd90-4959-47b5-a71d-555f9bb9ddd0"
   },
   "outputs": [
    {
     "name": "stderr",
     "output_type": "stream",
     "text": [
      "/usr/local/lib/python3.7/dist-packages/ipykernel_launcher.py:1: SettingWithCopyWarning: \n",
      "A value is trying to be set on a copy of a slice from a DataFrame.\n",
      "Try using .loc[row_indexer,col_indexer] = value instead\n",
      "\n",
      "See the caveats in the documentation: https://pandas.pydata.org/pandas-docs/stable/user_guide/indexing.html#returning-a-view-versus-a-copy\n",
      "  \"\"\"Entry point for launching an IPython kernel.\n"
     ]
    }
   ],
   "source": [
    "testF['label1']=1"
   ]
  },
  {
   "cell_type": "markdown",
   "id": "857e7128-8eee-4b15-a6dd-14b8ba62301c",
   "metadata": {
    "id": "857e7128-8eee-4b15-a6dd-14b8ba62301c"
   },
   "source": [
    "## Single Task Ranker\n",
    "\n",
    "We begin by training a single task ranker for the task of predicting whether the user will purchase a given article or not."
   ]
  },
  {
   "cell_type": "code",
   "execution_count": 27,
   "id": "1a069406-b11d-4e39-a902-a7e402c9c718",
   "metadata": {
    "colab": {
     "base_uri": "https://localhost:8080/"
    },
    "id": "1a069406-b11d-4e39-a902-a7e402c9c718",
    "outputId": "68086d9e-1182-4477-8c44-53b054e49ba4",
    "scrolled": true,
    "tags": []
   },
   "outputs": [
    {
     "name": "stdout",
     "output_type": "stream",
     "text": [
      "Epoch 1/10\n",
      "120/120 [==============================] - 5s 28ms/step - loss: 0.6031 - binary_accuracy: 0.7364 - val_loss: 0.8551 - val_binary_accuracy: 0.3340\n",
      "Epoch 2/10\n",
      "120/120 [==============================] - 3s 24ms/step - loss: 0.4924 - binary_accuracy: 0.8095 - val_loss: 1.0439 - val_binary_accuracy: 0.3108\n",
      "Epoch 3/10\n",
      "120/120 [==============================] - 2s 18ms/step - loss: 0.4365 - binary_accuracy: 0.8204 - val_loss: 1.1391 - val_binary_accuracy: 0.3346\n",
      "Epoch 4/10\n",
      "120/120 [==============================] - 3s 24ms/step - loss: 0.4119 - binary_accuracy: 0.8228 - val_loss: 1.1731 - val_binary_accuracy: 0.3586\n",
      "Epoch 5/10\n",
      "120/120 [==============================] - 3s 24ms/step - loss: 0.4000 - binary_accuracy: 0.8229 - val_loss: 1.2792 - val_binary_accuracy: 0.3402\n",
      "Epoch 6/10\n",
      "120/120 [==============================] - 3s 23ms/step - loss: 0.3950 - binary_accuracy: 0.8227 - val_loss: 1.2816 - val_binary_accuracy: 0.3370\n",
      "Epoch 7/10\n",
      "120/120 [==============================] - 2s 16ms/step - loss: 0.3918 - binary_accuracy: 0.8220 - val_loss: 1.3341 - val_binary_accuracy: 0.3211\n",
      "Epoch 8/10\n",
      "120/120 [==============================] - 2s 15ms/step - loss: 0.3905 - binary_accuracy: 0.8217 - val_loss: 1.3111 - val_binary_accuracy: 0.3538\n",
      "Epoch 9/10\n",
      "120/120 [==============================] - 2s 15ms/step - loss: 0.3887 - binary_accuracy: 0.8214 - val_loss: 1.2963 - val_binary_accuracy: 0.3621\n",
      "Epoch 10/10\n",
      "120/120 [==============================] - 2s 15ms/step - loss: 0.3880 - binary_accuracy: 0.8213 - val_loss: 1.3707 - val_binary_accuracy: 0.3419\n"
     ]
    }
   ],
   "source": [
    "\n",
    "numFeatures = ['nArticles','nDays','nPurchases','minPrice','maxPrice','meanPrice','nPGroups','nDept','nSect']\n",
    "catFeatures = ['product_group_name']\n",
    "X1 = np.asarray(trainDF[numFeatures].values)\n",
    "X2 = np.asarray(trainDF[catFeatures].values)\n",
    "y1 = np.asarray(trainDF['label1'].values)\n",
    "\n",
    "#Creating validation data\n",
    "X1_val = np.asarray(testF[numFeatures].values)\n",
    "y1_val = np.asarray(testF['label1'].values)\n",
    "\n",
    "inp1 = tf.keras.Input((len(numFeatures)))\n",
    "#inp2 = tf.keras.Input((len(catFeatures)),dtype='str')\n",
    "#inp2 = tf.keras.Input((len(catFeatures)))\n",
    "\n",
    "unique_article_ids = article_df.article_id.unique().astype(str)\n",
    "\n",
    "\n",
    "x1 = tf.keras.layers.Dense(32, activation='relu')(inp1)\n",
    "embedding_dimension=50\n",
    "#xx2 = tf.keras.layers.StringLookup(vocabulary=unique_article_ids, mask_token=None)(inp2)\n",
    "#xx2 = tf.keras.layers.Embedding(len(unique_article_ids) + 1, embedding_dimension)(xx2)\n",
    "#xx2 = tf.keras.layers.Flatten()(xx2)\n",
    "#x2 = tf.keras.layers.Dense(32, activation='relu')(xx2)\n",
    "\n",
    "#x12 = tf.keras.layers.concatenate([x1,x2])\n",
    "#out1 = tf.keras.layers.Dense(1, activation='sigmoid')(x12)\n",
    "out1 = tf.keras.layers.Dense(1, activation='sigmoid')(x1)\n",
    "#out2 = tf.keras.layers.Dense(2, activation='softmax')(x123)\n",
    "#m = tf.keras.Model([inp,inp2,inp3], [out1,out2])\n",
    "bce = tf.keras.losses.BinaryCrossentropy(from_logits=False)\n",
    "metric = tf.keras.metrics.BinaryAccuracy()\n",
    "m = tf.keras.Model([inp1], out1)\n",
    "m.compile(loss=bce,\n",
    "          optimizer='adam',\n",
    "          metrics=[metric])\n",
    "\n",
    "eval_t_single_task = m.fit([X1], [y1], epochs=10, verbose=1,batch_size=1000, validation_data=(X1_val, y1_val))"
   ]
  },
  {
   "cell_type": "code",
   "execution_count": 28,
   "id": "3d1f7480-1848-4ec5-8384-e18eec2541f7",
   "metadata": {
    "colab": {
     "base_uri": "https://localhost:8080/"
    },
    "id": "3d1f7480-1848-4ec5-8384-e18eec2541f7",
    "outputId": "87751e94-178e-469c-8e5c-ad7208e63f88"
   },
   "outputs": [
    {
     "name": "stdout",
     "output_type": "stream",
     "text": [
      "Model: \"model\"\n",
      "_________________________________________________________________\n",
      " Layer (type)                Output Shape              Param #   \n",
      "=================================================================\n",
      " input_1 (InputLayer)        [(None, 9)]               0         \n",
      "                                                                 \n",
      " dense (Dense)               (None, 32)                320       \n",
      "                                                                 \n",
      " dense_1 (Dense)             (None, 1)                 33        \n",
      "                                                                 \n",
      "=================================================================\n",
      "Total params: 353\n",
      "Trainable params: 353\n",
      "Non-trainable params: 0\n",
      "_________________________________________________________________\n"
     ]
    }
   ],
   "source": [
    "m.summary()"
   ]
  },
  {
   "cell_type": "code",
   "execution_count": 29,
   "id": "X5B80uUHbxi8",
   "metadata": {
    "colab": {
     "base_uri": "https://localhost:8080/"
    },
    "id": "X5B80uUHbxi8",
    "outputId": "3947439f-4e27-4352-bedd-b852de47f88d"
   },
   "outputs": [
    {
     "name": "stdout",
     "output_type": "stream",
     "text": [
      "3750/3750 [==============================] - 8s 2ms/step - loss: 0.3865 - binary_accuracy: 0.8221\n"
     ]
    }
   ],
   "source": [
    "# Evaluating with training data\n",
    "eval_single_task = m.evaluate([X1], [y1])"
   ]
  },
  {
   "cell_type": "markdown",
   "id": "65ada5f3-8157-4088-95b8-8e17989b2d52",
   "metadata": {
    "id": "65ada5f3-8157-4088-95b8-8e17989b2d52"
   },
   "source": [
    "### **From single to multi-task recommendation model**\n",
    "We can now add another task to enrich the single task model to multi-task model. To do so, we first have to decide what the task 2 would be.\n",
    "\n",
    "By looking at the data we have, we hypothesize that being able to predict whether or not a customer would purchase an article from certain product category would be a good learnt model to have. Indeed, being able to predict which category would the user purchase in would help us narrow down the list of recommendations we want to surface infront of users.\n",
    "\n",
    "Based on this intuition, we want to develop a multi-task model with 2 tasks:\n",
    "1. Task 1: predict whether or not a user would purchase an article\n",
    "2. Task 2: predict whether or not a user would purchase any article from a given category\n",
    "\n",
    "The training data we have created thus far is solely based on prediction task 1: predicting whether or not a user would purchase a given article. Corredpondingly, in trainDF dataframe we have collected positive and nagetive examples for this task, and have added a label1 column as the final label to train the model.\n",
    "\n",
    "To develop a multi-task model for these two tasks, we will now need to add a label for the second task in the same dataset: trainDF. To do so, we will need to add a column: label2 to this dataframe -- for each row, we will need to identify whether the user has made any purchase in this category or not, and if the user has made a purchase in this category, then we will assign label2 = 1, else label2 = 0. Please note that for the same training example, it may happen that label1 = 0 but label2 = 1; this would happen in cases wherein the customer did not purchase this specific article but did purchase any other article from this category.\n",
    "\n",
    "The goal for this project is to write the function that adds this label2 column to the trainDF dataframe, to enable us to train a multi-task model."
   ]
  },
  {
   "cell_type": "code",
   "execution_count": 30,
   "id": "dA62iFB70GMv",
   "metadata": {
    "colab": {
     "base_uri": "https://localhost:8080/"
    },
    "id": "dA62iFB70GMv",
    "outputId": "188f8633-726d-4f3f-c484-d2a9ee910f2f"
   },
   "outputs": [
    {
     "data": {
      "text/plain": [
       "0    80000\n",
       "1    40000\n",
       "Name: label1, dtype: int64"
      ]
     },
     "execution_count": 30,
     "metadata": {},
     "output_type": "execute_result"
    }
   ],
   "source": [
    "trainDF['label1'].value_counts()"
   ]
  },
  {
   "cell_type": "code",
   "execution_count": 31,
   "id": "39b6f339-ccae-4cb8-949d-dc7947333bf1",
   "metadata": {
    "id": "39b6f339-ccae-4cb8-949d-dc7947333bf1"
   },
   "outputs": [],
   "source": [
    "\n",
    "def add_label2_to_trainDF(trainDF, joined):\n",
    "    \"\"\"\n",
    "    write code here to add a new column to trainDF\n",
    "    the new column would be named label2 and it represents the label for the task 2\n",
    "    \n",
    "    After this function has been run, it can be safely assumed that trainDF dataframe contains another column called \"label2\"\n",
    "    that describes the label for the second prediction task.\n",
    "    \"\"\"\n",
    "    \n",
    "    user_category = joined.groupby(['customer_id'])['department_name'] \\\n",
    "                    .agg(list).reset_index()\n",
    "\n",
    "    user_category.rename(columns={'department_name':'department_list'}, inplace = True)\n",
    "\n",
    "    joined_df = pd.merge(trainDF, user_category, on='customer_id', how='left')\n",
    "\n",
    "    joined_df['label2'] = joined_df.apply(lambda x: 1 if x['department_name'] in x['department_list'] else 0, axis=1)\n",
    "\n",
    "    joined_df.drop('department_list', axis=1, inplace=True)\n",
    "\n",
    "    return joined_df\n",
    "\n",
    "# Not sure if doing this occurs in some type of leakage on target 2 (once joined is abount all period)\n",
    "trainDF = add_label2_to_trainDF(trainDF, joined)"
   ]
  },
  {
   "cell_type": "code",
   "execution_count": 32,
   "id": "dO-vc3VujZYS",
   "metadata": {
    "id": "dO-vc3VujZYS"
   },
   "outputs": [],
   "source": [
    "testF = add_label2_to_trainDF(testF, joined[joined['train']==0])"
   ]
  },
  {
   "cell_type": "markdown",
   "id": "f2642a24-090e-4180-9be0-e9bb27a89695",
   "metadata": {
    "id": "f2642a24-090e-4180-9be0-e9bb27a89695"
   },
   "source": [
    "Now that we have both the label1 and label2 in our dataset, we can construct a simple multi-task model with shared bottom, which we call the common layers. Building on top of the common layers, we will have two separate modules: task1 layers and task2 layers. Layers of task 1 (\"task1a\" and \"task1b\") are dedicated to learning weights that help us perform better on task1. Correspondingly, layers of task 2 (\"task2a\" and \"task2b\") are dedicated to learning weights that help us perform better on task2.\n",
    "\n",
    "Below we implement such a multi-task model."
   ]
  },
  {
   "cell_type": "code",
   "execution_count": 33,
   "id": "0790138b-204b-400e-b04d-73c605c4ea43",
   "metadata": {
    "colab": {
     "base_uri": "https://localhost:8080/"
    },
    "id": "0790138b-204b-400e-b04d-73c605c4ea43",
    "outputId": "5582c9bd-9782-4841-f1c3-5bf214342fcc"
   },
   "outputs": [
    {
     "name": "stdout",
     "output_type": "stream",
     "text": [
      "Epoch 1/10\n",
      "120/120 [==============================] - 7s 54ms/step - loss: 0.9640 - out1_loss: 0.4674 - out2_loss: 0.4966 - out1_binary_accuracy: 0.8064 - out2_binary_accuracy: 0.7845 - val_loss: 2.0712 - val_out1_loss: 1.1463 - val_out2_loss: 0.9249 - val_out1_binary_accuracy: 0.4395 - val_out2_binary_accuracy: 0.5498\n",
      "Epoch 2/10\n",
      "120/120 [==============================] - 5s 40ms/step - loss: 0.8089 - out1_loss: 0.3868 - out2_loss: 0.4221 - out1_binary_accuracy: 0.8252 - out2_binary_accuracy: 0.8074 - val_loss: 2.4817 - val_out1_loss: 1.3694 - val_out2_loss: 1.1123 - val_out1_binary_accuracy: 0.3767 - val_out2_binary_accuracy: 0.4695\n",
      "Epoch 3/10\n",
      "120/120 [==============================] - 5s 38ms/step - loss: 0.7988 - out1_loss: 0.3802 - out2_loss: 0.4186 - out1_binary_accuracy: 0.8268 - out2_binary_accuracy: 0.8090 - val_loss: 2.8122 - val_out1_loss: 1.5887 - val_out2_loss: 1.2236 - val_out1_binary_accuracy: 0.3260 - val_out2_binary_accuracy: 0.3964\n",
      "Epoch 4/10\n",
      "120/120 [==============================] - 6s 51ms/step - loss: 0.7977 - out1_loss: 0.3797 - out2_loss: 0.4179 - out1_binary_accuracy: 0.8270 - out2_binary_accuracy: 0.8088 - val_loss: 2.6068 - val_out1_loss: 1.4730 - val_out2_loss: 1.1339 - val_out1_binary_accuracy: 0.3457 - val_out2_binary_accuracy: 0.4327\n",
      "Epoch 5/10\n",
      "120/120 [==============================] - 4s 35ms/step - loss: 0.7940 - out1_loss: 0.3771 - out2_loss: 0.4170 - out1_binary_accuracy: 0.8284 - out2_binary_accuracy: 0.8100 - val_loss: 2.8212 - val_out1_loss: 1.6851 - val_out2_loss: 1.1361 - val_out1_binary_accuracy: 0.3298 - val_out2_binary_accuracy: 0.4636\n",
      "Epoch 6/10\n",
      "120/120 [==============================] - 6s 51ms/step - loss: 0.7953 - out1_loss: 0.3783 - out2_loss: 0.4169 - out1_binary_accuracy: 0.8274 - out2_binary_accuracy: 0.8095 - val_loss: 2.7428 - val_out1_loss: 1.6300 - val_out2_loss: 1.1128 - val_out1_binary_accuracy: 0.3409 - val_out2_binary_accuracy: 0.4714\n",
      "Epoch 7/10\n",
      "120/120 [==============================] - 6s 53ms/step - loss: 0.7905 - out1_loss: 0.3746 - out2_loss: 0.4159 - out1_binary_accuracy: 0.8294 - out2_binary_accuracy: 0.8104 - val_loss: 2.7409 - val_out1_loss: 1.5304 - val_out2_loss: 1.2106 - val_out1_binary_accuracy: 0.3559 - val_out2_binary_accuracy: 0.4037\n",
      "Epoch 8/10\n",
      "120/120 [==============================] - 5s 39ms/step - loss: 0.7912 - out1_loss: 0.3754 - out2_loss: 0.4158 - out1_binary_accuracy: 0.8278 - out2_binary_accuracy: 0.8108 - val_loss: 2.5540 - val_out1_loss: 1.4098 - val_out2_loss: 1.1442 - val_out1_binary_accuracy: 0.4230 - val_out2_binary_accuracy: 0.4431\n",
      "Epoch 9/10\n",
      "120/120 [==============================] - 4s 37ms/step - loss: 0.7885 - out1_loss: 0.3732 - out2_loss: 0.4153 - out1_binary_accuracy: 0.8300 - out2_binary_accuracy: 0.8105 - val_loss: 2.6784 - val_out1_loss: 1.5240 - val_out2_loss: 1.1544 - val_out1_binary_accuracy: 0.3587 - val_out2_binary_accuracy: 0.4263\n",
      "Epoch 10/10\n",
      "120/120 [==============================] - 4s 37ms/step - loss: 0.7891 - out1_loss: 0.3741 - out2_loss: 0.4150 - out1_binary_accuracy: 0.8288 - out2_binary_accuracy: 0.8106 - val_loss: 2.4062 - val_out1_loss: 1.2763 - val_out2_loss: 1.1299 - val_out1_binary_accuracy: 0.4693 - val_out2_binary_accuracy: 0.4454\n"
     ]
    }
   ],
   "source": [
    "embedding_dimension=50\n",
    "\n",
    "numFeatures = ['nArticles','nDays','nPurchases','minPrice','maxPrice','meanPrice','nPGroups','nDept','nSect']\n",
    "catFeatures = ['product_group_name']\n",
    "X1 = np.asarray(trainDF[numFeatures].values)\n",
    "y1 = np.asarray(trainDF['label1'].values)\n",
    "y2 = np.asarray(trainDF['label2'].values) # replace label1 by label2 here - DONE!\n",
    "\n",
    "#There is validation data\n",
    "X1_val = np.asarray(testF[numFeatures].values)\n",
    "y1_val = np.asarray(testF['label1'].values)\n",
    "y2_val = np.asarray(testF['label2'].values)\n",
    "\n",
    "inp1 = tf.keras.Input((len(numFeatures)))\n",
    "\n",
    "unique_article_ids = article_df.article_id.unique().astype(str)\n",
    "\n",
    "\n",
    "common = tf.keras.layers.Dense(128, activation='relu',name=\"common1\")(inp1)\n",
    "common = tf.keras.layers.Dense(64, activation='relu',name=\"common2\")(common)\n",
    "\n",
    "x1 = tf.keras.layers.Dense(32, activation='relu',name=\"task1a\")(common)\n",
    "x1 = tf.keras.layers.Dense(16, activation='relu',name=\"task1b\")(x1)\n",
    "out1 = tf.keras.layers.Dense(1, activation='sigmoid',name=\"out1\")(x1)\n",
    "\n",
    "x2 = tf.keras.layers.Dense(32, activation='relu',name=\"task2a\")(common)\n",
    "x2 = tf.keras.layers.Dense(16, activation='relu',name=\"task2b\")(x2)\n",
    "out2 = tf.keras.layers.Dense(1, activation='sigmoid',name=\"out2\")(x2)\n",
    "\n",
    "\n",
    "bce = tf.keras.losses.BinaryCrossentropy(from_logits=False)\n",
    "#Changed here as well\n",
    "metric = tf.keras.metrics.BinaryAccuracy()\n",
    "m2 = tf.keras.Model([inp1], [out1,out2])\n",
    "m2.compile(loss=bce,\n",
    "          optimizer='adam',\n",
    "          metrics=[metric])\n",
    "\n",
    "eval_t_multi_task = m2.fit([X1], [y1,y2], epochs=10, verbose=1,batch_size=1000,  validation_data=(X1_val, [y1_val, y2_val]))"
   ]
  },
  {
   "cell_type": "code",
   "execution_count": 34,
   "id": "ZtKHn08R1GZ4",
   "metadata": {
    "colab": {
     "base_uri": "https://localhost:8080/"
    },
    "id": "ZtKHn08R1GZ4",
    "outputId": "f53e4847-2c6f-4ee1-b2a5-3abc396987ad"
   },
   "outputs": [
    {
     "name": "stdout",
     "output_type": "stream",
     "text": [
      "3750/3750 [==============================] - 7s 2ms/step - loss: 0.3865 - binary_accuracy: 0.8221\n"
     ]
    }
   ],
   "source": [
    "eval_multi_task = m.evaluate([X1], [y1, y2])"
   ]
  },
  {
   "cell_type": "code",
   "execution_count": 35,
   "id": "7a1dc2e8-e39d-4635-b5db-3fd9f36c0795",
   "metadata": {
    "colab": {
     "base_uri": "https://localhost:8080/"
    },
    "id": "7a1dc2e8-e39d-4635-b5db-3fd9f36c0795",
    "outputId": "7f6b7833-6000-47ca-dd0f-f353dabccd69"
   },
   "outputs": [
    {
     "name": "stdout",
     "output_type": "stream",
     "text": [
      "Model: \"model_1\"\n",
      "__________________________________________________________________________________________________\n",
      " Layer (type)                   Output Shape         Param #     Connected to                     \n",
      "==================================================================================================\n",
      " input_2 (InputLayer)           [(None, 9)]          0           []                               \n",
      "                                                                                                  \n",
      " common1 (Dense)                (None, 128)          1280        ['input_2[0][0]']                \n",
      "                                                                                                  \n",
      " common2 (Dense)                (None, 64)           8256        ['common1[0][0]']                \n",
      "                                                                                                  \n",
      " task1a (Dense)                 (None, 32)           2080        ['common2[0][0]']                \n",
      "                                                                                                  \n",
      " task2a (Dense)                 (None, 32)           2080        ['common2[0][0]']                \n",
      "                                                                                                  \n",
      " task1b (Dense)                 (None, 16)           528         ['task1a[0][0]']                 \n",
      "                                                                                                  \n",
      " task2b (Dense)                 (None, 16)           528         ['task2a[0][0]']                 \n",
      "                                                                                                  \n",
      " out1 (Dense)                   (None, 1)            17          ['task1b[0][0]']                 \n",
      "                                                                                                  \n",
      " out2 (Dense)                   (None, 1)            17          ['task2b[0][0]']                 \n",
      "                                                                                                  \n",
      "==================================================================================================\n",
      "Total params: 14,786\n",
      "Trainable params: 14,786\n",
      "Non-trainable params: 0\n",
      "__________________________________________________________________________________________________\n"
     ]
    }
   ],
   "source": [
    "m2.summary()"
   ]
  },
  {
   "cell_type": "markdown",
   "id": "f5866181-5319-472a-8b85-0004fa8c652e",
   "metadata": {
    "id": "f5866181-5319-472a-8b85-0004fa8c652e"
   },
   "source": [
    "### Checkpoint & goals\n",
    "By now you should have implemented the function **def add_label2_to_trainDF()** and replaced label1 in the above code by label2 and trained the multi-task model with these 2 tasks.\n",
    "\n",
    "Please record the performance of both the single task model and multi-task model and provide your interpretation of the results"
   ]
  },
  {
   "cell_type": "markdown",
   "id": "S6bPnFDndEcH",
   "metadata": {
    "id": "S6bPnFDndEcH"
   },
   "source": [
    "Lets check binary_accurary and loss"
   ]
  },
  {
   "cell_type": "code",
   "execution_count": 36,
   "id": "9djTBXRdc30O",
   "metadata": {
    "colab": {
     "base_uri": "https://localhost:8080/",
     "height": 265
    },
    "id": "9djTBXRdc30O",
    "outputId": "e4105d5b-582c-42eb-d153-2fd1b34caa07"
   },
   "outputs": [
    {
     "data": {
      "image/png": "[encoded data removed]",
      "text/plain": [
       "<Figure size 432x288 with 1 Axes>"
      ]
     },
     "metadata": {
      "needs_background": "light"
     },
     "output_type": "display_data"
    }
   ],
   "source": [
    "# Loss check-up\n",
    "\n",
    "loss_1 = eval_t_single_task.history['loss']\n",
    "loss_2 = eval_t_multi_task.history['loss']\n",
    "\n",
    "plt.plot(loss_1, label='Single task')\n",
    "plt.plot(loss_2, label='Multi task')\n",
    "plt.legend(title='Loss over training')\n",
    "#display plot\n",
    "plt.show()"
   ]
  },
  {
   "cell_type": "markdown",
   "id": "yBlUFkaItRRq",
   "metadata": {
    "id": "yBlUFkaItRRq"
   },
   "source": [
    "Well, seems both models have stability and maybe need early stopping to avoid overfitting!\n",
    "\n",
    "Besides that, multi task have higher loss (probably due to its loss function)"
   ]
  },
  {
   "cell_type": "code",
   "execution_count": 37,
   "id": "OXeK9vzBtxYV",
   "metadata": {
    "colab": {
     "base_uri": "https://localhost:8080/",
     "height": 283
    },
    "id": "OXeK9vzBtxYV",
    "outputId": "674aace3-9b29-4bc5-f614-3a8cf88f0dec"
   },
   "outputs": [
    {
     "data": {
      "image/png": "[encoded data removed]",
      "text/plain": [
       "<Figure size 432x288 with 1 Axes>"
      ]
     },
     "metadata": {
      "needs_background": "light"
     },
     "output_type": "display_data"
    }
   ],
   "source": [
    "# Binary accuracy check-up with validation dataset\n",
    "\n",
    "acc_1 = eval_t_single_task.history['val_binary_accuracy']\n",
    "acc_21 = eval_t_multi_task.history['val_out1_binary_accuracy']\n",
    "acc_22 = eval_t_multi_task.history['val_out2_binary_accuracy']\n",
    "\n",
    "plt.plot(acc_1, label='Single task val accuracy')\n",
    "plt.plot(acc_21, label='Multi task val accuracy (out_1)')\n",
    "plt.plot(acc_22, label='Multi task val accuracy (out_1)')\n",
    "\n",
    "plt.ylabel('Accuracy on val data', fontsize=14)\n",
    "plt.xlabel('Epochs', fontsize=14)\n",
    "\n",
    "plt.legend(title='Binary accuracy (val data) over training')\n",
    "#display plot\n",
    "plt.show()"
   ]
  },
  {
   "cell_type": "markdown",
   "id": "0j5JOglAu2n4",
   "metadata": {
    "id": "0j5JOglAu2n4"
   },
   "source": [
    "That's interesting: while training, single ranker seems to drop accuracy, while multi-task (individual ones) are unstable but reach good results at the end of training.\n",
    "\n",
    "Not clear why these metrics aren't stable enough (still suspecting on some kind of leakage between train and validation data). "
   ]
  },
  {
   "cell_type": "markdown",
   "id": "d0478c09-91fa-404d-84f5-34ae7fe9f359",
   "metadata": {
    "id": "d0478c09-91fa-404d-84f5-34ae7fe9f359"
   },
   "source": [
    "## Freezing layers for secondary tasks\n",
    "\n",
    "Often when training a multi-task model, one needs to freeze parts of the nueral network and only train one specific task module, while keeping the weights of the other task module fixed. In Keras we can do this by freezing layers. The below example demonstrates how one could go about freezing layers in a neural network, and train only the trainable parts of a nueral network."
   ]
  },
  {
   "cell_type": "code",
   "execution_count": 38,
   "id": "3b40d34e-fa1c-4e09-b29a-7df832a3746b",
   "metadata": {
    "colab": {
     "base_uri": "https://localhost:8080/"
    },
    "id": "3b40d34e-fa1c-4e09-b29a-7df832a3746b",
    "outputId": "25a506ac-1dc1-4b02-c427-a739ae5ecadd"
   },
   "outputs": [
    {
     "name": "stdout",
     "output_type": "stream",
     "text": [
      "<keras.engine.functional.Functional object at 0x7ff6c3175fd0> True\n",
      "<keras.engine.input_layer.InputLayer object at 0x7ff6c317df50> True\n",
      "<keras.layers.core.dense.Dense object at 0x7ff7020ccd50> True\n",
      "<keras.layers.core.dense.Dense object at 0x7ff6c317db10> True\n",
      "<keras.layers.core.dense.Dense object at 0x7ff6c317d090> True\n",
      "<keras.layers.core.dense.Dense object at 0x7ff6c31a6510> True\n",
      "<keras.layers.core.dense.Dense object at 0x7ff6e8f10650> True\n",
      "<keras.layers.core.dense.Dense object at 0x7ff6c317d290> True\n",
      "<keras.layers.core.dense.Dense object at 0x7ff6c34dad10> True\n",
      "<keras.layers.core.dense.Dense object at 0x7ff6eb52cdd0> True\n"
     ]
    }
   ],
   "source": [
    "# lets print the training status of each layer of the models we have\n",
    "for k,v in m2._get_trainable_state().items():\n",
    "    print(k,v)"
   ]
  },
  {
   "cell_type": "code",
   "execution_count": 39,
   "id": "4842f73e-3367-4b47-890d-93936b18b212",
   "metadata": {
    "id": "4842f73e-3367-4b47-890d-93936b18b212"
   },
   "outputs": [],
   "source": [
    "# Lets try to freeze layers for task 2 so that no training example affects the module dedicated to task 2\n",
    "for layer in m2.layers:\n",
    "    if layer.name in [\"task2a\",\"task2b\"]:\n",
    "        layer.trainable = False"
   ]
  },
  {
   "cell_type": "code",
   "execution_count": 40,
   "id": "2b01277c-eb22-47b7-8bb7-7d1a106543c8",
   "metadata": {
    "colab": {
     "base_uri": "https://localhost:8080/"
    },
    "id": "2b01277c-eb22-47b7-8bb7-7d1a106543c8",
    "outputId": "087a1f6e-552f-48b2-aab9-032e473b5eb6"
   },
   "outputs": [
    {
     "name": "stdout",
     "output_type": "stream",
     "text": [
      "<keras.engine.functional.Functional object at 0x7ff6c3175fd0> True\n",
      "<keras.engine.input_layer.InputLayer object at 0x7ff6c317df50> True\n",
      "<keras.layers.core.dense.Dense object at 0x7ff7020ccd50> True\n",
      "<keras.layers.core.dense.Dense object at 0x7ff6c317db10> True\n",
      "<keras.layers.core.dense.Dense object at 0x7ff6c317d090> True\n",
      "<keras.layers.core.dense.Dense object at 0x7ff6c31a6510> False\n",
      "<keras.layers.core.dense.Dense object at 0x7ff6e8f10650> True\n",
      "<keras.layers.core.dense.Dense object at 0x7ff6c317d290> False\n",
      "<keras.layers.core.dense.Dense object at 0x7ff6c34dad10> True\n",
      "<keras.layers.core.dense.Dense object at 0x7ff6eb52cdd0> True\n"
     ]
    }
   ],
   "source": [
    "for k,v in m2._get_trainable_state().items():\n",
    "    print(k,v)"
   ]
  },
  {
   "cell_type": "code",
   "execution_count": 41,
   "id": "cf305533-a7bf-4dd5-aa5d-c02f27f33897",
   "metadata": {
    "colab": {
     "base_uri": "https://localhost:8080/"
    },
    "id": "cf305533-a7bf-4dd5-aa5d-c02f27f33897",
    "outputId": "e259c288-c78e-40a9-9e52-39d62fc4c116",
    "scrolled": true,
    "tags": []
   },
   "outputs": [
    {
     "name": "stdout",
     "output_type": "stream",
     "text": [
      "Epoch 1/10\n",
      "120/120 [==============================] - 2s 9ms/step - loss: 0.7899 - out1_loss: 0.3747 - out2_loss: 0.4151 - out1_binary_accuracy: 0.8293 - out2_binary_accuracy: 0.8109\n",
      "Epoch 2/10\n",
      "120/120 [==============================] - 1s 9ms/step - loss: 0.7850 - out1_loss: 0.3712 - out2_loss: 0.4138 - out1_binary_accuracy: 0.8308 - out2_binary_accuracy: 0.8119\n",
      "Epoch 3/10\n",
      "120/120 [==============================] - 1s 8ms/step - loss: 0.7854 - out1_loss: 0.3715 - out2_loss: 0.4139 - out1_binary_accuracy: 0.8303 - out2_binary_accuracy: 0.8112\n",
      "Epoch 4/10\n",
      "120/120 [==============================] - 1s 8ms/step - loss: 0.7852 - out1_loss: 0.3715 - out2_loss: 0.4137 - out1_binary_accuracy: 0.8303 - out2_binary_accuracy: 0.8113\n",
      "Epoch 5/10\n",
      "120/120 [==============================] - 1s 8ms/step - loss: 0.7833 - out1_loss: 0.3700 - out2_loss: 0.4133 - out1_binary_accuracy: 0.8311 - out2_binary_accuracy: 0.8120\n",
      "Epoch 6/10\n",
      "120/120 [==============================] - 1s 8ms/step - loss: 0.7820 - out1_loss: 0.3690 - out2_loss: 0.4129 - out1_binary_accuracy: 0.8317 - out2_binary_accuracy: 0.8124\n",
      "Epoch 7/10\n",
      "120/120 [==============================] - 1s 8ms/step - loss: 0.7830 - out1_loss: 0.3699 - out2_loss: 0.4131 - out1_binary_accuracy: 0.8312 - out2_binary_accuracy: 0.8122\n",
      "Epoch 8/10\n",
      "120/120 [==============================] - 1s 7ms/step - loss: 0.7824 - out1_loss: 0.3695 - out2_loss: 0.4130 - out1_binary_accuracy: 0.8314 - out2_binary_accuracy: 0.8119\n",
      "Epoch 9/10\n",
      "120/120 [==============================] - 1s 7ms/step - loss: 0.7833 - out1_loss: 0.3697 - out2_loss: 0.4136 - out1_binary_accuracy: 0.8314 - out2_binary_accuracy: 0.8112\n",
      "Epoch 10/10\n",
      "120/120 [==============================] - 1s 7ms/step - loss: 0.7804 - out1_loss: 0.3679 - out2_loss: 0.4125 - out1_binary_accuracy: 0.8320 - out2_binary_accuracy: 0.8119\n"
     ]
    },
    {
     "data": {
      "text/plain": [
       "<keras.callbacks.History at 0x7ff6b247bfd0>"
      ]
     },
     "execution_count": 41,
     "metadata": {},
     "output_type": "execute_result"
    }
   ],
   "source": [
    "m2.compile(loss=bce,\n",
    "          optimizer='adam',\n",
    "          metrics=[metric])\n",
    "\n",
    "m2.fit([X1], [y1,y2], epochs=10, verbose=1,batch_size=1000)"
   ]
  },
  {
   "cell_type": "code",
   "execution_count": 41,
   "id": "9e9b0509-3d51-46a6-84be-7a2069d0ad5f",
   "metadata": {
    "id": "9e9b0509-3d51-46a6-84be-7a2069d0ad5f"
   },
   "outputs": [],
   "source": []
  },
  {
   "cell_type": "markdown",
   "id": "48cccb53-490d-48fe-89f9-99895bdfc50d",
   "metadata": {
    "id": "48cccb53-490d-48fe-89f9-99895bdfc50d"
   },
   "source": [
    "## Tasks for Week 2 project:\n",
    "\n",
    "So glad that you have made it this far!! The above gives a high level view on how one could train single, and multi-task models and how one could go about freezing layers and training parts of a multi-task network.\n",
    "\n",
    "Lets re-iterate the main goal for this part of the project 2:\n",
    "\n",
    "- Goal: Implement the function that assigns label2 to the trainDF dataframe, and run the single task and multi-tsk models without layer freezing. Once done, compare the performance metrics for task 1 from both these models. Comment on whether the addition of second task is adding value to predictive power of first task.\n",
    "\n",
    "Optional: you can notice that we have used only numeric features in the model. Feel free to add other categorical features and re-train the model to see if the performance increases."
   ]
  },
  {
   "cell_type": "code",
   "execution_count": 42,
   "id": "Zj9UaTQFzqSh",
   "metadata": {
    "id": "Zj9UaTQFzqSh"
   },
   "outputs": [],
   "source": [
    "from keras.utils import to_categorical\n",
    "from sklearn.preprocessing import LabelEncoder"
   ]
  },
  {
   "cell_type": "code",
   "execution_count": 43,
   "id": "0GZpAR8-4Eol",
   "metadata": {
    "id": "0GZpAR8-4Eol"
   },
   "outputs": [],
   "source": [
    "# le = LabelEncoder()\n",
    "# trainDF.product_group_name = le.fit_transform(trainDF.product_group_name.values)"
   ]
  },
  {
   "cell_type": "code",
   "execution_count": 46,
   "id": "649306f5-6cd8-4339-9921-41f6de1dc948",
   "metadata": {
    "colab": {
     "base_uri": "https://localhost:8080/"
    },
    "id": "649306f5-6cd8-4339-9921-41f6de1dc948",
    "outputId": "3b415825-06ed-44a3-8522-1aab387b0d51"
   },
   "outputs": [
    {
     "name": "stdout",
     "output_type": "stream",
     "text": [
      "Epoch 1/2\n",
      "120/120 [==============================] - 1s 4ms/step - loss: 0.6721 - binary_accuracy: 0.6951\n",
      "Epoch 2/2\n",
      "120/120 [==============================] - 1s 4ms/step - loss: 0.5058 - binary_accuracy: 0.8047\n"
     ]
    }
   ],
   "source": [
    "#Re-training single task ranker with categorical data =)\n",
    "\n",
    "numFeatures = ['nArticles','nDays','nPurchases','minPrice','maxPrice','meanPrice','nPGroups','nDept','nSect']\n",
    "catFeatures = ['product_group_name']\n",
    "\n",
    "X1 = np.asarray(trainDF[numFeatures].values)\n",
    "X2 = trainDF[catFeatures].astype(str)\n",
    "y1 = np.asarray(trainDF['label1'].values)\n",
    "\n",
    "#Creating validation data\n",
    "X1_val = np.asarray(testF[numFeatures].values)\n",
    "y1_val = np.asarray(testF['label1'].values)\n",
    "\n",
    "inp1 = tf.keras.Input((len(numFeatures)))\n",
    "inp2 = tf.keras.Input((1,),dtype=tf.string)\n",
    "\n",
    "unique_product_group_name = article_df.product_group_name.unique()\n",
    "\n",
    "\n",
    "x2 = tf.keras.layers.StringLookup(vocabulary=unique_product_group_name)(inp2)\n",
    "# embedding_dimension=50\n",
    "# x2 = tf.keras.layers.Embedding(len(unique_product_group_name) + 1, embedding_dimension)(x2)\n",
    "# x2 = tf.keras.layers.Flatten()(x2)\n",
    "\n",
    "x1 = tf.keras.layers.Dense(32, activation='relu')(inp1)\n",
    "x2 = tf.keras.layers.Dense(32, activation='relu')(x2)\n",
    "\n",
    "x12 = tf.keras.layers.concatenate([x1,x2])\n",
    "out1 = tf.keras.layers.Dense(1, activation='sigmoid')(x12)\n",
    "\n",
    "bce = tf.keras.losses.BinaryCrossentropy(from_logits=False)\n",
    "metric = tf.keras.metrics.BinaryAccuracy()\n",
    "\n",
    "m = tf.keras.Model([inp1, inp2], out1)\n",
    "m.compile(loss=bce,\n",
    "          optimizer='adam',\n",
    "          metrics=[metric])\n",
    "\n",
    "\n",
    "\n",
    "eval_t_single_task = m.fit([X1, X2], [y1], epochs=2, verbose=1,batch_size=1000)"
   ]
  },
  {
   "cell_type": "code",
   "execution_count": 47,
   "id": "deJcebYpWKui",
   "metadata": {
    "colab": {
     "base_uri": "https://localhost:8080/",
     "height": 533
    },
    "id": "deJcebYpWKui",
    "outputId": "2f2b7507-2be4-458f-abf5-571e883dccb0"
   },
   "outputs": [
    {
     "data": {
      "image/png": "[encoded data removed]",
      "text/plain": [
       "<IPython.core.display.Image object>"
      ]
     },
     "execution_count": 47,
     "metadata": {},
     "output_type": "execute_result"
    }
   ],
   "source": [
    "from keras.utils.vis_utils import plot_model\n",
    "plot_model(m, show_shapes=True, show_layer_names=True)"
   ]
  },
  {
   "cell_type": "code",
   "execution_count": 49,
   "id": "nBzDgb44W7VK",
   "metadata": {
    "colab": {
     "base_uri": "https://localhost:8080/"
    },
    "id": "nBzDgb44W7VK",
    "outputId": "5cd968af-33cb-4adf-e83b-9fabbd93408f"
   },
   "outputs": [
    {
     "name": "stdout",
     "output_type": "stream",
     "text": [
      "3750/3750 [==============================] - 9s 2ms/step - loss: 0.4824 - binary_accuracy: 0.8080\n"
     ]
    },
    {
     "data": {
      "text/plain": [
       "[0.48240235447883606, 0.8080499768257141]"
      ]
     },
     "execution_count": 49,
     "metadata": {},
     "output_type": "execute_result"
    }
   ],
   "source": [
    "m.evaluate([X1, X2], [y1])"
   ]
  },
  {
   "cell_type": "markdown",
   "id": "f9MGd4_mjV8e",
   "metadata": {
    "id": "f9MGd4_mjV8e"
   },
   "source": [
    "BinaryAccuracy worst than single task recommender without this categorical information. That's interesting."
   ]
  },
  {
   "cell_type": "markdown",
   "id": "d21b257c-d1e8-42c8-8926-86b8ee5ff88b",
   "metadata": {
    "id": "d21b257c-d1e8-42c8-8926-86b8ee5ff88b"
   },
   "source": [
    "# Contextual Bandits for Recommendations\n",
    "\n",
    "We can also use contextual bandits to produce personalized recommendations. Compared to multi-task recommenders, contextual bandits provide a balance between exploring new options and exploiting known information to find potential recommendations.\n",
    "\n",
    "## Background: multi-arm bandits\n",
    "The multi-armed bandit problem is an example of one-step reinforcement learning. To explore an example, lets assume we have a gambler who is provided a slot machine with multiple arms, each with its own unknown probability distribution of payouts. The objective is to pull the arms one-by-one in a sequence while gathering information in order to maximize the total payout over the long-run. The multi-armed bandit problem can be seen as a toy problem for reinforcement learning with one step rollout. Namely we have a game consisting of n rounds and in each round t:\n",
    "\n",
    "1. Player selects one of K actions (think of slot machines and pulling their arms, hence the name).\n",
    "2. Player gets reward of Rt . Each action i ∈ {1,2,…,K } has a fixed, but unknown to the player, reward distribution Pi with the expected reward μi .\n",
    "3. Given the history of actions and rewards Player updates their strategy.\n",
    "\n",
    "Given the history of actions and rewards, the player updates their strategy. The goal of the player is to maximize the reward, which naturally has to be done by exploring new options (and thus learning about other machines' distributions) and exploiting known actions that proved to give high rewards so far. Mathematically the player wishes to minimize the regret.\n",
    "\n",
    "## Contextual multi-arm bandits\n",
    "The contextual bandit problem is a generalization of the multi-armed bandit that extends the model by making actions conditional on the state of the environment. Unlike the classical multi-armed bandit, it addresses the problem of identifying the most appropriate content given all relevant contextual signals.\n",
    "\n",
    "1. Player gets context xt .\n",
    "2. Player selects at ∈ A .\n",
    "3. Player gets reward Rt(at) .\n",
    "4. Given the history of actions, rewards and contexts Player updates their strategy.\n",
    "\n",
    "A common real-world contextual bandit example is a recommendation system. Given a set of presented articles, a reward is determined by the click-through behavior of the user. If user clicks on the article, a payout of 1 is incurred and 0 otherwise. Click-through-rate (CRT) is used to determine the selection and placement of ads within the recommendation application.\n",
    "\n",
    "\n",
    "In explore phase the algorithm, given its internal estimates of goodness of each actions chooses the best possible action modulo exploration. For example, epsilon-greedy chooses the best action with probability (1−ϵ) and with probability ϵ it selects uniformly one of all possible actions.\n",
    "\n",
    "In the learning phase, the algorithm, after it selects an action and obtains a reward, updates its estimates of expected rewards of actions given the context. This is usually done via feeding a single example consisting of x,a,r (context, action, reward) to an estimator model doing a single update step (batch size 1). The learn phase is usually common for most algorithms and the main differences come from the exploration phase. Some algorithms include ϵ-greedy, ensemble of policies or approximations to Lin-UCB. \n",
    "ϵ-greedy tends to be a practical choice for initial experiments since it’s straightforward to understand and control its exploration. "
   ]
  },
  {
   "cell_type": "markdown",
   "id": "dc685243-6acc-460e-b6ba-15aa265daf97",
   "metadata": {
    "id": "dc685243-6acc-460e-b6ba-15aa265daf97"
   },
   "source": [
    "## Dataset: R6A - Yahoo! Front Page Today Module User Click Log Dataset, version 1.0 (1.1 GB)\n",
    "\n",
    "Our dataset contains a fraction of user click log for news articles displayed in the Featured Tab of the Today Module on Yahoo! Front Page (http://www.yahoo.com) during the first ten days in May 2009.  The articles were chosen uniformly at random from a hand-picked pool of high-quality articles, which allows one to use a recently developed method to obtain an unbiased evaluation of an arbitrary bandit algorithm.\n",
    "\n",
    "The dataset contains 45,811,883 user visits to the Today Module.  For each visit, both the user and each of the candidate articles are\n",
    "associated with a feature vector of dimension 6 (including a constant feature), constructed by conjoint analysis with a bilinear model.\n",
    "\n",
    "This dataset contains 10 files, corresponding to the first 10 days in May 2009:\n",
    "    ydata-fp-td-clicks-v1_0.20090501.gz\n",
    "    ydata-fp-td-clicks-v1_0.20090502.gz\n",
    "    ...\n",
    "    ydata-fp-td-clicks-v1_0.20090510.gz\n",
    "Each line in the files corresponds to a separate user visit.  An example line is as follows:\n",
    "\n",
    "1241160900 109513 0 |user 2:0.000012 3:0.000000 4:0.000006 5:0.000023 6:0.999958 1:1.000000 |109498 2:0.306008 3:0.000450 4:0.077048 5:0.230439 6:0.386055 1:1.000000 |109509 2:0.306008 3:0.000450 4:0.077048 5:0.230439 6:0.386055 1:1.000000 [[...more article features omitted...]] |109453 2:0.421669 3:0.000011 4:0.010902 5:0.309585 6:0.257833 1:1.000000\n",
    "\n",
    "which contains the following fields delimited with spaces:\n",
    "\n",
    "    * timestamp: e.g., 1241160900\n",
    "    * displayed_article_id: e.g., 109513\n",
    "    * user_click (0 for no-click and 1 for click): e.g., 0\n",
    "    * strings \"|user\" and \"|{article_id}\" indicate the start of user\n",
    "      and article features\n",
    "    * features are encoded as \"feature_id:feature_value\" pairs, and\n",
    "      feature_id starts from 1.\n",
    "\n",
    "The pool of available articles for recommendation for each user visit is the set of articles that appear in that line of data.  All user IDs (specifically, bcookies) are replaced by a common string 'user' so that no user information can be identified from this data.\n",
    "\n",
    "Each user or article is associated with six features.  Feature #1 is the constant (always 1) feature, and features #2-6 correspond to the 5 membership features constructed via conjoint analysis with a bilinear model.\n",
    "\n",
    "A unique property of this data set is that the displayed article is chosen uniformly at random from the candidate article pool.  Therefore, one can use an unbiased *offline* evaluation method to compare bandit algorithms in a reliable way.  Performance of some of the popular bandit algorithms can be found. We will cover the offline evaluation method in detail in week 4 of the course.\n",
    "\n",
    "The full dataset can be downloaded from:\n",
    "https://webscope.sandbox.yahoo.com/catalog.php?datatype=r&did=49\n",
    "We are going to work with a much smalled sample of this data, which can be downloaded from the Google drive link (data1.txt):\n",
    "https://drive.google.com/drive/folders/10LGZMgXRuz2qPr_QDbYdVVlKEcnQ25YL?usp=sharing\n"
   ]
  },
  {
   "cell_type": "code",
   "execution_count": 50,
   "id": "54535a2f-7d82-489b-aa3f-79d51e3d441e",
   "metadata": {
    "id": "54535a2f-7d82-489b-aa3f-79d51e3d441e"
   },
   "outputs": [],
   "source": [
    "files = (path+\"yahoodata/data1.txt\")"
   ]
  },
  {
   "cell_type": "markdown",
   "id": "8d57d965-645f-4622-b721-7cd11500fc67",
   "metadata": {
    "id": "8d57d965-645f-4622-b721-7cd11500fc67"
   },
   "source": [
    "Now lets write a function to read this file, and store the data in articles / features / events -- which we will treat as global variables accessible to all functions later on."
   ]
  },
  {
   "cell_type": "code",
   "execution_count": 51,
   "id": "a362ca4c-5f65-4f51-99c7-43b62fe6043f",
   "metadata": {
    "id": "a362ca4c-5f65-4f51-99c7-43b62fe6043f"
   },
   "outputs": [],
   "source": [
    "import numpy as np\n",
    "import fileinput\n",
    "\n",
    "def read_data(filenames):\n",
    "    \"\"\"\n",
    "    Reads a stream of events from the list of given files.\n",
    "    \n",
    "    Parameters\n",
    "    ----------\n",
    "    filenames : list\n",
    "        List of filenames\n",
    "    \n",
    "    Stores\n",
    "    -------    \n",
    "    articles : [article_ids]\n",
    "    features : [[article_1_features] .. [article_n_features]]\n",
    "    events : [\n",
    "                 0 : displayed_article_index (relative to the pool),\n",
    "                 1 : user_click,\n",
    "                 2 : [user_features],\n",
    "                 3 : [pool_indexes]\n",
    "             ]\n",
    "    \"\"\"\n",
    "\n",
    "    global articles, features, events, n_arms, n_events\n",
    "    articles = []\n",
    "    features = []\n",
    "    events = []\n",
    "\n",
    "    skipped = 0\n",
    "\n",
    "    with fileinput.input(files=filenames) as f:\n",
    "        for line in f:\n",
    "            cols = line.split()\n",
    "            if (len(cols) - 10) % 7 != 0:\n",
    "                skipped += 1\n",
    "            else:\n",
    "                pool_idx = []\n",
    "                pool_ids = []\n",
    "                for i in range(10, len(cols) - 6, 7):\n",
    "                    id = cols[i][1:]\n",
    "                    if id not in articles:\n",
    "                        articles.append(id)\n",
    "                        features.append([float(x[2:]) for x in cols[i + 1: i + 7]])\n",
    "                    pool_idx.append(articles.index(id))\n",
    "                    pool_ids.append(id)\n",
    "\n",
    "                events.append(\n",
    "                    [\n",
    "                        pool_ids.index(cols[1]),\n",
    "                        int(cols[2]),\n",
    "                        [float(x[2:]) for x in cols[4:10]],\n",
    "                        pool_idx,\n",
    "                    ]\n",
    "                )\n",
    "    features = np.array(features)\n",
    "    n_arms = len(articles)\n",
    "    n_events = len(events)\n",
    "    print(n_events, \"events with\", n_arms, \"articles\")\n",
    "    if skipped != 0:\n",
    "        print(\"Skipped events:\", skipped)"
   ]
  },
  {
   "cell_type": "markdown",
   "id": "888460da-4e01-4168-9573-761cf686786f",
   "metadata": {
    "id": "888460da-4e01-4168-9573-761cf686786f"
   },
   "source": [
    "Now lets read the file with the above defined function:"
   ]
  },
  {
   "cell_type": "code",
   "execution_count": 52,
   "id": "07df3304-6701-47ff-9d0d-d5a59a5b8cb3",
   "metadata": {
    "colab": {
     "base_uri": "https://localhost:8080/"
    },
    "id": "07df3304-6701-47ff-9d0d-d5a59a5b8cb3",
    "outputId": "1a1e21aa-a047-4a08-f066-c9171e683dbe"
   },
   "outputs": [
    {
     "name": "stdout",
     "output_type": "stream",
     "text": [
      "100000 events with 21 articles\n"
     ]
    }
   ],
   "source": [
    "read_data(files)"
   ]
  },
  {
   "cell_type": "markdown",
   "id": "63d941ee-efe5-40ab-83e5-f2152a3e86a1",
   "metadata": {
    "id": "63d941ee-efe5-40ab-83e5-f2152a3e86a1"
   },
   "source": []
  },
  {
   "cell_type": "code",
   "execution_count": 52,
   "id": "d943757e-660c-4648-bd50-1f5c17514e45",
   "metadata": {
    "id": "d943757e-660c-4648-bd50-1f5c17514e45"
   },
   "outputs": [],
   "source": []
  },
  {
   "cell_type": "markdown",
   "id": "95e2039e-43ba-4a09-bbc9-b2b12687e722",
   "metadata": {
    "id": "95e2039e-43ba-4a09-bbc9-b2b12687e722"
   },
   "source": [
    "## ϵ-greedy policy implementation\n",
    "Having read the files, now lets implement a simple ϵ-greedy method. Here ϵ defines the amount of exploration we wish to perform, and for the remaining 1-ϵ times the model prefers exploitation. By convention, “epsilon” represents the percentage of time/trials dedicated for exploration, and it is also typical to do random exploration. This introduces some form of stochasticity.\n",
    "\n",
    "The choose_arm function returns the best arm's index based on the ϵ-greedy policy.\n",
    "The update functiom updates algorithm's parameters(matrices) for the selected arm. It looks at the selected arm, updates the number of times this arm was chosen, and then it updates the mean reward observed for the selected arm."
   ]
  },
  {
   "cell_type": "code",
   "execution_count": 53,
   "id": "d74ce40f-1fda-4397-ae7d-21f6faeacad9",
   "metadata": {
    "id": "d74ce40f-1fda-4397-ae7d-21f6faeacad9"
   },
   "outputs": [],
   "source": [
    "class Egreedy:\n",
    "    \"\"\"\n",
    "    Epsilon greedy algorithm implementation\n",
    "    \"\"\"\n",
    "\n",
    "    def __init__(self, epsilon):\n",
    "        \"\"\"\n",
    "        Parameters\n",
    "        ----------\n",
    "        epsilon : number (Egreedy parameter, ideally between 0 and 1)\n",
    "        \"\"\"\n",
    "\n",
    "        self.e = round(epsilon, 1)  # epsilon parameter for Egreedy \n",
    "        self.algorithm = \"Egreedy (ε=\" + str(self.e) + \")\"\n",
    "        self.q = np.zeros(n_arms)  # average reward for each arm -- this represents the known mean reward for each arm\n",
    "        self.n = np.zeros(n_arms)  # number of times each arm was chosen\n",
    "\n",
    "    def choose_arm(self, t, user, pool_idx):\n",
    "        \"\"\"\n",
    "        Returns the best arm's index relative to the pool\n",
    "        Parameters\n",
    "        ----------\n",
    "        t : number (number of trial)\n",
    "        user : array (user features)\n",
    "        pool_idx : array of indexes (pool indexes for article identification)\n",
    "        \"\"\"\n",
    "\n",
    "        p = np.random.rand()\n",
    "        if p > self.e:\n",
    "            return np.argmax(self.q[pool_idx])\n",
    "        else:\n",
    "            return np.random.randint(low=0, high=len(pool_idx))\n",
    "\n",
    "    def update(self, displayed, reward, user, pool_idx):\n",
    "        \"\"\"\n",
    "        Updates algorithm's parameters(matrices)\n",
    "        Parameters\n",
    "        ----------\n",
    "        displayed : index (displayed article index relative to the pool)\n",
    "        reward : binary (user clicked or not)\n",
    "        user : array (user features)\n",
    "        pool_idx : array of indexes (pool indexes for article identification)\n",
    "        \"\"\"\n",
    "\n",
    "        a = pool_idx[displayed]\n",
    "        \n",
    "        # update counts pulled for chosen arm\n",
    "        self.n[a] += 1\n",
    "        \n",
    "        # update average/mean value/reward for chosen arm\n",
    "        self.q[a] += (reward - self.q[a]) / self.n[a]\n",
    "        \"\"\"\n",
    "        this can also be written as:\n",
    "        value = self.q[a]\n",
    "        new_value = ((self.n[a]-1)/float(self.n[a])) * value + (1 / float(self.n[a])) * reward\n",
    "        self.q[a] = new_value\n",
    "        \"\"\""
   ]
  },
  {
   "cell_type": "code",
   "execution_count": 53,
   "id": "085cd6c7-f260-4c3d-9e66-333b06052a7c",
   "metadata": {
    "id": "085cd6c7-f260-4c3d-9e66-333b06052a7c"
   },
   "outputs": [],
   "source": []
  },
  {
   "cell_type": "markdown",
   "id": "13ca41bc-b6b7-49c3-867b-50bc836ccae3",
   "metadata": {
    "id": "13ca41bc-b6b7-49c3-867b-50bc836ccae3"
   },
   "source": [
    "# Policy evaluation to evaluate contextual bandits\n",
    "\n",
    "We base our evaluation on the seminal work on offline evaluation of bandits as presented in:\n",
    "- [WSDM 2011] Unbiased Offline Evaluation of Contextual-bandit-based News Article Recommendation Algorithms\n",
    "https://arxiv.org/pdf/1003.5956.pdf\n",
    "\n",
    "Compared to machine learning in the more standard supervised learning setting, evaluation of methods in a contextual bandit setting is frustratingly difficult. Our goal here is to measure the performance of a bandit algorithm A, that is, a rule for selecting an arm at each time step based on the preceding interactions and current context.\n",
    "\n",
    "We suppose that there is some unknown distribution D from which tuples are drawn i.i.d. of the form (x, r1, . . . , rK), each consisting of observed context and unobserved payoffs for all arms. We also posit access to a long sequence of logged events resulting from the interaction of the uniformly random logging policy with the world. Each such event consists of the context vector x, a selected arm a, and the resulting observed payoff ra. Crucially, this logged data is partially labeled in the sense that only the payoff ra is observed for the single arm a that was chosen uniformly at random.\n",
    "\n",
    "Our goal is to use this data to evaluate a bandit algorithm A, which is a (possibly randomized) mapping for selecting the arm at at time t based on the history ht−1 of t−1 preceding events together with the current context. Therefore, the data serves as a benchmark, with which people can evaluate and compare different bandit algorithms.\n",
    "\n"
   ]
  },
  {
   "cell_type": "markdown",
   "id": "854372ec-b76f-4c85-a30f-e303979cb9f2",
   "metadata": {
    "id": "854372ec-b76f-4c85-a30f-e303979cb9f2"
   },
   "source": [
    "The policy evaluator is shown in Algorithm 1 above. The method takes as input a bandit algorithm A and a desired\n",
    "number of “valid” events T on which to base the evaluation. We then step through the stream of logged events one by one. If, given the current history ht−1, it happens that the policy A chooses the same arm a as the one that was selected by the logging policy, then the event is retained (that is, added to the history), and the total payoff updated. Otherwise, if the policy A selects a different arm from the one that was taken by the logging policy, then the event is entirely ignored, and the algorithm proceeds to the next event without any change in its state.\n",
    "\n",
    "We next implement this evaluation function below."
   ]
  },
  {
   "cell_type": "code",
   "execution_count": 54,
   "id": "3eb3334e-253f-483c-9e39-4bdda2c3b00e",
   "metadata": {
    "id": "3eb3334e-253f-483c-9e39-4bdda2c3b00e"
   },
   "outputs": [],
   "source": [
    "import random\n",
    "import time\n",
    "\n",
    "def evaluate(A, size=100, learn_ratio = 0.9):\n",
    "    \"\"\"\n",
    "    Policy evaluator as described in the paper\n",
    "    Parameters\n",
    "    ----------\n",
    "    A : class (algorithm)\n",
    "    size : number (run the evaluation only on a portion of the dataset)\n",
    "    learn_ratio : number (perform learning(update parameters) only on a small portion of the traffic)\n",
    "    Returns\n",
    "    -------\n",
    "    learn : array (contains the ctr for each trial for the learning bucket)\n",
    "    deploy : array (contains the ctr for each trial for the deployment bucket)\n",
    "    \"\"\"\n",
    "    \n",
    "    start = time.time()\n",
    "    # we initialize the payoff and events parameters separately for learning phase of the events and deployment phase of events.\n",
    "    Payoff_deploy = 0 # total payoff for the deployment bucket\n",
    "    Payoff_learn = 0  # total payoff for the learning bucket\n",
    "    Events_deploy = 1 # counter of valid events for the deployment bucket\n",
    "    Events_learn = 0  # counter of valid events for the learning bucket\n",
    "\n",
    "    learn = []\n",
    "    deploy = []\n",
    "    global events\n",
    "    if size != 100:\n",
    "        k = int(n_events * size / 100)\n",
    "        events = random.sample(events, k)\n",
    "\n",
    "    \"\"\"\n",
    "    we run through the logged events, and treat each event either for learning & updating the parameters,\n",
    "    or for deployment purposes wherein we use the reward obtained as evaluation metric\n",
    "    \"\"\"\n",
    "    for t, event in enumerate(events):\n",
    "\n",
    "        displayed = event[0]\n",
    "        reward = event[1]\n",
    "        user = event[2]\n",
    "        pool_idx = event[3]\n",
    "\n",
    "        # select the arm based on the bandit policy\n",
    "        chosen = A.choose_arm(Payoff_learn + Payoff_deploy, user, pool_idx)\n",
    "        \n",
    "        \"\"\"\n",
    "        If, given the current history ht−1, it happens that the policy A chooses the same arm a\n",
    "        as the one that was selected by the logging policy, then the event is retained\n",
    "        (that is, added to the history), and the total payoff updated.\n",
    "        Otherwise, if the policy A selects a different arm from the one that was taken by the logging policy,\n",
    "        then the event is entirely ignored, and the algorithm proceeds to the next event without any change in its state.\n",
    "        \"\"\"\n",
    "        if chosen == displayed:\n",
    "            if random.random() < learn_ratio:\n",
    "                Payoff_learn += event[1]\n",
    "                Events_learn += 1\n",
    "                A.update(displayed, reward, user, pool_idx)\n",
    "                learn.append(Payoff_learn / Events_learn)\n",
    "            else:\n",
    "                Payoff_deploy += event[1]\n",
    "                Events_deploy += 1\n",
    "                deploy.append(Payoff_deploy / Events_deploy)\n",
    "\n",
    "    end = time.time()\n",
    "\n",
    "    execution_time = round(end - start, 1)\n",
    "    execution_time = (\n",
    "        str(round(execution_time / 60, 1)) + \"m\"\n",
    "        if execution_time > 60\n",
    "        else str(execution_time) + \"s\"\n",
    "    )\n",
    "    print(\n",
    "        \"{:<20}{:<10}{}\".format(\n",
    "            A.algorithm, round(Payoff_deploy / Events_deploy, 4), execution_time\n",
    "        )\n",
    "    )\n",
    "\n",
    "    return learn, deploy"
   ]
  },
  {
   "cell_type": "code",
   "execution_count": 54,
   "id": "c803ab77-45b6-468d-94b1-5d386fbbdef5",
   "metadata": {
    "id": "c803ab77-45b6-468d-94b1-5d386fbbdef5"
   },
   "outputs": [],
   "source": []
  },
  {
   "cell_type": "markdown",
   "id": "45aa4ece-69ca-4538-a88c-92e9b18a7510",
   "metadata": {
    "id": "45aa4ece-69ca-4538-a88c-92e9b18a7510"
   },
   "source": [
    "Now lets run the evaluation method on the epsilon-greedy policy for different values of epsilon, and print the corresponding reward obtained during deployment phase of evaluation.\n",
    "## Reward based evaluation"
   ]
  },
  {
   "cell_type": "code",
   "execution_count": 55,
   "id": "d226bd62-a6bd-4068-ab5d-4e2bfdf4bb9e",
   "metadata": {
    "colab": {
     "base_uri": "https://localhost:8080/"
    },
    "id": "d226bd62-a6bd-4068-ab5d-4e2bfdf4bb9e",
    "outputId": "e3c6d324-ebe0-4d9c-8575-acbc2946f45f"
   },
   "outputs": [
    {
     "name": "stdout",
     "output_type": "stream",
     "text": [
      "Egreedy (ε=0.1)     0.0226    0.7s\n",
      "Egreedy (ε=0.1)     0.0243    0.7s\n",
      "Egreedy (ε=0.1)     0.0264    0.7s\n",
      "Egreedy (ε=0.2)     0.0354    0.7s\n",
      "Egreedy (ε=0.5)     0.0268    0.7s\n",
      "Egreedy (ε=0.8)     0.0272    0.5s\n"
     ]
    }
   ],
   "source": [
    "_, deploy = evaluate(Egreedy(0.1),learn_ratio=0.25)\n",
    "rnd_ctr = deploy[-1]\n",
    "\n",
    "_, deploy = evaluate(Egreedy(0.1),learn_ratio=0.5)\n",
    "rnd_ctr = deploy[-1]\n",
    "\n",
    "_, deploy = evaluate(Egreedy(0.1),learn_ratio=0.9)\n",
    "rnd_ctr = deploy[-1]\n",
    "\n",
    "_, deploy = evaluate(Egreedy(0.25),learn_ratio=0.5)\n",
    "rnd_ctr = deploy[-1]\n",
    "\n",
    "_, deploy = evaluate(Egreedy(0.5),learn_ratio=0.5)\n",
    "rnd_ctr = deploy[-1]\n",
    "\n",
    "_, deploy = evaluate(Egreedy(0.75),learn_ratio=0.5)\n",
    "rnd_ctr = deploy[-1]"
   ]
  },
  {
   "cell_type": "code",
   "execution_count": 56,
   "id": "7fb3be40-ead6-4ce0-8208-9d003d1c31a4",
   "metadata": {
    "colab": {
     "base_uri": "https://localhost:8080/"
    },
    "id": "7fb3be40-ead6-4ce0-8208-9d003d1c31a4",
    "outputId": "1cea5218-f37d-4c5d-99bd-99736df2638c"
   },
   "outputs": [
    {
     "data": {
      "text/plain": [
       "0.027216494845360824"
      ]
     },
     "execution_count": 56,
     "metadata": {},
     "output_type": "execute_result"
    }
   ],
   "source": [
    "rnd_ctr"
   ]
  },
  {
   "cell_type": "markdown",
   "id": "bd0cfb8e-7c33-4f09-b917-ca26ea091142",
   "metadata": {
    "id": "bd0cfb8e-7c33-4f09-b917-ca26ea091142"
   },
   "source": [
    "# Goal 2: finish the implementation of UCB1 algorithm"
   ]
  },
  {
   "cell_type": "markdown",
   "id": "b8bd37be-bf33-4613-b736-d674dc6d5889",
   "metadata": {
    "id": "b8bd37be-bf33-4613-b736-d674dc6d5889"
   },
   "source": [
    "## UCB-1 algorithm for arm selection\n",
    "\n",
    "Epsilon greedy performs pretty well, but it’s easy to see how selecting arms at random can be inefficient. If you have one movie that 50% of users have liked, and another at 5% have liked, epsilon greedy is equally likely to pick either of these movies when exploring random arms. Upper Confidence Bound algorithms were introduced as a class of bandit algorithm that explores more efficiently.\n",
    "\n",
    "Upper Confidence Bound algorithms construct a confidence interval of what each arm’s true performance might be, factoring in the uncertainty caused by variance in the data and the fact that we’re only able to observe a limited sample of pulls for any given arm. The algorithms then optimistically assume that each arm will perform as well as its upper confidence bound (UCB), selecting the arm with the highest UCB.\n",
    "\n",
    "### Motivation behind UCB\n",
    "Support an Artice A has been seen 100 times and has the best CTR. Article B has a slightly worse CTR than article A, but it hasn’t been seen by as many users, so there’s also more uncertainty about how well it’s going to perform in the long run. For this reason, it has a larger confidence bound, giving it a slightly higher UCB score than article A. Article C was published just moments ago, so almost no users have seen it. We’re extremely uncertain about how high its CTR will ultimately be, so its UCB is highest of all for now despite its initial CTR being low.\n",
    "\n",
    "Over time, more users will see articles B and C, and their confidence bounds will become more narrow and look more like that of article A. As we learn more about B and C, we’ll shift from exploration toward exploitation as the articles’ confidence intervals collapse toward their means. Unless the CTR of article B or C improves, the bandit will quickly start to favor article A again as the other articles’ confidence bounds shrink."
   ]
  },
  {
   "cell_type": "markdown",
   "id": "a209f8cb-1753-4f0c-b855-6ba8c1d99d9f",
   "metadata": {
    "id": "a209f8cb-1753-4f0c-b855-6ba8c1d99d9f"
   },
   "source": [
    "Let $n_t(a)$ be the number of times arm a is selected in rounds 1,2,…,t and $\\mu_t(a)$ be the average reward of arm a up to time t. The upper confidence bound is defined as:\n",
    "\n",
    "$UCB_t(a) = \\mu_t(a)+ \\sqrt{\\frac{2 \\log(t)}{ N_k(t)}}$\n",
    "\n",
    "\n",
    "where $\\mu_t(a)$ can be computed as `rewards[k] / pulls[k]` and the bound can be computed as `sqrt((2 * log(t)) / pulls[k]`.\n",
    "\n",
    "The UCB1 algorithm chooses the best arm based on an optimistic estimate.\n"
   ]
  },
  {
   "cell_type": "code",
   "execution_count": 57,
   "id": "f5881aa5-6396-469d-a582-95af04e2224a",
   "metadata": {
    "id": "f5881aa5-6396-469d-a582-95af04e2224a"
   },
   "outputs": [],
   "source": [
    "class Ucb1:\n",
    "    def __init__(self, alpha):\n",
    "        \"\"\"\n",
    "        Parameters\n",
    "        ----------\n",
    "        alpha : number (ucb parameter)\n",
    "        \"\"\"\n",
    "\n",
    "        self.alpha = round(alpha, 1)\n",
    "        self.algorithm = \"UCB1 (α=\" + str(self.alpha) + \")\"\n",
    "\n",
    "        self.q = np.zeros(n_arms)  # average reward for each arm\n",
    "        self.n = np.ones(n_arms)  # number of times each arm was chosen\n",
    "\n",
    "    def choose_arm(self, t, user, pool_idx):\n",
    "        \"\"\"\n",
    "        Returns the best arm's index relative to the pool\n",
    "        Parameters\n",
    "        ----------\n",
    "        t : number (number of trial)\n",
    "        user : array (user features)\n",
    "        pool_idx : array of indexes (pool indexes for article identification)\n",
    "        \"\"\"\n",
    "        # Treatment to init the flow (works as E-greedy here)\n",
    "        if(t==0):\n",
    "          return np.argmax(self.q[pool_idx])\n",
    "\n",
    "        # Keeps a list of arms to return (depending on alpha)\n",
    "        arms = []\n",
    "        # For each arm / article\n",
    "        for a in pool_idx:\n",
    "                 \n",
    "          ut = self.q[a] / self.n[a]\n",
    "          \n",
    "          bound = np.sqrt((2 * np.log(t)) / self.n[a])\n",
    "          ucb = ut + bound\n",
    "      \n",
    "          if ucb > self.alpha:\n",
    "            arms.append(a)\n",
    "\n",
    "        if(len(arms)>0):\n",
    "          return np.argmax(self.q[arms])\n",
    "\n",
    "        return np.argmax(self.q[pool_idx])\n",
    "                \n",
    "\n",
    "\n",
    "\n",
    "    def update(self, displayed, reward, user, pool_idx):\n",
    "        \"\"\"\n",
    "        Updates algorithm's parameters(matrices)\n",
    "        Parameters\n",
    "        ----------\n",
    "        displayed : index (displayed article index relative to the pool)\n",
    "        reward : binary (user clicked or not)\n",
    "        user : array (user features)\n",
    "        pool_idx : array of indexes (pool indexes for article identification)\n",
    "        \"\"\"\n",
    "\n",
    "        a = pool_idx[displayed]\n",
    "\n",
    "         # update counts pulled for chosen arm\n",
    "        self.n[a] += 1\n",
    "        \n",
    "        # update average/mean value/reward for chosen arm\n",
    "        self.q[a] += (reward - self.q[a]) / self.n[a]\n"
   ]
  },
  {
   "cell_type": "markdown",
   "id": "1d34852c-8ccf-4455-9863-5a5acc8e56f9",
   "metadata": {
    "id": "1d34852c-8ccf-4455-9863-5a5acc8e56f9"
   },
   "source": [
    "One of the most important features of the UCB is that it not only exponentially decays as the number of pulls on the given machine increases, but also increases as the timestep increases. In other words, arms that have been explored less are given a boost even if their estimated mean is low, especially if we’ve been playing for a while. In this way, the UCB1 algorithm is able to naturally define its own mix of exploration vs. exploitation without depending on a user supplied parameter like epsilon greedy."
   ]
  },
  {
   "cell_type": "markdown",
   "id": "289e5976-b260-4df9-a00c-5ffe78ae46f0",
   "metadata": {
    "id": "289e5976-b260-4df9-a00c-5ffe78ae46f0"
   },
   "source": [
    "### Goal 2 for this week's project\n",
    "Finish the implementation of the UCB1 class above, and evaluate it for a set of parameters and compare its performance with respect to ϵ-greedy policy."
   ]
  },
  {
   "cell_type": "code",
   "execution_count": 58,
   "id": "44ac4c75-1e33-48f4-a3bb-fcd8cea76d77",
   "metadata": {
    "colab": {
     "base_uri": "https://localhost:8080/"
    },
    "id": "44ac4c75-1e33-48f4-a3bb-fcd8cea76d77",
    "outputId": "ec07313a-a758-4351-f2b5-0530625f1964"
   },
   "outputs": [
    {
     "name": "stdout",
     "output_type": "stream",
     "text": [
      "UCB1 (α=0.1)        0.0233    13.4s\n"
     ]
    }
   ],
   "source": [
    "_, deploy = evaluate(Ucb1(0.1))\n",
    "rnd_ctr = deploy[-1]"
   ]
  },
  {
   "cell_type": "code",
   "execution_count": 60,
   "id": "b5711ffd-2cab-43d1-8972-9b3b26cb14a4",
   "metadata": {
    "colab": {
     "base_uri": "https://localhost:8080/"
    },
    "id": "b5711ffd-2cab-43d1-8972-9b3b26cb14a4",
    "outputId": "4d8703fd-a1e5-4554-8882-634b214b5176"
   },
   "outputs": [
    {
     "name": "stdout",
     "output_type": "stream",
     "text": [
      "UCB1 (α=0.1)        0.0204    12.3s\n",
      "UCB1 (α=0.1)        0.0167    11.9s\n",
      "UCB1 (α=0.2)        0.0183    11.6s\n",
      "UCB1 (α=0.5)        0.0191    12.3s\n",
      "UCB1 (α=0.8)        0.0196    12.2s\n",
      "UCB1 (α=1)          0.0259    14.0s\n",
      "UCB1 (α=2)          0.0179    14.5s\n"
     ]
    }
   ],
   "source": [
    "_, deploy = evaluate(Ucb1(0.1),learn_ratio=0.25)\n",
    "rnd_ctr = deploy[-1]\n",
    "\n",
    "_, deploy = evaluate(Ucb1(0.1),learn_ratio=0.5)\n",
    "rnd_ctr = deploy[-1]\n",
    "\n",
    "_, deploy = evaluate(Ucb1(0.25),learn_ratio=0.5)\n",
    "rnd_ctr = deploy[-1]\n",
    "\n",
    "_, deploy = evaluate(Ucb1(0.5),learn_ratio=0.5)\n",
    "rnd_ctr = deploy[-1]\n",
    "\n",
    "_, deploy = evaluate(Ucb1(0.75),learn_ratio=0.5)\n",
    "rnd_ctr = deploy[-1]\n",
    "\n",
    "_, deploy = evaluate(Ucb1(1),learn_ratio=0.5)\n",
    "rnd_ctr = deploy[-1]\n",
    "\n",
    "_, deploy = evaluate(Ucb1(2),learn_ratio=0.5)\n",
    "rnd_ctr = deploy[-1]"
   ]
  },
  {
   "cell_type": "markdown",
   "id": "fAFYc-OTpibv",
   "metadata": {
    "id": "fAFYc-OTpibv"
   },
   "source": [
    "Well, when comparing to egreedy's best result, I got these numbers:\n",
    "\n",
    "Egreedy @ ε=0.1 = CTR 3.54\n",
    "\n",
    "UCB @ α=0.1 and lr = 0.5 = CTR 2.26"
   ]
  }
 ],
 "metadata": {
  "accelerator": "TPU",
  "colab": {
   "collapsed_sections": [],
   "name": "Cópia de week2-multiTask-Bandit-final.ipynb",
   "provenance": []
  },
  "environment": {
   "kernel": "python3",
   "name": "tf2-gpu.2-6.m89",
   "type": "gcloud",
   "uri": "gcr.io/deeplearning-platform-release/tf2-gpu.2-6:m89"
  },
  "gpuClass": "standard",
  "kernelspec": {
   "display_name": "Python 3",
   "language": "python",
   "name": "python3"
  },
  "language_info": {
   "codemirror_mode": {
    "name": "ipython",
    "version": 3
   },
   "file_extension": ".py",
   "mimetype": "text/x-python",
   "name": "python",
   "nbconvert_exporter": "python",
   "pygments_lexer": "ipython3",
   "version": "3.8.8"
  }
 },
 "nbformat": 4,
 "nbformat_minor": 5
}
